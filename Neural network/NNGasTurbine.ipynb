{
 "cells": [
  {
   "cell_type": "markdown",
   "id": "6f2bd373",
   "metadata": {},
   "source": [
    "#  Question 1 "
   ]
  },
  {
   "cell_type": "markdown",
   "id": "ea974e8a",
   "metadata": {},
   "source": [
    "#   Neural Netwok for Gas Turbines"
   ]
  },
  {
   "cell_type": "code",
   "execution_count": 1,
   "id": "e66b6a9d",
   "metadata": {
    "ExecuteTime": {
     "end_time": "2021-04-29T02:35:56.097510Z",
     "start_time": "2021-04-29T02:34:22.535356Z"
    }
   },
   "outputs": [],
   "source": [
    "import pandas as pd\n",
    "import numpy as np\n",
    "from math import sqrt\n",
    "import matplotlib.pyplot as plt\n",
    "from sklearn.model_selection import train_test_split\n",
    "from sklearn.metrics import mean_squared_error\n",
    "from sklearn.metrics import mean_absolute_error\n",
    "from sklearn.metrics import mean_absolute_percentage_error\n",
    "from sklearn.preprocessing import StandardScaler\n",
    "import tensorflow as tf\n",
    "from tensorflow.python.keras.models import Sequential\n",
    "from tensorflow.python.keras.layers import Dense"
   ]
  },
  {
   "cell_type": "code",
   "execution_count": 2,
   "id": "fc4a13d1",
   "metadata": {
    "ExecuteTime": {
     "end_time": "2021-04-29T02:36:03.627070Z",
     "start_time": "2021-04-29T02:36:02.679754Z"
    }
   },
   "outputs": [
    {
     "data": {
      "text/html": [
       "<div>\n",
       "<style scoped>\n",
       "    .dataframe tbody tr th:only-of-type {\n",
       "        vertical-align: middle;\n",
       "    }\n",
       "\n",
       "    .dataframe tbody tr th {\n",
       "        vertical-align: top;\n",
       "    }\n",
       "\n",
       "    .dataframe thead th {\n",
       "        text-align: right;\n",
       "    }\n",
       "</style>\n",
       "<table border=\"1\" class=\"dataframe\">\n",
       "  <thead>\n",
       "    <tr style=\"text-align: right;\">\n",
       "      <th></th>\n",
       "      <th>AT</th>\n",
       "      <th>AP</th>\n",
       "      <th>AH</th>\n",
       "      <th>AFDP</th>\n",
       "      <th>GTEP</th>\n",
       "      <th>TIT</th>\n",
       "      <th>TAT</th>\n",
       "      <th>TEY</th>\n",
       "      <th>CDP</th>\n",
       "      <th>CO</th>\n",
       "      <th>NOX</th>\n",
       "    </tr>\n",
       "  </thead>\n",
       "  <tbody>\n",
       "    <tr>\n",
       "      <th>0</th>\n",
       "      <td>6.8594</td>\n",
       "      <td>1007.9</td>\n",
       "      <td>96.799</td>\n",
       "      <td>3.5000</td>\n",
       "      <td>19.663</td>\n",
       "      <td>1059.2</td>\n",
       "      <td>550.00</td>\n",
       "      <td>114.70</td>\n",
       "      <td>10.605</td>\n",
       "      <td>3.1547</td>\n",
       "      <td>82.722</td>\n",
       "    </tr>\n",
       "    <tr>\n",
       "      <th>1</th>\n",
       "      <td>6.7850</td>\n",
       "      <td>1008.4</td>\n",
       "      <td>97.118</td>\n",
       "      <td>3.4998</td>\n",
       "      <td>19.728</td>\n",
       "      <td>1059.3</td>\n",
       "      <td>550.00</td>\n",
       "      <td>114.72</td>\n",
       "      <td>10.598</td>\n",
       "      <td>3.2363</td>\n",
       "      <td>82.776</td>\n",
       "    </tr>\n",
       "    <tr>\n",
       "      <th>2</th>\n",
       "      <td>6.8977</td>\n",
       "      <td>1008.8</td>\n",
       "      <td>95.939</td>\n",
       "      <td>3.4824</td>\n",
       "      <td>19.779</td>\n",
       "      <td>1059.4</td>\n",
       "      <td>549.87</td>\n",
       "      <td>114.71</td>\n",
       "      <td>10.601</td>\n",
       "      <td>3.2012</td>\n",
       "      <td>82.468</td>\n",
       "    </tr>\n",
       "    <tr>\n",
       "      <th>3</th>\n",
       "      <td>7.0569</td>\n",
       "      <td>1009.2</td>\n",
       "      <td>95.249</td>\n",
       "      <td>3.4805</td>\n",
       "      <td>19.792</td>\n",
       "      <td>1059.6</td>\n",
       "      <td>549.99</td>\n",
       "      <td>114.72</td>\n",
       "      <td>10.606</td>\n",
       "      <td>3.1923</td>\n",
       "      <td>82.670</td>\n",
       "    </tr>\n",
       "    <tr>\n",
       "      <th>4</th>\n",
       "      <td>7.3978</td>\n",
       "      <td>1009.7</td>\n",
       "      <td>95.150</td>\n",
       "      <td>3.4976</td>\n",
       "      <td>19.765</td>\n",
       "      <td>1059.7</td>\n",
       "      <td>549.98</td>\n",
       "      <td>114.72</td>\n",
       "      <td>10.612</td>\n",
       "      <td>3.2484</td>\n",
       "      <td>82.311</td>\n",
       "    </tr>\n",
       "    <tr>\n",
       "      <th>...</th>\n",
       "      <td>...</td>\n",
       "      <td>...</td>\n",
       "      <td>...</td>\n",
       "      <td>...</td>\n",
       "      <td>...</td>\n",
       "      <td>...</td>\n",
       "      <td>...</td>\n",
       "      <td>...</td>\n",
       "      <td>...</td>\n",
       "      <td>...</td>\n",
       "      <td>...</td>\n",
       "    </tr>\n",
       "    <tr>\n",
       "      <th>15034</th>\n",
       "      <td>9.0301</td>\n",
       "      <td>1005.6</td>\n",
       "      <td>98.460</td>\n",
       "      <td>3.5421</td>\n",
       "      <td>19.164</td>\n",
       "      <td>1049.7</td>\n",
       "      <td>546.21</td>\n",
       "      <td>111.61</td>\n",
       "      <td>10.400</td>\n",
       "      <td>4.5186</td>\n",
       "      <td>79.559</td>\n",
       "    </tr>\n",
       "    <tr>\n",
       "      <th>15035</th>\n",
       "      <td>7.8879</td>\n",
       "      <td>1005.9</td>\n",
       "      <td>99.093</td>\n",
       "      <td>3.5059</td>\n",
       "      <td>19.414</td>\n",
       "      <td>1046.3</td>\n",
       "      <td>543.22</td>\n",
       "      <td>111.78</td>\n",
       "      <td>10.433</td>\n",
       "      <td>4.8470</td>\n",
       "      <td>79.917</td>\n",
       "    </tr>\n",
       "    <tr>\n",
       "      <th>15036</th>\n",
       "      <td>7.2647</td>\n",
       "      <td>1006.3</td>\n",
       "      <td>99.496</td>\n",
       "      <td>3.4770</td>\n",
       "      <td>19.530</td>\n",
       "      <td>1037.7</td>\n",
       "      <td>537.32</td>\n",
       "      <td>110.19</td>\n",
       "      <td>10.483</td>\n",
       "      <td>7.9632</td>\n",
       "      <td>90.912</td>\n",
       "    </tr>\n",
       "    <tr>\n",
       "      <th>15037</th>\n",
       "      <td>7.0060</td>\n",
       "      <td>1006.8</td>\n",
       "      <td>99.008</td>\n",
       "      <td>3.4486</td>\n",
       "      <td>19.377</td>\n",
       "      <td>1043.2</td>\n",
       "      <td>541.24</td>\n",
       "      <td>110.74</td>\n",
       "      <td>10.533</td>\n",
       "      <td>6.2494</td>\n",
       "      <td>93.227</td>\n",
       "    </tr>\n",
       "    <tr>\n",
       "      <th>15038</th>\n",
       "      <td>6.9279</td>\n",
       "      <td>1007.2</td>\n",
       "      <td>97.533</td>\n",
       "      <td>3.4275</td>\n",
       "      <td>19.306</td>\n",
       "      <td>1049.9</td>\n",
       "      <td>545.85</td>\n",
       "      <td>111.58</td>\n",
       "      <td>10.583</td>\n",
       "      <td>4.9816</td>\n",
       "      <td>92.498</td>\n",
       "    </tr>\n",
       "  </tbody>\n",
       "</table>\n",
       "<p>15039 rows × 11 columns</p>\n",
       "</div>"
      ],
      "text/plain": [
       "           AT      AP      AH    AFDP    GTEP     TIT     TAT     TEY     CDP  \\\n",
       "0      6.8594  1007.9  96.799  3.5000  19.663  1059.2  550.00  114.70  10.605   \n",
       "1      6.7850  1008.4  97.118  3.4998  19.728  1059.3  550.00  114.72  10.598   \n",
       "2      6.8977  1008.8  95.939  3.4824  19.779  1059.4  549.87  114.71  10.601   \n",
       "3      7.0569  1009.2  95.249  3.4805  19.792  1059.6  549.99  114.72  10.606   \n",
       "4      7.3978  1009.7  95.150  3.4976  19.765  1059.7  549.98  114.72  10.612   \n",
       "...       ...     ...     ...     ...     ...     ...     ...     ...     ...   \n",
       "15034  9.0301  1005.6  98.460  3.5421  19.164  1049.7  546.21  111.61  10.400   \n",
       "15035  7.8879  1005.9  99.093  3.5059  19.414  1046.3  543.22  111.78  10.433   \n",
       "15036  7.2647  1006.3  99.496  3.4770  19.530  1037.7  537.32  110.19  10.483   \n",
       "15037  7.0060  1006.8  99.008  3.4486  19.377  1043.2  541.24  110.74  10.533   \n",
       "15038  6.9279  1007.2  97.533  3.4275  19.306  1049.9  545.85  111.58  10.583   \n",
       "\n",
       "           CO     NOX  \n",
       "0      3.1547  82.722  \n",
       "1      3.2363  82.776  \n",
       "2      3.2012  82.468  \n",
       "3      3.1923  82.670  \n",
       "4      3.2484  82.311  \n",
       "...       ...     ...  \n",
       "15034  4.5186  79.559  \n",
       "15035  4.8470  79.917  \n",
       "15036  7.9632  90.912  \n",
       "15037  6.2494  93.227  \n",
       "15038  4.9816  92.498  \n",
       "\n",
       "[15039 rows x 11 columns]"
      ]
     },
     "execution_count": 2,
     "metadata": {},
     "output_type": "execute_result"
    }
   ],
   "source": [
    "gas_turbine = pd.read_csv(\"gas_turbines.csv\")\n",
    "gas_turbine"
   ]
  },
  {
   "cell_type": "markdown",
   "id": "759ede1b",
   "metadata": {},
   "source": [
    "###  Preprocessing the dataset "
   ]
  },
  {
   "cell_type": "code",
   "execution_count": 3,
   "id": "46947e51",
   "metadata": {
    "ExecuteTime": {
     "end_time": "2021-04-29T02:36:12.986751Z",
     "start_time": "2021-04-29T02:36:12.659532Z"
    }
   },
   "outputs": [
    {
     "data": {
      "text/html": [
       "<div>\n",
       "<style scoped>\n",
       "    .dataframe tbody tr th:only-of-type {\n",
       "        vertical-align: middle;\n",
       "    }\n",
       "\n",
       "    .dataframe tbody tr th {\n",
       "        vertical-align: top;\n",
       "    }\n",
       "\n",
       "    .dataframe thead th {\n",
       "        text-align: right;\n",
       "    }\n",
       "</style>\n",
       "<table border=\"1\" class=\"dataframe\">\n",
       "  <thead>\n",
       "    <tr style=\"text-align: right;\">\n",
       "      <th></th>\n",
       "      <th>AT</th>\n",
       "      <th>AP</th>\n",
       "      <th>AH</th>\n",
       "      <th>AFDP</th>\n",
       "      <th>GTEP</th>\n",
       "      <th>TIT</th>\n",
       "      <th>TAT</th>\n",
       "      <th>TEY</th>\n",
       "      <th>CDP</th>\n",
       "      <th>CO</th>\n",
       "      <th>NOX</th>\n",
       "    </tr>\n",
       "  </thead>\n",
       "  <tbody>\n",
       "    <tr>\n",
       "      <th>count</th>\n",
       "      <td>15039.000000</td>\n",
       "      <td>15039.00000</td>\n",
       "      <td>15039.000000</td>\n",
       "      <td>15039.000000</td>\n",
       "      <td>15039.000000</td>\n",
       "      <td>15039.000000</td>\n",
       "      <td>15039.000000</td>\n",
       "      <td>15039.000000</td>\n",
       "      <td>15039.000000</td>\n",
       "      <td>15039.000000</td>\n",
       "      <td>15039.000000</td>\n",
       "    </tr>\n",
       "    <tr>\n",
       "      <th>mean</th>\n",
       "      <td>17.764381</td>\n",
       "      <td>1013.19924</td>\n",
       "      <td>79.124174</td>\n",
       "      <td>4.200294</td>\n",
       "      <td>25.419061</td>\n",
       "      <td>1083.798770</td>\n",
       "      <td>545.396183</td>\n",
       "      <td>134.188464</td>\n",
       "      <td>12.102353</td>\n",
       "      <td>1.972499</td>\n",
       "      <td>68.190934</td>\n",
       "    </tr>\n",
       "    <tr>\n",
       "      <th>std</th>\n",
       "      <td>7.574323</td>\n",
       "      <td>6.41076</td>\n",
       "      <td>13.793439</td>\n",
       "      <td>0.760197</td>\n",
       "      <td>4.173916</td>\n",
       "      <td>16.527806</td>\n",
       "      <td>7.866803</td>\n",
       "      <td>15.829717</td>\n",
       "      <td>1.103196</td>\n",
       "      <td>2.222206</td>\n",
       "      <td>10.470586</td>\n",
       "    </tr>\n",
       "    <tr>\n",
       "      <th>min</th>\n",
       "      <td>0.522300</td>\n",
       "      <td>985.85000</td>\n",
       "      <td>30.344000</td>\n",
       "      <td>2.087400</td>\n",
       "      <td>17.878000</td>\n",
       "      <td>1000.800000</td>\n",
       "      <td>512.450000</td>\n",
       "      <td>100.170000</td>\n",
       "      <td>9.904400</td>\n",
       "      <td>0.000388</td>\n",
       "      <td>27.765000</td>\n",
       "    </tr>\n",
       "    <tr>\n",
       "      <th>25%</th>\n",
       "      <td>11.408000</td>\n",
       "      <td>1008.90000</td>\n",
       "      <td>69.750000</td>\n",
       "      <td>3.723900</td>\n",
       "      <td>23.294000</td>\n",
       "      <td>1079.600000</td>\n",
       "      <td>542.170000</td>\n",
       "      <td>127.985000</td>\n",
       "      <td>11.622000</td>\n",
       "      <td>0.858055</td>\n",
       "      <td>61.303500</td>\n",
       "    </tr>\n",
       "    <tr>\n",
       "      <th>50%</th>\n",
       "      <td>18.186000</td>\n",
       "      <td>1012.80000</td>\n",
       "      <td>82.266000</td>\n",
       "      <td>4.186200</td>\n",
       "      <td>25.082000</td>\n",
       "      <td>1088.700000</td>\n",
       "      <td>549.890000</td>\n",
       "      <td>133.780000</td>\n",
       "      <td>12.025000</td>\n",
       "      <td>1.390200</td>\n",
       "      <td>66.601000</td>\n",
       "    </tr>\n",
       "    <tr>\n",
       "      <th>75%</th>\n",
       "      <td>23.862500</td>\n",
       "      <td>1016.90000</td>\n",
       "      <td>90.043500</td>\n",
       "      <td>4.550900</td>\n",
       "      <td>27.184000</td>\n",
       "      <td>1096.000000</td>\n",
       "      <td>550.060000</td>\n",
       "      <td>140.895000</td>\n",
       "      <td>12.578000</td>\n",
       "      <td>2.160400</td>\n",
       "      <td>73.935500</td>\n",
       "    </tr>\n",
       "    <tr>\n",
       "      <th>max</th>\n",
       "      <td>34.929000</td>\n",
       "      <td>1034.20000</td>\n",
       "      <td>100.200000</td>\n",
       "      <td>7.610600</td>\n",
       "      <td>37.402000</td>\n",
       "      <td>1100.800000</td>\n",
       "      <td>550.610000</td>\n",
       "      <td>174.610000</td>\n",
       "      <td>15.081000</td>\n",
       "      <td>44.103000</td>\n",
       "      <td>119.890000</td>\n",
       "    </tr>\n",
       "  </tbody>\n",
       "</table>\n",
       "</div>"
      ],
      "text/plain": [
       "                 AT           AP            AH          AFDP          GTEP  \\\n",
       "count  15039.000000  15039.00000  15039.000000  15039.000000  15039.000000   \n",
       "mean      17.764381   1013.19924     79.124174      4.200294     25.419061   \n",
       "std        7.574323      6.41076     13.793439      0.760197      4.173916   \n",
       "min        0.522300    985.85000     30.344000      2.087400     17.878000   \n",
       "25%       11.408000   1008.90000     69.750000      3.723900     23.294000   \n",
       "50%       18.186000   1012.80000     82.266000      4.186200     25.082000   \n",
       "75%       23.862500   1016.90000     90.043500      4.550900     27.184000   \n",
       "max       34.929000   1034.20000    100.200000      7.610600     37.402000   \n",
       "\n",
       "                TIT           TAT           TEY           CDP            CO  \\\n",
       "count  15039.000000  15039.000000  15039.000000  15039.000000  15039.000000   \n",
       "mean    1083.798770    545.396183    134.188464     12.102353      1.972499   \n",
       "std       16.527806      7.866803     15.829717      1.103196      2.222206   \n",
       "min     1000.800000    512.450000    100.170000      9.904400      0.000388   \n",
       "25%     1079.600000    542.170000    127.985000     11.622000      0.858055   \n",
       "50%     1088.700000    549.890000    133.780000     12.025000      1.390200   \n",
       "75%     1096.000000    550.060000    140.895000     12.578000      2.160400   \n",
       "max     1100.800000    550.610000    174.610000     15.081000     44.103000   \n",
       "\n",
       "                NOX  \n",
       "count  15039.000000  \n",
       "mean      68.190934  \n",
       "std       10.470586  \n",
       "min       27.765000  \n",
       "25%       61.303500  \n",
       "50%       66.601000  \n",
       "75%       73.935500  \n",
       "max      119.890000  "
      ]
     },
     "execution_count": 3,
     "metadata": {},
     "output_type": "execute_result"
    }
   ],
   "source": [
    "gas_turbine.describe()"
   ]
  },
  {
   "cell_type": "code",
   "execution_count": 4,
   "id": "3be4f8f5",
   "metadata": {
    "ExecuteTime": {
     "end_time": "2021-04-29T02:36:14.088723Z",
     "start_time": "2021-04-29T02:36:13.974641Z"
    }
   },
   "outputs": [
    {
     "name": "stdout",
     "output_type": "stream",
     "text": [
      "<class 'pandas.core.frame.DataFrame'>\n",
      "RangeIndex: 15039 entries, 0 to 15038\n",
      "Data columns (total 11 columns):\n",
      " #   Column  Non-Null Count  Dtype  \n",
      "---  ------  --------------  -----  \n",
      " 0   AT      15039 non-null  float64\n",
      " 1   AP      15039 non-null  float64\n",
      " 2   AH      15039 non-null  float64\n",
      " 3   AFDP    15039 non-null  float64\n",
      " 4   GTEP    15039 non-null  float64\n",
      " 5   TIT     15039 non-null  float64\n",
      " 6   TAT     15039 non-null  float64\n",
      " 7   TEY     15039 non-null  float64\n",
      " 8   CDP     15039 non-null  float64\n",
      " 9   CO      15039 non-null  float64\n",
      " 10  NOX     15039 non-null  float64\n",
      "dtypes: float64(11)\n",
      "memory usage: 1.3 MB\n"
     ]
    }
   ],
   "source": [
    "gas_turbine.info()"
   ]
  },
  {
   "cell_type": "code",
   "execution_count": 5,
   "id": "82c69e75",
   "metadata": {
    "ExecuteTime": {
     "end_time": "2021-04-29T02:36:15.131487Z",
     "start_time": "2021-04-29T02:36:15.111475Z"
    }
   },
   "outputs": [],
   "source": [
    "x = gas_turbine.drop([\"TEY\"],axis=1).values\n",
    "y = gas_turbine.iloc[:,7].values"
   ]
  },
  {
   "cell_type": "code",
   "execution_count": 6,
   "id": "de402288",
   "metadata": {
    "ExecuteTime": {
     "end_time": "2021-04-29T02:36:16.198594Z",
     "start_time": "2021-04-29T02:36:16.173576Z"
    }
   },
   "outputs": [
    {
     "data": {
      "text/plain": [
       "array([[   6.8594, 1007.9   ,   96.799 , ...,   10.605 ,    3.1547,\n",
       "          82.722 ],\n",
       "       [   6.785 , 1008.4   ,   97.118 , ...,   10.598 ,    3.2363,\n",
       "          82.776 ],\n",
       "       [   6.8977, 1008.8   ,   95.939 , ...,   10.601 ,    3.2012,\n",
       "          82.468 ],\n",
       "       ...,\n",
       "       [   7.2647, 1006.3   ,   99.496 , ...,   10.483 ,    7.9632,\n",
       "          90.912 ],\n",
       "       [   7.006 , 1006.8   ,   99.008 , ...,   10.533 ,    6.2494,\n",
       "          93.227 ],\n",
       "       [   6.9279, 1007.2   ,   97.533 , ...,   10.583 ,    4.9816,\n",
       "          92.498 ]])"
      ]
     },
     "execution_count": 6,
     "metadata": {},
     "output_type": "execute_result"
    }
   ],
   "source": [
    "x"
   ]
  },
  {
   "cell_type": "code",
   "execution_count": 7,
   "id": "9fa5560c",
   "metadata": {
    "ExecuteTime": {
     "end_time": "2021-04-29T02:36:17.202265Z",
     "start_time": "2021-04-29T02:36:17.181249Z"
    }
   },
   "outputs": [
    {
     "data": {
      "text/plain": [
       "array([114.7 , 114.72, 114.71, ..., 110.19, 110.74, 111.58])"
      ]
     },
     "execution_count": 7,
     "metadata": {},
     "output_type": "execute_result"
    }
   ],
   "source": [
    "y"
   ]
  },
  {
   "cell_type": "markdown",
   "id": "1df407b2",
   "metadata": {},
   "source": [
    "###   The y variable is continuous in nature so it is a regression problem"
   ]
  },
  {
   "cell_type": "markdown",
   "id": "e5e53d2e",
   "metadata": {},
   "source": [
    "###   Splitting the dataset"
   ]
  },
  {
   "cell_type": "code",
   "execution_count": 9,
   "id": "9235de3e",
   "metadata": {
    "ExecuteTime": {
     "end_time": "2021-04-29T02:36:31.893499Z",
     "start_time": "2021-04-29T02:36:31.869481Z"
    }
   },
   "outputs": [],
   "source": [
    "X_train,X_test,y_train,y_test = train_test_split(x,y, test_size=0.25, random_state=10)"
   ]
  },
  {
   "cell_type": "code",
   "execution_count": 10,
   "id": "7ae7cbd8",
   "metadata": {
    "ExecuteTime": {
     "end_time": "2021-04-29T02:36:33.409511Z",
     "start_time": "2021-04-29T02:36:33.394501Z"
    }
   },
   "outputs": [
    {
     "data": {
      "text/plain": [
       "(11279, 10)"
      ]
     },
     "execution_count": 10,
     "metadata": {},
     "output_type": "execute_result"
    }
   ],
   "source": [
    "X_train.shape"
   ]
  },
  {
   "cell_type": "code",
   "execution_count": 11,
   "id": "01fb21b8",
   "metadata": {
    "ExecuteTime": {
     "end_time": "2021-04-29T02:36:35.075679Z",
     "start_time": "2021-04-29T02:36:35.029650Z"
    }
   },
   "outputs": [],
   "source": [
    "x_train= StandardScaler().fit_transform(X_train)\n",
    "x_test = StandardScaler().fit_transform(X_test)"
   ]
  },
  {
   "cell_type": "markdown",
   "id": "cc2a01b8",
   "metadata": {},
   "source": [
    "###  The goal is to predict turbine energy yield(TEY) which is a continuous value. So its a probem of regression. So, here we are using mean absolute error loss function because it is more robust to outliers than mean sqaured error .Inorder to keep track of the other errors we set other two metrics which are mean squared error (mse) and mean absolute percentage error (mape)."
   ]
  },
  {
   "cell_type": "markdown",
   "id": "34eba144",
   "metadata": {},
   "source": [
    "###   Building the model "
   ]
  },
  {
   "cell_type": "code",
   "execution_count": 12,
   "id": "e8cc82a9",
   "metadata": {
    "ExecuteTime": {
     "end_time": "2021-04-29T02:36:48.463656Z",
     "start_time": "2021-04-29T02:36:45.406371Z"
    }
   },
   "outputs": [],
   "source": [
    "model = Sequential()\n",
    "model.add(Dense(12, input_dim=10, kernel_initializer='uniform', activation='relu',input_shape=(10,)))\n",
    "model.add(Dense(8, kernel_initializer='uniform', activation='relu'))\n",
    "model.add(Dense(8, kernel_initializer='uniform', activation='relu'))\n",
    "model.add(Dense(1, kernel_initializer='uniform', activation='sigmoid'))"
   ]
  },
  {
   "cell_type": "markdown",
   "id": "eddd7706",
   "metadata": {},
   "source": [
    "###  Compiling the model"
   ]
  },
  {
   "cell_type": "code",
   "execution_count": 13,
   "id": "464c32e5",
   "metadata": {
    "ExecuteTime": {
     "end_time": "2021-04-29T02:36:53.855333Z",
     "start_time": "2021-04-29T02:36:53.770276Z"
    }
   },
   "outputs": [],
   "source": [
    "model.compile(loss='mean_absolute_error', optimizer='adam', metrics=['mse', 'mape'])"
   ]
  },
  {
   "cell_type": "code",
   "execution_count": 14,
   "id": "1e9cd5b1",
   "metadata": {
    "ExecuteTime": {
     "end_time": "2021-04-29T02:36:55.544461Z",
     "start_time": "2021-04-29T02:36:55.517443Z"
    }
   },
   "outputs": [
    {
     "name": "stdout",
     "output_type": "stream",
     "text": [
      "Model: \"sequential\"\n",
      "_________________________________________________________________\n",
      "Layer (type)                 Output Shape              Param #   \n",
      "=================================================================\n",
      "dense (Dense)                (None, 12)                132       \n",
      "_________________________________________________________________\n",
      "dense_1 (Dense)              (None, 8)                 104       \n",
      "_________________________________________________________________\n",
      "dense_2 (Dense)              (None, 8)                 72        \n",
      "_________________________________________________________________\n",
      "dense_3 (Dense)              (None, 1)                 9         \n",
      "=================================================================\n",
      "Total params: 317\n",
      "Trainable params: 317\n",
      "Non-trainable params: 0\n",
      "_________________________________________________________________\n"
     ]
    }
   ],
   "source": [
    "model.summary()"
   ]
  },
  {
   "cell_type": "markdown",
   "id": "24685436",
   "metadata": {},
   "source": [
    "###   Fitting the model"
   ]
  },
  {
   "cell_type": "code",
   "execution_count": 15,
   "id": "f31aa276",
   "metadata": {
    "ExecuteTime": {
     "end_time": "2021-04-29T02:39:40.939708Z",
     "start_time": "2021-04-29T02:37:17.085831Z"
    }
   },
   "outputs": [
    {
     "name": "stdout",
     "output_type": "stream",
     "text": [
      "Epoch 1/150\n",
      "265/265 [==============================] - 11s 43ms/step - loss: 133.5775 - mse: 18091.6094 - mape: 99.4341 - val_loss: 133.0027 - val_mse: 17945.9863 - val_mape: 99.2475\n",
      "Epoch 2/150\n",
      "265/265 [==============================] - 2s 7ms/step - loss: 133.3292 - mse: 18025.3516 - mape: 99.2468 - val_loss: 132.9973 - val_mse: 17944.5625 - val_mape: 99.2435\n",
      "Epoch 3/150\n",
      "265/265 [==============================] - 2s 6ms/step - loss: 133.3275 - mse: 18024.8828 - mape: 99.2455 - val_loss: 132.9969 - val_mse: 17944.4434 - val_mape: 99.2431\n",
      "Epoch 4/150\n",
      "265/265 [==============================] - 1s 5ms/step - loss: 133.3272 - mse: 18024.8066 - mape: 99.2453 - val_loss: 132.9968 - val_mse: 17944.4062 - val_mape: 99.2430\n",
      "Epoch 5/150\n",
      "265/265 [==============================] - 1s 4ms/step - loss: 133.3271 - mse: 18024.7793 - mape: 99.2452 - val_loss: 132.9967 - val_mse: 17944.3867 - val_mape: 99.2429\n",
      "Epoch 6/150\n",
      "265/265 [==============================] - 1s 4ms/step - loss: 133.3271 - mse: 18024.7754 - mape: 99.2452 - val_loss: 132.9967 - val_mse: 17944.3770 - val_mape: 99.2429\n",
      "Epoch 7/150\n",
      "265/265 [==============================] - 1s 4ms/step - loss: 133.3270 - mse: 18024.7637 - mape: 99.2452 - val_loss: 132.9967 - val_mse: 17944.3750 - val_mape: 99.2429\n",
      "Epoch 8/150\n",
      "265/265 [==============================] - 1s 4ms/step - loss: 133.3270 - mse: 18024.7598 - mape: 99.2451 - val_loss: 132.9967 - val_mse: 17944.3691 - val_mape: 99.2429\n",
      "Epoch 9/150\n",
      "265/265 [==============================] - 1s 3ms/step - loss: 133.3270 - mse: 18024.7480 - mape: 99.2451 - val_loss: 132.9967 - val_mse: 17944.3691 - val_mape: 99.2429\n",
      "Epoch 10/150\n",
      "265/265 [==============================] - 1s 3ms/step - loss: 133.3270 - mse: 18024.7539 - mape: 99.2451 - val_loss: 132.9967 - val_mse: 17944.3652 - val_mape: 99.2429\n",
      "Epoch 11/150\n",
      "265/265 [==============================] - 1s 3ms/step - loss: 133.3270 - mse: 18024.7539 - mape: 99.2451 - val_loss: 132.9967 - val_mse: 17944.3633 - val_mape: 99.2429\n",
      "Epoch 12/150\n",
      "265/265 [==============================] - 1s 3ms/step - loss: 133.3270 - mse: 18024.7500 - mape: 99.2451 - val_loss: 132.9967 - val_mse: 17944.3633 - val_mape: 99.2429\n",
      "Epoch 13/150\n",
      "265/265 [==============================] - 1s 3ms/step - loss: 133.3270 - mse: 18024.7520 - mape: 99.2451 - val_loss: 132.9967 - val_mse: 17944.3633 - val_mape: 99.2429\n",
      "Epoch 14/150\n",
      "265/265 [==============================] - 1s 3ms/step - loss: 133.3270 - mse: 18024.7480 - mape: 99.2451 - val_loss: 132.9967 - val_mse: 17944.3613 - val_mape: 99.2429\n",
      "Epoch 15/150\n",
      "265/265 [==============================] - 1s 3ms/step - loss: 133.3270 - mse: 18024.7461 - mape: 99.2451 - val_loss: 132.9967 - val_mse: 17944.3613 - val_mape: 99.2429\n",
      "Epoch 16/150\n",
      "265/265 [==============================] - 1s 3ms/step - loss: 133.3270 - mse: 18024.7480 - mape: 99.2451 - val_loss: 132.9967 - val_mse: 17944.3613 - val_mape: 99.2429\n",
      "Epoch 17/150\n",
      "265/265 [==============================] - 1s 3ms/step - loss: 133.3269 - mse: 18024.7480 - mape: 99.2451 - val_loss: 132.9967 - val_mse: 17944.3613 - val_mape: 99.2429\n",
      "Epoch 18/150\n",
      "265/265 [==============================] - 1s 3ms/step - loss: 133.3270 - mse: 18024.7461 - mape: 99.2451 - val_loss: 132.9967 - val_mse: 17944.3613 - val_mape: 99.2429\n",
      "Epoch 19/150\n",
      "265/265 [==============================] - 1s 3ms/step - loss: 133.3270 - mse: 18024.7480 - mape: 99.2451 - val_loss: 132.9967 - val_mse: 17944.3613 - val_mape: 99.2429\n",
      "Epoch 20/150\n",
      "265/265 [==============================] - 1s 2ms/step - loss: 133.3270 - mse: 18024.7402 - mape: 99.2451 - val_loss: 132.9967 - val_mse: 17944.3613 - val_mape: 99.2429\n",
      "Epoch 21/150\n",
      "265/265 [==============================] - 1s 2ms/step - loss: 133.3269 - mse: 18024.7461 - mape: 99.2451 - val_loss: 132.9967 - val_mse: 17944.3613 - val_mape: 99.2429\n",
      "Epoch 22/150\n",
      "265/265 [==============================] - 1s 3ms/step - loss: 133.3270 - mse: 18024.7559 - mape: 99.2451 - val_loss: 132.9967 - val_mse: 17944.3613 - val_mape: 99.2429\n",
      "Epoch 23/150\n",
      "265/265 [==============================] - 1s 2ms/step - loss: 133.3270 - mse: 18024.7402 - mape: 99.2451 - val_loss: 132.9967 - val_mse: 17944.3613 - val_mape: 99.2429\n",
      "Epoch 24/150\n",
      "265/265 [==============================] - 1s 2ms/step - loss: 133.3270 - mse: 18024.7441 - mape: 99.2451 - val_loss: 132.9967 - val_mse: 17944.3613 - val_mape: 99.2429\n",
      "Epoch 25/150\n",
      "265/265 [==============================] - 1s 3ms/step - loss: 133.3270 - mse: 18024.7461 - mape: 99.2451 - val_loss: 132.9967 - val_mse: 17944.3613 - val_mape: 99.2429\n",
      "Epoch 26/150\n",
      "265/265 [==============================] - 1s 2ms/step - loss: 133.3270 - mse: 18024.7480 - mape: 99.2451 - val_loss: 132.9967 - val_mse: 17944.3613 - val_mape: 99.2429\n",
      "Epoch 27/150\n",
      "265/265 [==============================] - 1s 3ms/step - loss: 133.3270 - mse: 18024.7461 - mape: 99.2451 - val_loss: 132.9967 - val_mse: 17944.3613 - val_mape: 99.2429\n",
      "Epoch 28/150\n",
      "265/265 [==============================] - 1s 2ms/step - loss: 133.3270 - mse: 18024.7441 - mape: 99.2451 - val_loss: 132.9967 - val_mse: 17944.3613 - val_mape: 99.2429\n",
      "Epoch 29/150\n",
      "265/265 [==============================] - 1s 3ms/step - loss: 133.3270 - mse: 18024.7480 - mape: 99.2451 - val_loss: 132.9967 - val_mse: 17944.3613 - val_mape: 99.2429\n",
      "Epoch 30/150\n",
      "265/265 [==============================] - 1s 3ms/step - loss: 133.3270 - mse: 18024.7422 - mape: 99.2451 - val_loss: 132.9967 - val_mse: 17944.3613 - val_mape: 99.2429\n",
      "Epoch 31/150\n",
      "265/265 [==============================] - 1s 2ms/step - loss: 133.3270 - mse: 18024.7383 - mape: 99.2451 - val_loss: 132.9967 - val_mse: 17944.3613 - val_mape: 99.2429\n",
      "Epoch 32/150\n",
      "265/265 [==============================] - 1s 2ms/step - loss: 133.3270 - mse: 18024.7500 - mape: 99.2451 - val_loss: 132.9967 - val_mse: 17944.3613 - val_mape: 99.2429\n",
      "Epoch 33/150\n",
      "265/265 [==============================] - 2s 7ms/step - loss: 133.3270 - mse: 18024.7402 - mape: 99.2451 - val_loss: 132.9967 - val_mse: 17944.3613 - val_mape: 99.2429\n",
      "Epoch 34/150\n",
      "265/265 [==============================] - 1s 5ms/step - loss: 133.3270 - mse: 18024.7441 - mape: 99.2451 - val_loss: 132.9967 - val_mse: 17944.3613 - val_mape: 99.2429\n",
      "Epoch 35/150\n",
      "265/265 [==============================] - 1s 5ms/step - loss: 133.3270 - mse: 18024.7441 - mape: 99.2451 - val_loss: 132.9967 - val_mse: 17944.3613 - val_mape: 99.2429\n",
      "Epoch 36/150\n",
      "265/265 [==============================] - 1s 4ms/step - loss: 133.3270 - mse: 18024.7461 - mape: 99.2451 - val_loss: 132.9967 - val_mse: 17944.3613 - val_mape: 99.2429\n",
      "Epoch 37/150\n",
      "265/265 [==============================] - 1s 4ms/step - loss: 133.3270 - mse: 18024.7383 - mape: 99.2452 - val_loss: 132.9967 - val_mse: 17944.3613 - val_mape: 99.2429\n",
      "Epoch 38/150\n",
      "265/265 [==============================] - 1s 3ms/step - loss: 133.3270 - mse: 18024.7363 - mape: 99.2452 - val_loss: 132.9967 - val_mse: 17944.3613 - val_mape: 99.2429\n",
      "Epoch 39/150\n",
      "265/265 [==============================] - 1s 3ms/step - loss: 133.3270 - mse: 18024.7480 - mape: 99.2451 - val_loss: 132.9967 - val_mse: 17944.3613 - val_mape: 99.2429\n",
      "Epoch 40/150\n",
      "265/265 [==============================] - 1s 3ms/step - loss: 133.3270 - mse: 18024.7402 - mape: 99.2451 - val_loss: 132.9967 - val_mse: 17944.3613 - val_mape: 99.2429\n",
      "Epoch 41/150\n",
      "265/265 [==============================] - 1s 3ms/step - loss: 133.3270 - mse: 18024.7402 - mape: 99.2451 - val_loss: 132.9967 - val_mse: 17944.3613 - val_mape: 99.2429\n",
      "Epoch 42/150\n",
      "265/265 [==============================] - 1s 3ms/step - loss: 133.3270 - mse: 18024.7441 - mape: 99.2451 - val_loss: 132.9967 - val_mse: 17944.3613 - val_mape: 99.2429\n",
      "Epoch 43/150\n",
      "265/265 [==============================] - 1s 3ms/step - loss: 133.3270 - mse: 18024.7480 - mape: 99.2451 - val_loss: 132.9967 - val_mse: 17944.3613 - val_mape: 99.2429\n",
      "Epoch 44/150\n",
      "265/265 [==============================] - 1s 3ms/step - loss: 133.3270 - mse: 18024.7461 - mape: 99.2451 - val_loss: 132.9967 - val_mse: 17944.3613 - val_mape: 99.2429\n",
      "Epoch 45/150\n",
      "265/265 [==============================] - 1s 4ms/step - loss: 133.3270 - mse: 18024.7461 - mape: 99.2451 - val_loss: 132.9967 - val_mse: 17944.3613 - val_mape: 99.2429\n",
      "Epoch 46/150\n"
     ]
    },
    {
     "name": "stdout",
     "output_type": "stream",
     "text": [
      "265/265 [==============================] - 1s 4ms/step - loss: 133.3270 - mse: 18024.7461 - mape: 99.2451 - val_loss: 132.9967 - val_mse: 17944.3613 - val_mape: 99.2429\n",
      "Epoch 47/150\n",
      "265/265 [==============================] - 1s 3ms/step - loss: 133.3270 - mse: 18024.7461 - mape: 99.2451 - val_loss: 132.9967 - val_mse: 17944.3613 - val_mape: 99.2429\n",
      "Epoch 48/150\n",
      "265/265 [==============================] - 1s 3ms/step - loss: 133.3270 - mse: 18024.7441 - mape: 99.2451 - val_loss: 132.9967 - val_mse: 17944.3613 - val_mape: 99.2429\n",
      "Epoch 49/150\n",
      "265/265 [==============================] - 1s 3ms/step - loss: 133.3270 - mse: 18024.7422 - mape: 99.2451 - val_loss: 132.9967 - val_mse: 17944.3613 - val_mape: 99.2429\n",
      "Epoch 50/150\n",
      "265/265 [==============================] - 1s 3ms/step - loss: 133.3270 - mse: 18024.7441 - mape: 99.2452 - val_loss: 132.9967 - val_mse: 17944.3613 - val_mape: 99.2429\n",
      "Epoch 51/150\n",
      "265/265 [==============================] - 1s 4ms/step - loss: 133.3270 - mse: 18024.7422 - mape: 99.2451 - val_loss: 132.9967 - val_mse: 17944.3613 - val_mape: 99.2429\n",
      "Epoch 52/150\n",
      "265/265 [==============================] - 1s 3ms/step - loss: 133.3270 - mse: 18024.7461 - mape: 99.2451 - val_loss: 132.9967 - val_mse: 17944.3613 - val_mape: 99.2429\n",
      "Epoch 53/150\n",
      "265/265 [==============================] - 1s 3ms/step - loss: 133.3270 - mse: 18024.7500 - mape: 99.2451 - val_loss: 132.9967 - val_mse: 17944.3613 - val_mape: 99.2429\n",
      "Epoch 54/150\n",
      "265/265 [==============================] - 1s 3ms/step - loss: 133.3270 - mse: 18024.7480 - mape: 99.2451 - val_loss: 132.9967 - val_mse: 17944.3613 - val_mape: 99.2429\n",
      "Epoch 55/150\n",
      "265/265 [==============================] - 1s 3ms/step - loss: 133.3270 - mse: 18024.7422 - mape: 99.2451 - val_loss: 132.9967 - val_mse: 17944.3613 - val_mape: 99.2429\n",
      "Epoch 56/150\n",
      "265/265 [==============================] - 1s 3ms/step - loss: 133.3270 - mse: 18024.7402 - mape: 99.2451 - val_loss: 132.9967 - val_mse: 17944.3613 - val_mape: 99.2429\n",
      "Epoch 57/150\n",
      "265/265 [==============================] - 1s 3ms/step - loss: 133.3270 - mse: 18024.7422 - mape: 99.2451 - val_loss: 132.9967 - val_mse: 17944.3613 - val_mape: 99.2429\n",
      "Epoch 58/150\n",
      "265/265 [==============================] - 2s 6ms/step - loss: 133.3270 - mse: 18024.7461 - mape: 99.2451 - val_loss: 132.9967 - val_mse: 17944.3613 - val_mape: 99.2429\n",
      "Epoch 59/150\n",
      "265/265 [==============================] - 2s 6ms/step - loss: 133.3270 - mse: 18024.7383 - mape: 99.2451 - val_loss: 132.9967 - val_mse: 17944.3613 - val_mape: 99.2429\n",
      "Epoch 60/150\n",
      "265/265 [==============================] - 2s 6ms/step - loss: 133.3270 - mse: 18024.7422 - mape: 99.2451 - val_loss: 132.9967 - val_mse: 17944.3613 - val_mape: 99.2429\n",
      "Epoch 61/150\n",
      "265/265 [==============================] - 1s 6ms/step - loss: 133.3270 - mse: 18024.7324 - mape: 99.2451 - val_loss: 132.9967 - val_mse: 17944.3613 - val_mape: 99.2429\n",
      "Epoch 62/150\n",
      "265/265 [==============================] - 1s 5ms/step - loss: 133.3270 - mse: 18024.7422 - mape: 99.2451 - val_loss: 132.9967 - val_mse: 17944.3613 - val_mape: 99.2429\n",
      "Epoch 63/150\n",
      "265/265 [==============================] - 1s 4ms/step - loss: 133.3270 - mse: 18024.7422 - mape: 99.2451 - val_loss: 132.9967 - val_mse: 17944.3613 - val_mape: 99.2429\n",
      "Epoch 64/150\n",
      "265/265 [==============================] - 1s 4ms/step - loss: 133.3270 - mse: 18024.7422 - mape: 99.2451 - val_loss: 132.9967 - val_mse: 17944.3613 - val_mape: 99.2429\n",
      "Epoch 65/150\n",
      "265/265 [==============================] - 1s 4ms/step - loss: 133.3270 - mse: 18024.7363 - mape: 99.2451 - val_loss: 132.9967 - val_mse: 17944.3613 - val_mape: 99.2429\n",
      "Epoch 66/150\n",
      "265/265 [==============================] - 1s 4ms/step - loss: 133.3270 - mse: 18024.7461 - mape: 99.2451 - val_loss: 132.9967 - val_mse: 17944.3613 - val_mape: 99.2429\n",
      "Epoch 67/150\n",
      "265/265 [==============================] - 1s 4ms/step - loss: 133.3270 - mse: 18024.7461 - mape: 99.2451 - val_loss: 132.9967 - val_mse: 17944.3613 - val_mape: 99.2429\n",
      "Epoch 68/150\n",
      "265/265 [==============================] - 1s 4ms/step - loss: 133.3270 - mse: 18024.7441 - mape: 99.2451 - val_loss: 132.9967 - val_mse: 17944.3613 - val_mape: 99.2429\n",
      "Epoch 69/150\n",
      "265/265 [==============================] - 1s 4ms/step - loss: 133.3270 - mse: 18024.7383 - mape: 99.2451 - val_loss: 132.9967 - val_mse: 17944.3613 - val_mape: 99.2429\n",
      "Epoch 70/150\n",
      "265/265 [==============================] - 1s 3ms/step - loss: 133.3270 - mse: 18024.7422 - mape: 99.2451 - val_loss: 132.9967 - val_mse: 17944.3613 - val_mape: 99.2429\n",
      "Epoch 71/150\n",
      "265/265 [==============================] - 1s 4ms/step - loss: 133.3271 - mse: 18024.7480 - mape: 99.2451 - val_loss: 132.9967 - val_mse: 17944.3613 - val_mape: 99.2429\n",
      "Epoch 72/150\n",
      "265/265 [==============================] - 1s 4ms/step - loss: 133.3270 - mse: 18024.7461 - mape: 99.2451 - val_loss: 132.9967 - val_mse: 17944.3613 - val_mape: 99.2429\n",
      "Epoch 73/150\n",
      "265/265 [==============================] - 1s 3ms/step - loss: 133.3270 - mse: 18024.7422 - mape: 99.2451 - val_loss: 132.9967 - val_mse: 17944.3613 - val_mape: 99.2429\n",
      "Epoch 74/150\n",
      "265/265 [==============================] - 1s 4ms/step - loss: 133.3270 - mse: 18024.7480 - mape: 99.2451 - val_loss: 132.9967 - val_mse: 17944.3613 - val_mape: 99.2429\n",
      "Epoch 75/150\n",
      "265/265 [==============================] - 1s 4ms/step - loss: 133.3271 - mse: 18024.7461 - mape: 99.2451 - val_loss: 132.9967 - val_mse: 17944.3613 - val_mape: 99.2429\n",
      "Epoch 76/150\n",
      "265/265 [==============================] - 1s 4ms/step - loss: 133.3270 - mse: 18024.7500 - mape: 99.2451 - val_loss: 132.9967 - val_mse: 17944.3613 - val_mape: 99.2429\n",
      "Epoch 77/150\n",
      "265/265 [==============================] - 1s 4ms/step - loss: 133.3270 - mse: 18024.7422 - mape: 99.2451 - val_loss: 132.9967 - val_mse: 17944.3613 - val_mape: 99.2429\n",
      "Epoch 78/150\n",
      "265/265 [==============================] - 1s 3ms/step - loss: 133.3270 - mse: 18024.7480 - mape: 99.2451 - val_loss: 132.9967 - val_mse: 17944.3613 - val_mape: 99.2429\n",
      "Epoch 79/150\n",
      "265/265 [==============================] - 1s 3ms/step - loss: 133.3270 - mse: 18024.7383 - mape: 99.2451 - val_loss: 132.9967 - val_mse: 17944.3613 - val_mape: 99.2429\n",
      "Epoch 80/150\n",
      "265/265 [==============================] - 1s 3ms/step - loss: 133.3270 - mse: 18024.7422 - mape: 99.2451 - val_loss: 132.9967 - val_mse: 17944.3613 - val_mape: 99.2429\n",
      "Epoch 81/150\n",
      "265/265 [==============================] - 1s 3ms/step - loss: 133.3271 - mse: 18024.7461 - mape: 99.2451 - val_loss: 132.9967 - val_mse: 17944.3613 - val_mape: 99.2429\n",
      "Epoch 82/150\n",
      "265/265 [==============================] - 1s 3ms/step - loss: 133.3270 - mse: 18024.7480 - mape: 99.2451 - val_loss: 132.9967 - val_mse: 17944.3613 - val_mape: 99.2429\n",
      "Epoch 83/150\n",
      "265/265 [==============================] - 1s 3ms/step - loss: 133.3270 - mse: 18024.7441 - mape: 99.2451 - val_loss: 132.9967 - val_mse: 17944.3613 - val_mape: 99.2429\n",
      "Epoch 84/150\n",
      "265/265 [==============================] - 1s 3ms/step - loss: 133.3271 - mse: 18024.7441 - mape: 99.2451 - val_loss: 132.9967 - val_mse: 17944.3613 - val_mape: 99.2429\n",
      "Epoch 85/150\n",
      "265/265 [==============================] - 1s 2ms/step - loss: 133.3270 - mse: 18024.7480 - mape: 99.2451 - val_loss: 132.9967 - val_mse: 17944.3613 - val_mape: 99.2429\n",
      "Epoch 86/150\n",
      "265/265 [==============================] - 1s 2ms/step - loss: 133.3270 - mse: 18024.7422 - mape: 99.2451 - val_loss: 132.9967 - val_mse: 17944.3613 - val_mape: 99.2429\n",
      "Epoch 87/150\n",
      "265/265 [==============================] - 1s 3ms/step - loss: 133.3270 - mse: 18024.7383 - mape: 99.2451 - val_loss: 132.9967 - val_mse: 17944.3613 - val_mape: 99.2429\n",
      "Epoch 88/150\n",
      "265/265 [==============================] - 1s 2ms/step - loss: 133.3270 - mse: 18024.7461 - mape: 99.2451 - val_loss: 132.9967 - val_mse: 17944.3613 - val_mape: 99.2429\n",
      "Epoch 89/150\n",
      "265/265 [==============================] - 1s 2ms/step - loss: 133.3270 - mse: 18024.7422 - mape: 99.2451 - val_loss: 132.9967 - val_mse: 17944.3613 - val_mape: 99.2429\n",
      "Epoch 90/150\n",
      "265/265 [==============================] - 1s 2ms/step - loss: 133.3270 - mse: 18024.7461 - mape: 99.2451 - val_loss: 132.9967 - val_mse: 17944.3613 - val_mape: 99.2429\n",
      "Epoch 91/150\n",
      "265/265 [==============================] - 1s 2ms/step - loss: 133.3270 - mse: 18024.7422 - mape: 99.2451 - val_loss: 132.9967 - val_mse: 17944.3613 - val_mape: 99.2429\n",
      "Epoch 92/150\n",
      "265/265 [==============================] - 1s 4ms/step - loss: 133.3270 - mse: 18024.7461 - mape: 99.2451 - val_loss: 132.9967 - val_mse: 17944.3613 - val_mape: 99.2429\n",
      "Epoch 93/150\n",
      "265/265 [==============================] - 1s 5ms/step - loss: 133.3270 - mse: 18024.7402 - mape: 99.2451 - val_loss: 132.9967 - val_mse: 17944.3613 - val_mape: 99.2429\n",
      "Epoch 94/150\n",
      "265/265 [==============================] - 1s 4ms/step - loss: 133.3270 - mse: 18024.7383 - mape: 99.2451 - val_loss: 132.9967 - val_mse: 17944.3613 - val_mape: 99.2429\n",
      "Epoch 95/150\n",
      "265/265 [==============================] - 1s 3ms/step - loss: 133.3270 - mse: 18024.7500 - mape: 99.2451 - val_loss: 132.9967 - val_mse: 17944.3613 - val_mape: 99.2429\n",
      "Epoch 96/150\n",
      "265/265 [==============================] - 1s 4ms/step - loss: 133.3270 - mse: 18024.7402 - mape: 99.2451 - val_loss: 132.9967 - val_mse: 17944.3613 - val_mape: 99.2429\n",
      "Epoch 97/150\n",
      "265/265 [==============================] - 1s 4ms/step - loss: 133.3270 - mse: 18024.7461 - mape: 99.2451 - val_loss: 132.9967 - val_mse: 17944.3613 - val_mape: 99.2429\n",
      "Epoch 98/150\n",
      "265/265 [==============================] - 1s 3ms/step - loss: 133.3270 - mse: 18024.7480 - mape: 99.2451 - val_loss: 132.9967 - val_mse: 17944.3613 - val_mape: 99.2429\n",
      "Epoch 99/150\n",
      "265/265 [==============================] - 1s 3ms/step - loss: 133.3270 - mse: 18024.7480 - mape: 99.2451 - val_loss: 132.9967 - val_mse: 17944.3613 - val_mape: 99.2429\n",
      "Epoch 100/150\n",
      "265/265 [==============================] - 1s 3ms/step - loss: 133.3270 - mse: 18024.7402 - mape: 99.2451 - val_loss: 132.9967 - val_mse: 17944.3613 - val_mape: 99.2429\n",
      "Epoch 101/150\n",
      "265/265 [==============================] - 1s 2ms/step - loss: 133.3270 - mse: 18024.7363 - mape: 99.2451 - val_loss: 132.9967 - val_mse: 17944.3613 - val_mape: 99.2429\n",
      "Epoch 102/150\n",
      "265/265 [==============================] - 1s 3ms/step - loss: 133.3270 - mse: 18024.7480 - mape: 99.2452 - val_loss: 132.9967 - val_mse: 17944.3613 - val_mape: 99.2429\n",
      "Epoch 103/150\n",
      "265/265 [==============================] - 1s 2ms/step - loss: 133.3270 - mse: 18024.7461 - mape: 99.2451 - val_loss: 132.9967 - val_mse: 17944.3613 - val_mape: 99.2429\n",
      "Epoch 104/150\n",
      "265/265 [==============================] - 1s 2ms/step - loss: 133.3270 - mse: 18024.7461 - mape: 99.2451 - val_loss: 132.9967 - val_mse: 17944.3613 - val_mape: 99.2429\n",
      "Epoch 105/150\n",
      "265/265 [==============================] - 1s 3ms/step - loss: 133.3270 - mse: 18024.7402 - mape: 99.2451 - val_loss: 132.9967 - val_mse: 17944.3613 - val_mape: 99.2429\n",
      "Epoch 106/150\n",
      "265/265 [==============================] - 1s 2ms/step - loss: 133.3270 - mse: 18024.7402 - mape: 99.2451 - val_loss: 132.9967 - val_mse: 17944.3613 - val_mape: 99.2429\n",
      "Epoch 107/150\n",
      "265/265 [==============================] - 1s 2ms/step - loss: 133.3270 - mse: 18024.7402 - mape: 99.2451 - val_loss: 132.9967 - val_mse: 17944.3613 - val_mape: 99.2429\n",
      "Epoch 108/150\n",
      "265/265 [==============================] - 1s 2ms/step - loss: 133.3270 - mse: 18024.7461 - mape: 99.2451 - val_loss: 132.9967 - val_mse: 17944.3613 - val_mape: 99.2429\n",
      "Epoch 109/150\n",
      "265/265 [==============================] - 1s 2ms/step - loss: 133.3270 - mse: 18024.7363 - mape: 99.2451 - val_loss: 132.9967 - val_mse: 17944.3613 - val_mape: 99.2429\n",
      "Epoch 110/150\n",
      "265/265 [==============================] - 1s 3ms/step - loss: 133.3270 - mse: 18024.7461 - mape: 99.2451 - val_loss: 132.9967 - val_mse: 17944.3613 - val_mape: 99.2429\n",
      "Epoch 111/150\n",
      "265/265 [==============================] - 1s 2ms/step - loss: 133.3270 - mse: 18024.7461 - mape: 99.2451 - val_loss: 132.9967 - val_mse: 17944.3613 - val_mape: 99.2429\n",
      "Epoch 112/150\n",
      "265/265 [==============================] - 1s 2ms/step - loss: 133.3270 - mse: 18024.7402 - mape: 99.2451 - val_loss: 132.9967 - val_mse: 17944.3613 - val_mape: 99.2429\n",
      "Epoch 113/150\n",
      "265/265 [==============================] - 1s 2ms/step - loss: 133.3270 - mse: 18024.7402 - mape: 99.2451 - val_loss: 132.9967 - val_mse: 17944.3613 - val_mape: 99.2429\n",
      "Epoch 114/150\n",
      "265/265 [==============================] - 1s 3ms/step - loss: 133.3270 - mse: 18024.7480 - mape: 99.2451 - val_loss: 132.9967 - val_mse: 17944.3613 - val_mape: 99.2429\n",
      "Epoch 115/150\n",
      "265/265 [==============================] - 1s 3ms/step - loss: 133.3270 - mse: 18024.7422 - mape: 99.2451 - val_loss: 132.9967 - val_mse: 17944.3613 - val_mape: 99.2429\n",
      "Epoch 116/150\n",
      "265/265 [==============================] - 1s 2ms/step - loss: 133.3270 - mse: 18024.7422 - mape: 99.2451 - val_loss: 132.9967 - val_mse: 17944.3613 - val_mape: 99.2429\n",
      "Epoch 117/150\n",
      "265/265 [==============================] - 1s 2ms/step - loss: 133.3270 - mse: 18024.7441 - mape: 99.2451 - val_loss: 132.9967 - val_mse: 17944.3613 - val_mape: 99.2429\n",
      "Epoch 118/150\n",
      "265/265 [==============================] - 1s 2ms/step - loss: 133.3270 - mse: 18024.7441 - mape: 99.2451 - val_loss: 132.9967 - val_mse: 17944.3613 - val_mape: 99.2429\n",
      "Epoch 119/150\n",
      "265/265 [==============================] - 1s 3ms/step - loss: 133.3270 - mse: 18024.7402 - mape: 99.2451 - val_loss: 132.9967 - val_mse: 17944.3613 - val_mape: 99.2429\n",
      "Epoch 120/150\n",
      "265/265 [==============================] - 1s 3ms/step - loss: 133.3270 - mse: 18024.7422 - mape: 99.2451 - val_loss: 132.9967 - val_mse: 17944.3613 - val_mape: 99.2429\n",
      "Epoch 121/150\n",
      "265/265 [==============================] - 1s 3ms/step - loss: 133.3270 - mse: 18024.7461 - mape: 99.2451 - val_loss: 132.9967 - val_mse: 17944.3613 - val_mape: 99.2429\n",
      "Epoch 122/150\n",
      "265/265 [==============================] - 1s 2ms/step - loss: 133.3271 - mse: 18024.7383 - mape: 99.2451 - val_loss: 132.9967 - val_mse: 17944.3613 - val_mape: 99.2429\n",
      "Epoch 123/150\n",
      "265/265 [==============================] - 1s 3ms/step - loss: 133.3271 - mse: 18024.7461 - mape: 99.2451 - val_loss: 132.9967 - val_mse: 17944.3613 - val_mape: 99.2429\n",
      "Epoch 124/150\n",
      "265/265 [==============================] - 1s 2ms/step - loss: 133.3270 - mse: 18024.7500 - mape: 99.2451 - val_loss: 132.9967 - val_mse: 17944.3613 - val_mape: 99.2429\n",
      "Epoch 125/150\n",
      "265/265 [==============================] - 1s 2ms/step - loss: 133.3270 - mse: 18024.7422 - mape: 99.2451 - val_loss: 132.9967 - val_mse: 17944.3613 - val_mape: 99.2429\n",
      "Epoch 126/150\n",
      "265/265 [==============================] - 1s 2ms/step - loss: 133.3270 - mse: 18024.7441 - mape: 99.2451 - val_loss: 132.9967 - val_mse: 17944.3613 - val_mape: 99.2429\n",
      "Epoch 127/150\n",
      "265/265 [==============================] - 1s 3ms/step - loss: 133.3270 - mse: 18024.7441 - mape: 99.2451 - val_loss: 132.9967 - val_mse: 17944.3613 - val_mape: 99.2429\n",
      "Epoch 128/150\n",
      "265/265 [==============================] - 1s 3ms/step - loss: 133.3270 - mse: 18024.7500 - mape: 99.2451 - val_loss: 132.9967 - val_mse: 17944.3613 - val_mape: 99.2429\n",
      "Epoch 129/150\n",
      "265/265 [==============================] - 1s 3ms/step - loss: 133.3270 - mse: 18024.7383 - mape: 99.2451 - val_loss: 132.9967 - val_mse: 17944.3613 - val_mape: 99.2429\n",
      "Epoch 130/150\n",
      "265/265 [==============================] - 1s 2ms/step - loss: 133.3270 - mse: 18024.7402 - mape: 99.2451 - val_loss: 132.9967 - val_mse: 17944.3613 - val_mape: 99.2429\n",
      "Epoch 131/150\n",
      "265/265 [==============================] - 1s 3ms/step - loss: 133.3270 - mse: 18024.7500 - mape: 99.2451 - val_loss: 132.9967 - val_mse: 17944.3613 - val_mape: 99.2429\n",
      "Epoch 132/150\n",
      "265/265 [==============================] - 1s 3ms/step - loss: 133.3270 - mse: 18024.7539 - mape: 99.2451 - val_loss: 132.9967 - val_mse: 17944.3613 - val_mape: 99.2429\n",
      "Epoch 133/150\n",
      "265/265 [==============================] - 1s 2ms/step - loss: 133.3270 - mse: 18024.7500 - mape: 99.2451 - val_loss: 132.9967 - val_mse: 17944.3613 - val_mape: 99.2429\n",
      "Epoch 134/150\n",
      "265/265 [==============================] - 1s 3ms/step - loss: 133.3270 - mse: 18024.7480 - mape: 99.2451 - val_loss: 132.9967 - val_mse: 17944.3613 - val_mape: 99.2429\n",
      "Epoch 135/150\n",
      "265/265 [==============================] - 1s 3ms/step - loss: 133.3270 - mse: 18024.7402 - mape: 99.2451 - val_loss: 132.9967 - val_mse: 17944.3613 - val_mape: 99.2429\n"
     ]
    },
    {
     "name": "stdout",
     "output_type": "stream",
     "text": [
      "Epoch 136/150\n",
      "265/265 [==============================] - 1s 3ms/step - loss: 133.3270 - mse: 18024.7363 - mape: 99.2451 - val_loss: 132.9967 - val_mse: 17944.3613 - val_mape: 99.2429\n",
      "Epoch 137/150\n",
      "265/265 [==============================] - 1s 2ms/step - loss: 133.3270 - mse: 18024.7441 - mape: 99.2451 - val_loss: 132.9967 - val_mse: 17944.3613 - val_mape: 99.2429\n",
      "Epoch 138/150\n",
      "265/265 [==============================] - 1s 2ms/step - loss: 133.3270 - mse: 18024.7480 - mape: 99.2451 - val_loss: 132.9967 - val_mse: 17944.3613 - val_mape: 99.2429\n",
      "Epoch 139/150\n",
      "265/265 [==============================] - 1s 2ms/step - loss: 133.3270 - mse: 18024.7500 - mape: 99.2450 - val_loss: 132.9967 - val_mse: 17944.3613 - val_mape: 99.2429\n",
      "Epoch 140/150\n",
      "265/265 [==============================] - 1s 2ms/step - loss: 133.3270 - mse: 18024.7500 - mape: 99.2451 - val_loss: 132.9967 - val_mse: 17944.3613 - val_mape: 99.2429\n",
      "Epoch 141/150\n",
      "265/265 [==============================] - 1s 3ms/step - loss: 133.3270 - mse: 18024.7402 - mape: 99.2451 - val_loss: 132.9967 - val_mse: 17944.3613 - val_mape: 99.2429\n",
      "Epoch 142/150\n",
      "265/265 [==============================] - 1s 3ms/step - loss: 133.3270 - mse: 18024.7480 - mape: 99.2451 - val_loss: 132.9967 - val_mse: 17944.3613 - val_mape: 99.2429\n",
      "Epoch 143/150\n",
      "265/265 [==============================] - 1s 3ms/step - loss: 133.3271 - mse: 18024.7363 - mape: 99.2451 - val_loss: 132.9967 - val_mse: 17944.3613 - val_mape: 99.2429\n",
      "Epoch 144/150\n",
      "265/265 [==============================] - 1s 3ms/step - loss: 133.3270 - mse: 18024.7422 - mape: 99.2451 - val_loss: 132.9967 - val_mse: 17944.3613 - val_mape: 99.2429\n",
      "Epoch 145/150\n",
      "265/265 [==============================] - 1s 3ms/step - loss: 133.3270 - mse: 18024.7441 - mape: 99.2451 - val_loss: 132.9967 - val_mse: 17944.3613 - val_mape: 99.2429\n",
      "Epoch 146/150\n",
      "265/265 [==============================] - 1s 2ms/step - loss: 133.3270 - mse: 18024.7383 - mape: 99.2451 - val_loss: 132.9967 - val_mse: 17944.3613 - val_mape: 99.2429\n",
      "Epoch 147/150\n",
      "265/265 [==============================] - 1s 3ms/step - loss: 133.3270 - mse: 18024.7441 - mape: 99.2451 - val_loss: 132.9967 - val_mse: 17944.3613 - val_mape: 99.2429\n",
      "Epoch 148/150\n",
      "265/265 [==============================] - 1s 3ms/step - loss: 133.3270 - mse: 18024.7363 - mape: 99.2451 - val_loss: 132.9967 - val_mse: 17944.3613 - val_mape: 99.2429\n",
      "Epoch 149/150\n",
      "265/265 [==============================] - 1s 2ms/step - loss: 133.3270 - mse: 18024.7461 - mape: 99.2451 - val_loss: 132.9967 - val_mse: 17944.3613 - val_mape: 99.2429\n",
      "Epoch 150/150\n",
      "265/265 [==============================] - 1s 2ms/step - loss: 133.3270 - mse: 18024.7422 - mape: 99.2451 - val_loss: 132.9967 - val_mse: 17944.3613 - val_mape: 99.2429\n"
     ]
    }
   ],
   "source": [
    "history = model.fit(x_train, y_train, epochs=150, batch_size=32,validation_split=0.25)"
   ]
  },
  {
   "cell_type": "markdown",
   "id": "400b372f",
   "metadata": {},
   "source": [
    "###  Evaluating the model "
   ]
  },
  {
   "cell_type": "code",
   "execution_count": 16,
   "id": "3c34cb3c",
   "metadata": {
    "ExecuteTime": {
     "end_time": "2021-04-29T02:41:52.679253Z",
     "start_time": "2021-04-29T02:41:50.221608Z"
    }
   },
   "outputs": [
    {
     "name": "stdout",
     "output_type": "stream",
     "text": [
      "353/353 [==============================] - 2s 6ms/step - loss: 133.2444 - mse: 18004.6504 - mape: 99.2445\n",
      "loss: 133.24441528320312\n",
      "mean_squared_error: 18004.650390625\n",
      "mean_absolute_percentage_error: 99.24451446533203\n"
     ]
    }
   ],
   "source": [
    "scores = model.evaluate(x_train, y_train)\n",
    "print(\"loss:\", scores[0])\n",
    "print(\"mean_squared_error:\", scores[1])\n",
    "print(\"mean_absolute_percentage_error:\", scores[2])"
   ]
  },
  {
   "cell_type": "markdown",
   "id": "3aa099d2",
   "metadata": {},
   "source": [
    "###  Predicting the training model "
   ]
  },
  {
   "cell_type": "code",
   "execution_count": 17,
   "id": "9def3f49",
   "metadata": {
    "ExecuteTime": {
     "end_time": "2021-04-29T02:41:59.725325Z",
     "start_time": "2021-04-29T02:41:57.801039Z"
    }
   },
   "outputs": [
    {
     "name": "stdout",
     "output_type": "stream",
     "text": [
      "18004.647721571062\n",
      "134.1813985676519\n",
      "0.9924454923885621\n"
     ]
    }
   ],
   "source": [
    "pred_train = model.predict(x_train)\n",
    "print(mean_squared_error(y_train,pred_train))\n",
    "print(np.sqrt(mean_squared_error(y_train,pred_train)))\n",
    "print(mean_absolute_percentage_error(y_train,pred_train))"
   ]
  },
  {
   "cell_type": "markdown",
   "id": "5f0df711",
   "metadata": {},
   "source": [
    "###  Predicting the testing model "
   ]
  },
  {
   "cell_type": "code",
   "execution_count": 18,
   "id": "74f48836",
   "metadata": {
    "ExecuteTime": {
     "end_time": "2021-04-29T02:42:06.970061Z",
     "start_time": "2021-04-29T02:42:06.305610Z"
    }
   },
   "outputs": [
    {
     "name": "stdout",
     "output_type": "stream",
     "text": [
      "17944.981718249877\n",
      "133.9588806994515\n",
      "0.9924326198339695\n"
     ]
    }
   ],
   "source": [
    "pred_test = model.predict(x_test)\n",
    "print(mean_squared_error(y_test,pred_test))\n",
    "print(np.sqrt(mean_squared_error(y_test,pred_test)))\n",
    "print(mean_absolute_percentage_error(y_test,pred_test))"
   ]
  },
  {
   "cell_type": "markdown",
   "id": "1518ca36",
   "metadata": {},
   "source": [
    "###   The output shows the mean squared error for both the train and test. The mean squared error is too high for both. "
   ]
  },
  {
   "cell_type": "markdown",
   "id": "fa06b448",
   "metadata": {},
   "source": [
    "###  Visualization of training and testing set "
   ]
  },
  {
   "cell_type": "code",
   "execution_count": 19,
   "id": "b25726f0",
   "metadata": {
    "ExecuteTime": {
     "end_time": "2021-04-29T02:42:13.159189Z",
     "start_time": "2021-04-29T02:42:13.138174Z"
    }
   },
   "outputs": [
    {
     "data": {
      "text/plain": [
       "dict_keys(['loss', 'mse', 'mape', 'val_loss', 'val_mse', 'val_mape'])"
      ]
     },
     "execution_count": 19,
     "metadata": {},
     "output_type": "execute_result"
    }
   ],
   "source": [
    "history.history.keys()"
   ]
  },
  {
   "cell_type": "code",
   "execution_count": 20,
   "id": "efe8383c",
   "metadata": {
    "ExecuteTime": {
     "end_time": "2021-04-29T02:42:17.765264Z",
     "start_time": "2021-04-29T02:42:14.636175Z"
    }
   },
   "outputs": [
    {
     "data": {
      "image/png": "[encoded data removed]",
      "text/plain": [
       "<Figure size 432x288 with 1 Axes>"
      ]
     },
     "metadata": {
      "needs_background": "light"
     },
     "output_type": "display_data"
    }
   ],
   "source": [
    "plt.plot(history.history['mse'])\n",
    "plt.plot(history.history['val_mse'])\n",
    "plt.title('model mean squared error')\n",
    "plt.ylabel('val_mean_squared_error')\n",
    "plt.xlabel('epoch')\n",
    "plt.legend(['train', 'test'], loc='upper right')\n",
    "plt.show()"
   ]
  },
  {
   "cell_type": "code",
   "execution_count": 21,
   "id": "da453a5b",
   "metadata": {
    "ExecuteTime": {
     "end_time": "2021-04-29T02:42:21.037241Z",
     "start_time": "2021-04-29T02:42:19.303500Z"
    }
   },
   "outputs": [
    {
     "data": {
      "image/png": "[encoded data removed]",
      "text/plain": [
       "<Figure size 432x288 with 1 Axes>"
      ]
     },
     "metadata": {
      "needs_background": "light"
     },
     "output_type": "display_data"
    }
   ],
   "source": [
    "plt.plot(history.history['loss'])\n",
    "plt.plot(history.history['val_loss'])\n",
    "plt.title('model loss') \n",
    "plt.ylabel('loss')\n",
    "plt.xlabel('epoch')\n",
    "plt.legend(['train', 'test'], loc='upper right')\n",
    "plt.show()"
   ]
  },
  {
   "cell_type": "code",
   "execution_count": 22,
   "id": "43e445b6",
   "metadata": {
    "ExecuteTime": {
     "end_time": "2021-04-29T02:42:24.042247Z",
     "start_time": "2021-04-29T02:42:22.398149Z"
    }
   },
   "outputs": [
    {
     "data": {
      "image/png": "[encoded data removed]",
      "text/plain": [
       "<Figure size 432x288 with 1 Axes>"
      ]
     },
     "metadata": {
      "needs_background": "light"
     },
     "output_type": "display_data"
    }
   ],
   "source": [
    "plt.plot(history.history['mape'])\n",
    "plt.plot(history.history['val_mape'])\n",
    "plt.title('model mean absolute percentage error')\n",
    "plt.ylabel('val_mean_absolute_percentage_error')\n",
    "plt.xlabel('epoch')\n",
    "plt.legend(['train', 'test'], loc='upper right')\n",
    "plt.show()"
   ]
  },
  {
   "cell_type": "markdown",
   "id": "f9d5c3c0",
   "metadata": {},
   "source": [
    "#   Tuning Hyperparameter "
   ]
  },
  {
   "cell_type": "code",
   "execution_count": 23,
   "id": "75480d23",
   "metadata": {
    "ExecuteTime": {
     "end_time": "2021-04-29T02:42:37.382699Z",
     "start_time": "2021-04-29T02:42:37.332664Z"
    }
   },
   "outputs": [
    {
     "data": {
      "text/plain": [
       "array([[-1.4397781 , -0.82664395,  1.28143632, ..., -1.35733078,\n",
       "         0.53201195,  1.3878449 ],\n",
       "       [-1.44960109, -0.74864748,  1.30456402, ..., -1.36367619,\n",
       "         0.56873344,  1.39300237],\n",
       "       [-1.43472138, -0.68625031,  1.21908576, ..., -1.36095673,\n",
       "         0.5529378 ,  1.36358566],\n",
       "       ...,\n",
       "       [-1.38626659, -1.07623263,  1.47697056, ..., -1.46792219,\n",
       "         2.69592467,  2.17006209],\n",
       "       [-1.42042259, -0.99823616,  1.44159024, ..., -1.42259784,\n",
       "         1.9246834 ,  2.391165  ],\n",
       "       [-1.43073409, -0.93583899,  1.33465179, ..., -1.37727349,\n",
       "         1.35415028,  2.32153907]])"
      ]
     },
     "execution_count": 23,
     "metadata": {},
     "output_type": "execute_result"
    }
   ],
   "source": [
    "data = StandardScaler().fit_transform(x)\n",
    "data"
   ]
  },
  {
   "cell_type": "code",
   "execution_count": 24,
   "id": "3e06525a",
   "metadata": {
    "ExecuteTime": {
     "end_time": "2021-04-29T02:42:39.702311Z",
     "start_time": "2021-04-29T02:42:39.243004Z"
    }
   },
   "outputs": [
    {
     "data": {
      "text/html": [
       "<div>\n",
       "<style scoped>\n",
       "    .dataframe tbody tr th:only-of-type {\n",
       "        vertical-align: middle;\n",
       "    }\n",
       "\n",
       "    .dataframe tbody tr th {\n",
       "        vertical-align: top;\n",
       "    }\n",
       "\n",
       "    .dataframe thead th {\n",
       "        text-align: right;\n",
       "    }\n",
       "</style>\n",
       "<table border=\"1\" class=\"dataframe\">\n",
       "  <thead>\n",
       "    <tr style=\"text-align: right;\">\n",
       "      <th></th>\n",
       "      <th>0</th>\n",
       "      <th>1</th>\n",
       "      <th>2</th>\n",
       "      <th>3</th>\n",
       "      <th>4</th>\n",
       "      <th>5</th>\n",
       "      <th>6</th>\n",
       "      <th>7</th>\n",
       "      <th>8</th>\n",
       "      <th>9</th>\n",
       "    </tr>\n",
       "  </thead>\n",
       "  <tbody>\n",
       "    <tr>\n",
       "      <th>count</th>\n",
       "      <td>1.503900e+04</td>\n",
       "      <td>1.503900e+04</td>\n",
       "      <td>1.503900e+04</td>\n",
       "      <td>1.503900e+04</td>\n",
       "      <td>1.503900e+04</td>\n",
       "      <td>1.503900e+04</td>\n",
       "      <td>1.503900e+04</td>\n",
       "      <td>1.503900e+04</td>\n",
       "      <td>1.503900e+04</td>\n",
       "      <td>1.503900e+04</td>\n",
       "    </tr>\n",
       "    <tr>\n",
       "      <th>mean</th>\n",
       "      <td>4.913654e-16</td>\n",
       "      <td>-1.875504e-14</td>\n",
       "      <td>2.570219e-16</td>\n",
       "      <td>1.511894e-16</td>\n",
       "      <td>-7.559468e-17</td>\n",
       "      <td>-3.260021e-15</td>\n",
       "      <td>1.640405e-15</td>\n",
       "      <td>1.965462e-16</td>\n",
       "      <td>3.779734e-17</td>\n",
       "      <td>4.233302e-16</td>\n",
       "    </tr>\n",
       "    <tr>\n",
       "      <th>std</th>\n",
       "      <td>1.000033e+00</td>\n",
       "      <td>1.000033e+00</td>\n",
       "      <td>1.000033e+00</td>\n",
       "      <td>1.000033e+00</td>\n",
       "      <td>1.000033e+00</td>\n",
       "      <td>1.000033e+00</td>\n",
       "      <td>1.000033e+00</td>\n",
       "      <td>1.000033e+00</td>\n",
       "      <td>1.000033e+00</td>\n",
       "      <td>1.000033e+00</td>\n",
       "    </tr>\n",
       "    <tr>\n",
       "      <th>min</th>\n",
       "      <td>-2.276462e+00</td>\n",
       "      <td>-4.266288e+00</td>\n",
       "      <td>-3.536594e+00</td>\n",
       "      <td>-2.779497e+00</td>\n",
       "      <td>-1.806771e+00</td>\n",
       "      <td>-5.021933e+00</td>\n",
       "      <td>-4.188141e+00</td>\n",
       "      <td>-1.992416e+00</td>\n",
       "      <td>-8.874862e-01</td>\n",
       "      <td>-3.861033e+00</td>\n",
       "    </tr>\n",
       "    <tr>\n",
       "      <th>25%</th>\n",
       "      <td>-8.392292e-01</td>\n",
       "      <td>-6.706510e-01</td>\n",
       "      <td>-6.796337e-01</td>\n",
       "      <td>-6.266930e-01</td>\n",
       "      <td>-5.091458e-01</td>\n",
       "      <td>-2.540512e-01</td>\n",
       "      <td>-4.101146e-01</td>\n",
       "      <td>-4.354335e-01</td>\n",
       "      <td>-5.015202e-01</td>\n",
       "      <td>-6.578107e-01</td>\n",
       "    </tr>\n",
       "    <tr>\n",
       "      <th>50%</th>\n",
       "      <td>5.566605e-02</td>\n",
       "      <td>-6.227861e-02</td>\n",
       "      <td>2.277844e-01</td>\n",
       "      <td>-1.854065e-02</td>\n",
       "      <td>-8.075681e-02</td>\n",
       "      <td>2.965544e-01</td>\n",
       "      <td>5.712570e-01</td>\n",
       "      <td>-7.011925e-02</td>\n",
       "      <td>-2.620452e-01</td>\n",
       "      <td>-1.518527e-01</td>\n",
       "    </tr>\n",
       "    <tr>\n",
       "      <th>75%</th>\n",
       "      <td>8.051309e-01</td>\n",
       "      <td>5.772924e-01</td>\n",
       "      <td>7.916582e-01</td>\n",
       "      <td>4.612196e-01</td>\n",
       "      <td>4.228638e-01</td>\n",
       "      <td>7.382490e-01</td>\n",
       "      <td>5.928675e-01</td>\n",
       "      <td>4.311680e-01</td>\n",
       "      <td>8.455882e-02</td>\n",
       "      <td>5.486567e-01</td>\n",
       "    </tr>\n",
       "    <tr>\n",
       "      <th>max</th>\n",
       "      <td>2.266234e+00</td>\n",
       "      <td>3.275970e+00</td>\n",
       "      <td>1.528011e+00</td>\n",
       "      <td>4.486233e+00</td>\n",
       "      <td>2.871006e+00</td>\n",
       "      <td>1.028678e+00</td>\n",
       "      <td>6.627839e-01</td>\n",
       "      <td>2.700105e+00</td>\n",
       "      <td>1.895949e+01</td>\n",
       "      <td>4.937717e+00</td>\n",
       "    </tr>\n",
       "  </tbody>\n",
       "</table>\n",
       "</div>"
      ],
      "text/plain": [
       "                  0             1             2             3             4  \\\n",
       "count  1.503900e+04  1.503900e+04  1.503900e+04  1.503900e+04  1.503900e+04   \n",
       "mean   4.913654e-16 -1.875504e-14  2.570219e-16  1.511894e-16 -7.559468e-17   \n",
       "std    1.000033e+00  1.000033e+00  1.000033e+00  1.000033e+00  1.000033e+00   \n",
       "min   -2.276462e+00 -4.266288e+00 -3.536594e+00 -2.779497e+00 -1.806771e+00   \n",
       "25%   -8.392292e-01 -6.706510e-01 -6.796337e-01 -6.266930e-01 -5.091458e-01   \n",
       "50%    5.566605e-02 -6.227861e-02  2.277844e-01 -1.854065e-02 -8.075681e-02   \n",
       "75%    8.051309e-01  5.772924e-01  7.916582e-01  4.612196e-01  4.228638e-01   \n",
       "max    2.266234e+00  3.275970e+00  1.528011e+00  4.486233e+00  2.871006e+00   \n",
       "\n",
       "                  5             6             7             8             9  \n",
       "count  1.503900e+04  1.503900e+04  1.503900e+04  1.503900e+04  1.503900e+04  \n",
       "mean  -3.260021e-15  1.640405e-15  1.965462e-16  3.779734e-17  4.233302e-16  \n",
       "std    1.000033e+00  1.000033e+00  1.000033e+00  1.000033e+00  1.000033e+00  \n",
       "min   -5.021933e+00 -4.188141e+00 -1.992416e+00 -8.874862e-01 -3.861033e+00  \n",
       "25%   -2.540512e-01 -4.101146e-01 -4.354335e-01 -5.015202e-01 -6.578107e-01  \n",
       "50%    2.965544e-01  5.712570e-01 -7.011925e-02 -2.620452e-01 -1.518527e-01  \n",
       "75%    7.382490e-01  5.928675e-01  4.311680e-01  8.455882e-02  5.486567e-01  \n",
       "max    1.028678e+00  6.627839e-01  2.700105e+00  1.895949e+01  4.937717e+00  "
      ]
     },
     "execution_count": 24,
     "metadata": {},
     "output_type": "execute_result"
    }
   ],
   "source": [
    "pd.DataFrame(data).describe()"
   ]
  },
  {
   "cell_type": "markdown",
   "id": "5d3a293e",
   "metadata": {},
   "source": [
    "###    1) Batch Size and Epochs"
   ]
  },
  {
   "cell_type": "code",
   "execution_count": 25,
   "id": "91f8c954",
   "metadata": {
    "ExecuteTime": {
     "end_time": "2021-04-29T02:43:24.495009Z",
     "start_time": "2021-04-29T02:43:23.772194Z"
    }
   },
   "outputs": [],
   "source": [
    "from sklearn.model_selection import GridSearchCV, KFold\n",
    "from keras.models import Sequential\n",
    "from keras.layers import Dense\n",
    "from keras.wrappers.scikit_learn import KerasRegressor\n",
    "from keras.optimizers import Adam "
   ]
  },
  {
   "cell_type": "markdown",
   "id": "7cb2bb76",
   "metadata": {},
   "source": [
    "###  Build the model "
   ]
  },
  {
   "cell_type": "code",
   "execution_count": 26,
   "id": "56097e9d",
   "metadata": {
    "ExecuteTime": {
     "end_time": "2021-04-29T02:43:32.827447Z",
     "start_time": "2021-04-29T02:43:32.805431Z"
    }
   },
   "outputs": [],
   "source": [
    "def create_model():\n",
    "    model = Sequential()\n",
    "    model.add(Dense(12, input_dim=10, kernel_initializer='uniform', activation='relu',input_shape=(10,)))\n",
    "    model.add(Dense(8, kernel_initializer='uniform', activation='relu'))\n",
    "    model.add(Dense(8, kernel_initializer='uniform', activation='relu'))\n",
    "    model.add(Dense(1, kernel_initializer='uniform', activation='sigmoid'))\n",
    "    model.compile(loss='mean_absolute_error', optimizer='adam', metrics=['mse','mape'])\n",
    "    return model"
   ]
  },
  {
   "cell_type": "code",
   "execution_count": 27,
   "id": "2b9579ba",
   "metadata": {
    "ExecuteTime": {
     "end_time": "2021-04-29T02:43:34.166333Z",
     "start_time": "2021-04-29T02:43:34.156326Z"
    }
   },
   "outputs": [],
   "source": [
    "model = KerasRegressor(build_fn = create_model,verbose = 0)"
   ]
  },
  {
   "cell_type": "markdown",
   "id": "6cdf7844",
   "metadata": {},
   "source": [
    "###  Define the grid search parameters"
   ]
  },
  {
   "cell_type": "code",
   "execution_count": 28,
   "id": "6855dc3f",
   "metadata": {
    "ExecuteTime": {
     "end_time": "2021-04-29T05:38:41.253354Z",
     "start_time": "2021-04-29T02:43:41.550776Z"
    }
   },
   "outputs": [
    {
     "name": "stdout",
     "output_type": "stream",
     "text": [
      "Fitting 5 folds for each of 24 candidates, totalling 120 fits\n",
      "[CV 1/5; 1/24] START batch_size=5, epochs=15....................................\n",
      "[CV 1/5; 1/24] END ..................batch_size=5, epochs=15; total time=  57.4s\n",
      "[CV 2/5; 1/24] START batch_size=5, epochs=15....................................\n",
      "[CV 2/5; 1/24] END ..................batch_size=5, epochs=15; total time= 1.1min\n",
      "[CV 3/5; 1/24] START batch_size=5, epochs=15....................................\n",
      "[CV 3/5; 1/24] END ..................batch_size=5, epochs=15; total time=  49.8s\n",
      "[CV 4/5; 1/24] START batch_size=5, epochs=15....................................\n",
      "[CV 4/5; 1/24] END ..................batch_size=5, epochs=15; total time= 1.1min\n",
      "[CV 5/5; 1/24] START batch_size=5, epochs=15....................................\n",
      "[CV 5/5; 1/24] END ..................batch_size=5, epochs=15; total time=  48.6s\n",
      "[CV 1/5; 2/24] START batch_size=5, epochs=50....................................\n",
      "[CV 1/5; 2/24] END ..................batch_size=5, epochs=50; total time= 3.3min\n",
      "[CV 2/5; 2/24] START batch_size=5, epochs=50....................................\n",
      "[CV 2/5; 2/24] END ..................batch_size=5, epochs=50; total time= 2.6min\n",
      "[CV 3/5; 2/24] START batch_size=5, epochs=50....................................\n",
      "[CV 3/5; 2/24] END ..................batch_size=5, epochs=50; total time= 3.2min\n",
      "[CV 4/5; 2/24] START batch_size=5, epochs=50....................................\n",
      "[CV 4/5; 2/24] END ..................batch_size=5, epochs=50; total time= 3.6min\n",
      "[CV 5/5; 2/24] START batch_size=5, epochs=50....................................\n",
      "[CV 5/5; 2/24] END ..................batch_size=5, epochs=50; total time= 3.5min\n",
      "[CV 1/5; 3/24] START batch_size=5, epochs=80....................................\n",
      "[CV 1/5; 3/24] END ..................batch_size=5, epochs=80; total time= 5.0min\n",
      "[CV 2/5; 3/24] START batch_size=5, epochs=80....................................\n",
      "[CV 2/5; 3/24] END ..................batch_size=5, epochs=80; total time= 5.0min\n",
      "[CV 3/5; 3/24] START batch_size=5, epochs=80....................................\n",
      "[CV 3/5; 3/24] END ..................batch_size=5, epochs=80; total time= 4.8min\n",
      "[CV 4/5; 3/24] START batch_size=5, epochs=80....................................\n",
      "[CV 4/5; 3/24] END ..................batch_size=5, epochs=80; total time= 4.9min\n",
      "[CV 5/5; 3/24] START batch_size=5, epochs=80....................................\n",
      "[CV 5/5; 3/24] END ..................batch_size=5, epochs=80; total time= 7.3min\n",
      "[CV 1/5; 4/24] START batch_size=5, epochs=100...................................\n",
      "[CV 1/5; 4/24] END .................batch_size=5, epochs=100; total time= 9.1min\n",
      "[CV 2/5; 4/24] START batch_size=5, epochs=100...................................\n",
      "[CV 2/5; 4/24] END .................batch_size=5, epochs=100; total time= 8.8min\n",
      "[CV 3/5; 4/24] START batch_size=5, epochs=100...................................\n",
      "[CV 3/5; 4/24] END .................batch_size=5, epochs=100; total time= 8.9min\n",
      "[CV 4/5; 4/24] START batch_size=5, epochs=100...................................\n",
      "[CV 4/5; 4/24] END .................batch_size=5, epochs=100; total time= 9.3min\n",
      "[CV 5/5; 4/24] START batch_size=5, epochs=100...................................\n",
      "[CV 5/5; 4/24] END .................batch_size=5, epochs=100; total time= 9.6min\n",
      "[CV 1/5; 5/24] START batch_size=16, epochs=15...................................\n",
      "[CV 1/5; 5/24] END .................batch_size=16, epochs=15; total time=  30.5s\n",
      "[CV 2/5; 5/24] START batch_size=16, epochs=15...................................\n",
      "[CV 2/5; 5/24] END .................batch_size=16, epochs=15; total time=  33.4s\n",
      "[CV 3/5; 5/24] START batch_size=16, epochs=15...................................\n",
      "[CV 3/5; 5/24] END .................batch_size=16, epochs=15; total time=  32.4s\n",
      "[CV 4/5; 5/24] START batch_size=16, epochs=15...................................\n",
      "[CV 4/5; 5/24] END .................batch_size=16, epochs=15; total time=  28.6s\n",
      "[CV 5/5; 5/24] START batch_size=16, epochs=15...................................\n",
      "[CV 5/5; 5/24] END .................batch_size=16, epochs=15; total time=  27.5s\n",
      "[CV 1/5; 6/24] START batch_size=16, epochs=50...................................\n",
      "[CV 1/5; 6/24] END .................batch_size=16, epochs=50; total time= 1.4min\n",
      "[CV 2/5; 6/24] START batch_size=16, epochs=50...................................\n",
      "[CV 2/5; 6/24] END .................batch_size=16, epochs=50; total time= 1.4min\n",
      "[CV 3/5; 6/24] START batch_size=16, epochs=50...................................\n",
      "[CV 3/5; 6/24] END .................batch_size=16, epochs=50; total time= 1.5min\n",
      "[CV 4/5; 6/24] START batch_size=16, epochs=50...................................\n",
      "[CV 4/5; 6/24] END .................batch_size=16, epochs=50; total time= 1.3min\n",
      "[CV 5/5; 6/24] START batch_size=16, epochs=50...................................\n",
      "[CV 5/5; 6/24] END .................batch_size=16, epochs=50; total time= 1.5min\n",
      "[CV 1/5; 7/24] START batch_size=16, epochs=80...................................\n",
      "[CV 1/5; 7/24] END .................batch_size=16, epochs=80; total time= 2.5min\n",
      "[CV 2/5; 7/24] START batch_size=16, epochs=80...................................\n",
      "[CV 2/5; 7/24] END .................batch_size=16, epochs=80; total time= 2.2min\n",
      "[CV 3/5; 7/24] START batch_size=16, epochs=80...................................\n",
      "[CV 3/5; 7/24] END .................batch_size=16, epochs=80; total time= 1.5min\n",
      "[CV 4/5; 7/24] START batch_size=16, epochs=80...................................\n",
      "[CV 4/5; 7/24] END .................batch_size=16, epochs=80; total time= 2.4min\n",
      "[CV 5/5; 7/24] START batch_size=16, epochs=80...................................\n",
      "[CV 5/5; 7/24] END .................batch_size=16, epochs=80; total time= 2.3min\n",
      "[CV 1/5; 8/24] START batch_size=16, epochs=100..................................\n",
      "[CV 1/5; 8/24] END ................batch_size=16, epochs=100; total time= 2.9min\n",
      "[CV 2/5; 8/24] START batch_size=16, epochs=100..................................\n",
      "[CV 2/5; 8/24] END ................batch_size=16, epochs=100; total time= 2.9min\n",
      "[CV 3/5; 8/24] START batch_size=16, epochs=100..................................\n",
      "[CV 3/5; 8/24] END ................batch_size=16, epochs=100; total time= 3.0min\n",
      "[CV 4/5; 8/24] START batch_size=16, epochs=100..................................\n",
      "[CV 4/5; 8/24] END ................batch_size=16, epochs=100; total time= 3.0min\n",
      "[CV 5/5; 8/24] START batch_size=16, epochs=100..................................\n",
      "[CV 5/5; 8/24] END ................batch_size=16, epochs=100; total time= 2.9min\n",
      "[CV 1/5; 9/24] START batch_size=32, epochs=15...................................\n",
      "[CV 1/5; 9/24] END .................batch_size=32, epochs=15; total time=  17.2s\n",
      "[CV 2/5; 9/24] START batch_size=32, epochs=15...................................\n",
      "[CV 2/5; 9/24] END .................batch_size=32, epochs=15; total time=  16.7s\n",
      "[CV 3/5; 9/24] START batch_size=32, epochs=15...................................\n",
      "[CV 3/5; 9/24] END .................batch_size=32, epochs=15; total time=  16.6s\n",
      "[CV 4/5; 9/24] START batch_size=32, epochs=15...................................\n",
      "[CV 4/5; 9/24] END .................batch_size=32, epochs=15; total time=  16.6s\n",
      "[CV 5/5; 9/24] START batch_size=32, epochs=15...................................\n",
      "[CV 5/5; 9/24] END .................batch_size=32, epochs=15; total time=  16.5s\n",
      "[CV 1/5; 10/24] START batch_size=32, epochs=50..................................\n",
      "[CV 1/5; 10/24] END ................batch_size=32, epochs=50; total time=  48.7s\n",
      "[CV 2/5; 10/24] START batch_size=32, epochs=50..................................\n",
      "[CV 2/5; 10/24] END ................batch_size=32, epochs=50; total time=  48.0s\n",
      "[CV 3/5; 10/24] START batch_size=32, epochs=50..................................\n",
      "[CV 3/5; 10/24] END ................batch_size=32, epochs=50; total time=  47.9s\n",
      "[CV 4/5; 10/24] START batch_size=32, epochs=50..................................\n",
      "[CV 4/5; 10/24] END ................batch_size=32, epochs=50; total time=  47.7s\n",
      "[CV 5/5; 10/24] START batch_size=32, epochs=50..................................\n",
      "[CV 5/5; 10/24] END ................batch_size=32, epochs=50; total time=  46.7s\n",
      "[CV 1/5; 11/24] START batch_size=32, epochs=80..................................\n"
     ]
    },
    {
     "name": "stdout",
     "output_type": "stream",
     "text": [
      "[CV 1/5; 11/24] END ................batch_size=32, epochs=80; total time= 1.2min\n",
      "[CV 2/5; 11/24] START batch_size=32, epochs=80..................................\n",
      "[CV 2/5; 11/24] END ................batch_size=32, epochs=80; total time= 1.2min\n",
      "[CV 3/5; 11/24] START batch_size=32, epochs=80..................................\n",
      "[CV 3/5; 11/24] END ................batch_size=32, epochs=80; total time= 1.2min\n",
      "[CV 4/5; 11/24] START batch_size=32, epochs=80..................................\n",
      "[CV 4/5; 11/24] END ................batch_size=32, epochs=80; total time= 1.3min\n",
      "[CV 5/5; 11/24] START batch_size=32, epochs=80..................................\n",
      "[CV 5/5; 11/24] END ................batch_size=32, epochs=80; total time= 1.2min\n",
      "[CV 1/5; 12/24] START batch_size=32, epochs=100.................................\n",
      "[CV 1/5; 12/24] END ...............batch_size=32, epochs=100; total time= 1.5min\n",
      "[CV 2/5; 12/24] START batch_size=32, epochs=100.................................\n",
      "[CV 2/5; 12/24] END ...............batch_size=32, epochs=100; total time= 1.5min\n",
      "[CV 3/5; 12/24] START batch_size=32, epochs=100.................................\n",
      "[CV 3/5; 12/24] END ...............batch_size=32, epochs=100; total time= 1.5min\n",
      "[CV 4/5; 12/24] START batch_size=32, epochs=100.................................\n",
      "[CV 4/5; 12/24] END ...............batch_size=32, epochs=100; total time= 1.6min\n",
      "[CV 5/5; 12/24] START batch_size=32, epochs=100.................................\n",
      "[CV 5/5; 12/24] END ...............batch_size=32, epochs=100; total time= 1.5min\n",
      "[CV 1/5; 13/24] START batch_size=64, epochs=15..................................\n",
      "[CV 1/5; 13/24] END ................batch_size=64, epochs=15; total time=  10.4s\n",
      "[CV 2/5; 13/24] START batch_size=64, epochs=15..................................\n",
      "[CV 2/5; 13/24] END ................batch_size=64, epochs=15; total time=   9.7s\n",
      "[CV 3/5; 13/24] START batch_size=64, epochs=15..................................\n",
      "[CV 3/5; 13/24] END ................batch_size=64, epochs=15; total time=  11.3s\n",
      "[CV 4/5; 13/24] START batch_size=64, epochs=15..................................\n",
      "[CV 4/5; 13/24] END ................batch_size=64, epochs=15; total time=  10.5s\n",
      "[CV 5/5; 13/24] START batch_size=64, epochs=15..................................\n",
      "[CV 5/5; 13/24] END ................batch_size=64, epochs=15; total time=   9.3s\n",
      "[CV 1/5; 14/24] START batch_size=64, epochs=50..................................\n",
      "[CV 1/5; 14/24] END ................batch_size=64, epochs=50; total time=  25.9s\n",
      "[CV 2/5; 14/24] START batch_size=64, epochs=50..................................\n",
      "[CV 2/5; 14/24] END ................batch_size=64, epochs=50; total time=  26.4s\n",
      "[CV 3/5; 14/24] START batch_size=64, epochs=50..................................\n",
      "[CV 3/5; 14/24] END ................batch_size=64, epochs=50; total time=  26.0s\n",
      "[CV 4/5; 14/24] START batch_size=64, epochs=50..................................\n",
      "[CV 4/5; 14/24] END ................batch_size=64, epochs=50; total time=  26.0s\n",
      "[CV 5/5; 14/24] START batch_size=64, epochs=50..................................\n",
      "[CV 5/5; 14/24] END ................batch_size=64, epochs=50; total time=  24.3s\n",
      "[CV 1/5; 15/24] START batch_size=64, epochs=80..................................\n",
      "[CV 1/5; 15/24] END ................batch_size=64, epochs=80; total time=  40.1s\n",
      "[CV 2/5; 15/24] START batch_size=64, epochs=80..................................\n",
      "[CV 2/5; 15/24] END ................batch_size=64, epochs=80; total time=  39.5s\n",
      "[CV 3/5; 15/24] START batch_size=64, epochs=80..................................\n",
      "[CV 3/5; 15/24] END ................batch_size=64, epochs=80; total time=  39.8s\n",
      "[CV 4/5; 15/24] START batch_size=64, epochs=80..................................\n",
      "[CV 4/5; 15/24] END ................batch_size=64, epochs=80; total time=  39.2s\n",
      "[CV 5/5; 15/24] START batch_size=64, epochs=80..................................\n",
      "[CV 5/5; 15/24] END ................batch_size=64, epochs=80; total time=  39.2s\n",
      "[CV 1/5; 16/24] START batch_size=64, epochs=100.................................\n",
      "[CV 1/5; 16/24] END ...............batch_size=64, epochs=100; total time=  48.3s\n",
      "[CV 2/5; 16/24] START batch_size=64, epochs=100.................................\n",
      "[CV 2/5; 16/24] END ...............batch_size=64, epochs=100; total time=  48.6s\n",
      "[CV 3/5; 16/24] START batch_size=64, epochs=100.................................\n",
      "[CV 3/5; 16/24] END ...............batch_size=64, epochs=100; total time=  48.9s\n",
      "[CV 4/5; 16/24] START batch_size=64, epochs=100.................................\n",
      "[CV 4/5; 16/24] END ...............batch_size=64, epochs=100; total time=  48.6s\n",
      "[CV 5/5; 16/24] START batch_size=64, epochs=100.................................\n",
      "[CV 5/5; 16/24] END ...............batch_size=64, epochs=100; total time=  47.6s\n",
      "[CV 1/5; 17/24] START batch_size=70, epochs=15..................................\n",
      "[CV 1/5; 17/24] END ................batch_size=70, epochs=15; total time=   9.4s\n",
      "[CV 2/5; 17/24] START batch_size=70, epochs=15..................................\n",
      "[CV 2/5; 17/24] END ................batch_size=70, epochs=15; total time=  10.1s\n",
      "[CV 3/5; 17/24] START batch_size=70, epochs=15..................................\n",
      "[CV 3/5; 17/24] END ................batch_size=70, epochs=15; total time=   9.6s\n",
      "[CV 4/5; 17/24] START batch_size=70, epochs=15..................................\n",
      "[CV 4/5; 17/24] END ................batch_size=70, epochs=15; total time=   9.7s\n",
      "[CV 5/5; 17/24] START batch_size=70, epochs=15..................................\n",
      "[CV 5/5; 17/24] END ................batch_size=70, epochs=15; total time=   9.6s\n",
      "[CV 1/5; 18/24] START batch_size=70, epochs=50..................................\n",
      "[CV 1/5; 18/24] END ................batch_size=70, epochs=50; total time=  23.9s\n",
      "[CV 2/5; 18/24] START batch_size=70, epochs=50..................................\n",
      "[CV 2/5; 18/24] END ................batch_size=70, epochs=50; total time=  24.3s\n",
      "[CV 3/5; 18/24] START batch_size=70, epochs=50..................................\n",
      "[CV 3/5; 18/24] END ................batch_size=70, epochs=50; total time=  24.6s\n",
      "[CV 4/5; 18/24] START batch_size=70, epochs=50..................................\n",
      "[CV 4/5; 18/24] END ................batch_size=70, epochs=50; total time=  24.6s\n",
      "[CV 5/5; 18/24] START batch_size=70, epochs=50..................................\n",
      "[CV 5/5; 18/24] END ................batch_size=70, epochs=50; total time=  24.4s\n",
      "[CV 1/5; 19/24] START batch_size=70, epochs=80..................................\n",
      "[CV 1/5; 19/24] END ................batch_size=70, epochs=80; total time=  36.6s\n",
      "[CV 2/5; 19/24] START batch_size=70, epochs=80..................................\n",
      "[CV 2/5; 19/24] END ................batch_size=70, epochs=80; total time=  36.8s\n",
      "[CV 3/5; 19/24] START batch_size=70, epochs=80..................................\n",
      "[CV 3/5; 19/24] END ................batch_size=70, epochs=80; total time=  37.4s\n",
      "[CV 4/5; 19/24] START batch_size=70, epochs=80..................................\n",
      "[CV 4/5; 19/24] END ................batch_size=70, epochs=80; total time=  36.8s\n",
      "[CV 5/5; 19/24] START batch_size=70, epochs=80..................................\n",
      "[CV 5/5; 19/24] END ................batch_size=70, epochs=80; total time=  37.0s\n",
      "[CV 1/5; 20/24] START batch_size=70, epochs=100.................................\n",
      "[CV 1/5; 20/24] END ...............batch_size=70, epochs=100; total time=  45.2s\n",
      "[CV 2/5; 20/24] START batch_size=70, epochs=100.................................\n",
      "[CV 2/5; 20/24] END ...............batch_size=70, epochs=100; total time=  44.9s\n",
      "[CV 3/5; 20/24] START batch_size=70, epochs=100.................................\n",
      "[CV 3/5; 20/24] END ...............batch_size=70, epochs=100; total time=  46.3s\n",
      "[CV 4/5; 20/24] START batch_size=70, epochs=100.................................\n",
      "[CV 4/5; 20/24] END ...............batch_size=70, epochs=100; total time=  44.9s\n",
      "[CV 5/5; 20/24] START batch_size=70, epochs=100.................................\n",
      "[CV 5/5; 20/24] END ...............batch_size=70, epochs=100; total time=  47.2s\n",
      "[CV 1/5; 21/24] START batch_size=128, epochs=15.................................\n",
      "[CV 1/5; 21/24] END ...............batch_size=128, epochs=15; total time=   7.0s\n",
      "[CV 2/5; 21/24] START batch_size=128, epochs=15.................................\n"
     ]
    },
    {
     "name": "stdout",
     "output_type": "stream",
     "text": [
      "[CV 2/5; 21/24] END ...............batch_size=128, epochs=15; total time=   7.1s\n",
      "[CV 3/5; 21/24] START batch_size=128, epochs=15.................................\n",
      "[CV 3/5; 21/24] END ...............batch_size=128, epochs=15; total time=   7.1s\n",
      "[CV 4/5; 21/24] START batch_size=128, epochs=15.................................\n",
      "[CV 4/5; 21/24] END ...............batch_size=128, epochs=15; total time=   6.5s\n",
      "[CV 5/5; 21/24] START batch_size=128, epochs=15.................................\n",
      "[CV 5/5; 21/24] END ...............batch_size=128, epochs=15; total time=   7.2s\n",
      "[CV 1/5; 22/24] START batch_size=128, epochs=50.................................\n",
      "[CV 1/5; 22/24] END ...............batch_size=128, epochs=50; total time=  15.7s\n",
      "[CV 2/5; 22/24] START batch_size=128, epochs=50.................................\n",
      "[CV 2/5; 22/24] END ...............batch_size=128, epochs=50; total time=  15.1s\n",
      "[CV 3/5; 22/24] START batch_size=128, epochs=50.................................\n",
      "[CV 3/5; 22/24] END ...............batch_size=128, epochs=50; total time=  14.9s\n",
      "[CV 4/5; 22/24] START batch_size=128, epochs=50.................................\n",
      "[CV 4/5; 22/24] END ...............batch_size=128, epochs=50; total time=  15.0s\n",
      "[CV 5/5; 22/24] START batch_size=128, epochs=50.................................\n",
      "[CV 5/5; 22/24] END ...............batch_size=128, epochs=50; total time=  14.4s\n",
      "[CV 1/5; 23/24] START batch_size=128, epochs=80.................................\n",
      "[CV 1/5; 23/24] END ...............batch_size=128, epochs=80; total time=  23.7s\n",
      "[CV 2/5; 23/24] START batch_size=128, epochs=80.................................\n",
      "[CV 2/5; 23/24] END ...............batch_size=128, epochs=80; total time=  22.1s\n",
      "[CV 3/5; 23/24] START batch_size=128, epochs=80.................................\n",
      "[CV 3/5; 23/24] END ...............batch_size=128, epochs=80; total time=  22.5s\n",
      "[CV 4/5; 23/24] START batch_size=128, epochs=80.................................\n",
      "[CV 4/5; 23/24] END ...............batch_size=128, epochs=80; total time=  22.1s\n",
      "[CV 5/5; 23/24] START batch_size=128, epochs=80.................................\n",
      "[CV 5/5; 23/24] END ...............batch_size=128, epochs=80; total time=  21.2s\n",
      "[CV 1/5; 24/24] START batch_size=128, epochs=100................................\n",
      "[CV 1/5; 24/24] END ..............batch_size=128, epochs=100; total time=  27.7s\n",
      "[CV 2/5; 24/24] START batch_size=128, epochs=100................................\n",
      "[CV 2/5; 24/24] END ..............batch_size=128, epochs=100; total time=  27.3s\n",
      "[CV 3/5; 24/24] START batch_size=128, epochs=100................................\n",
      "[CV 3/5; 24/24] END ..............batch_size=128, epochs=100; total time=  27.2s\n",
      "[CV 4/5; 24/24] START batch_size=128, epochs=100................................\n",
      "[CV 4/5; 24/24] END ..............batch_size=128, epochs=100; total time=  26.9s\n",
      "[CV 5/5; 24/24] START batch_size=128, epochs=100................................\n",
      "[CV 5/5; 24/24] END ..............batch_size=128, epochs=100; total time=  26.6s\n"
     ]
    }
   ],
   "source": [
    "batch_size = [5,16,32,64,70,128]\n",
    "epochs = [15,50,80,100]\n",
    "param_grid = dict(batch_size = batch_size,epochs = epochs)\n",
    "grid = GridSearchCV(estimator = model,param_grid = param_grid,cv = KFold(),verbose = 10)\n",
    "grid_result = grid.fit(data,y)"
   ]
  },
  {
   "cell_type": "markdown",
   "id": "ddc8a1ee",
   "metadata": {},
   "source": [
    "### Build and fit the GridSearchCV"
   ]
  },
  {
   "cell_type": "code",
   "execution_count": 29,
   "id": "68d24e5b",
   "metadata": {
    "ExecuteTime": {
     "end_time": "2021-04-29T05:47:36.603267Z",
     "start_time": "2021-04-29T05:47:36.522210Z"
    }
   },
   "outputs": [
    {
     "name": "stdout",
     "output_type": "stream",
     "text": [
      "Best : -133.1882751464844, using {'batch_size': 128, 'epochs': 100}\n",
      "-133.18830261230468,3.1143041451555216 with: {'batch_size': 5, 'epochs': 15}\n",
      "-133.18830261230468,3.1143041451555216 with: {'batch_size': 5, 'epochs': 50}\n",
      "-133.18830261230468,3.1143041451555216 with: {'batch_size': 5, 'epochs': 80}\n",
      "-133.18830261230468,3.1143041451555216 with: {'batch_size': 5, 'epochs': 100}\n",
      "-133.18828125,3.1142867809837154 with: {'batch_size': 16, 'epochs': 15}\n",
      "-133.1882781982422,3.1142851005792918 with: {'batch_size': 16, 'epochs': 50}\n",
      "-133.1882781982422,3.1142851005792918 with: {'batch_size': 16, 'epochs': 80}\n",
      "-133.1882781982422,3.1142851005792918 with: {'batch_size': 16, 'epochs': 100}\n",
      "-133.18829040527345,3.1142666122698572 with: {'batch_size': 32, 'epochs': 15}\n",
      "-133.18829040527345,3.1142666122698572 with: {'batch_size': 32, 'epochs': 50}\n",
      "-133.18829040527345,3.1142666122698572 with: {'batch_size': 32, 'epochs': 80}\n",
      "-133.18829040527345,3.1142666122698572 with: {'batch_size': 32, 'epochs': 100}\n",
      "-133.1883331298828,3.114263158194331 with: {'batch_size': 64, 'epochs': 15}\n",
      "-133.1882781982422,3.1142748866775 with: {'batch_size': 64, 'epochs': 50}\n",
      "-133.1882781982422,3.1142748866775 with: {'batch_size': 64, 'epochs': 80}\n",
      "-133.1882781982422,3.1142748866775 with: {'batch_size': 64, 'epochs': 100}\n",
      "-133.18832397460938,3.1142543555707336 with: {'batch_size': 70, 'epochs': 15}\n",
      "-133.18828430175782,3.1142727861017536 with: {'batch_size': 70, 'epochs': 50}\n",
      "-133.18828430175782,3.1142727861017536 with: {'batch_size': 70, 'epochs': 80}\n",
      "-133.1882781982422,3.114278148603865 with: {'batch_size': 70, 'epochs': 100}\n",
      "-133.18836364746093,3.1143059200872703 with: {'batch_size': 128, 'epochs': 15}\n",
      "-133.18828125,3.114263375197473 with: {'batch_size': 128, 'epochs': 50}\n",
      "-133.1882781982422,3.11426758025986 with: {'batch_size': 128, 'epochs': 80}\n",
      "-133.1882751464844,3.114271785328531 with: {'batch_size': 128, 'epochs': 100}\n"
     ]
    }
   ],
   "source": [
    "print('Best : {}, using {}'.format(grid_result.best_score_,grid_result.best_params_))\n",
    "means = grid_result.cv_results_['mean_test_score']\n",
    "stds = grid_result.cv_results_['std_test_score']\n",
    "params = grid_result.cv_results_['params']\n",
    "for mean, stdev, param in zip(means, stds, params):\n",
    "     print('{},{} with: {}'.format(mean, stdev, param)) "
   ]
  },
  {
   "cell_type": "markdown",
   "id": "ddbc806c",
   "metadata": {},
   "source": [
    "###    2) Optimization Algorithm "
   ]
  },
  {
   "cell_type": "code",
   "execution_count": 62,
   "id": "faa3eec9",
   "metadata": {
    "ExecuteTime": {
     "end_time": "2021-04-29T07:22:15.829173Z",
     "start_time": "2021-04-29T07:22:15.693166Z"
    }
   },
   "outputs": [],
   "source": [
    "from sklearn.model_selection import GridSearchCV, KFold\n",
    "from keras.models import Sequential\n",
    "from keras.layers import Dense\n",
    "from keras.wrappers.scikit_learn import KerasRegressor"
   ]
  },
  {
   "cell_type": "markdown",
   "id": "8fa06f7e",
   "metadata": {},
   "source": [
    "###  Build the model"
   ]
  },
  {
   "cell_type": "code",
   "execution_count": 66,
   "id": "404b86af",
   "metadata": {
    "ExecuteTime": {
     "end_time": "2021-04-29T08:25:29.171729Z",
     "start_time": "2021-04-29T08:25:29.160721Z"
    }
   },
   "outputs": [],
   "source": [
    "def create_model(optimizer='adam'):\n",
    "    model = Sequential()\n",
    "    model.add(Dense(12, input_dim=10, kernel_initializer='uniform', activation='relu',input_shape=(10,)))\n",
    "    model.add(Dense(8, kernel_initializer='uniform', activation='relu'))\n",
    "    model.add(Dense(8, kernel_initializer='uniform', activation='relu'))\n",
    "    model.add(Dense(1, kernel_initializer='uniform', activation='sigmoid'))\n",
    "    model.compile(loss='mean_absolute_error', optimizer=optimizer, metrics=['mse','mape'])\n",
    "    return model"
   ]
  },
  {
   "cell_type": "code",
   "execution_count": 67,
   "id": "affbd8a0",
   "metadata": {
    "ExecuteTime": {
     "end_time": "2021-04-29T08:25:29.718031Z",
     "start_time": "2021-04-29T08:25:29.281801Z"
    }
   },
   "outputs": [],
   "source": [
    "model = KerasRegressor(build_fn = create_model,verbose = 0,epochs=150, batch_size=32)"
   ]
  },
  {
   "cell_type": "markdown",
   "id": "a20c9853",
   "metadata": {},
   "source": [
    "###  Define the grid search parameters"
   ]
  },
  {
   "cell_type": "code",
   "execution_count": 68,
   "id": "d81b876d",
   "metadata": {
    "ExecuteTime": {
     "end_time": "2021-04-29T09:23:11.223591Z",
     "start_time": "2021-04-29T08:25:29.829091Z"
    }
   },
   "outputs": [
    {
     "name": "stdout",
     "output_type": "stream",
     "text": [
      "Fitting 5 folds for each of 7 candidates, totalling 35 fits\n",
      "[CV 1/5; 1/7] START optimizer=SGD...............................................\n",
      "[CV 1/5; 1/7] END .............................optimizer=SGD; total time= 1.6min\n",
      "[CV 2/5; 1/7] START optimizer=SGD...............................................\n",
      "[CV 2/5; 1/7] END .............................optimizer=SGD; total time= 1.4min\n",
      "[CV 3/5; 1/7] START optimizer=SGD...............................................\n",
      "[CV 3/5; 1/7] END .............................optimizer=SGD; total time= 1.3min\n",
      "[CV 4/5; 1/7] START optimizer=SGD...............................................\n",
      "[CV 4/5; 1/7] END .............................optimizer=SGD; total time= 1.2min\n",
      "[CV 5/5; 1/7] START optimizer=SGD...............................................\n",
      "[CV 5/5; 1/7] END .............................optimizer=SGD; total time= 1.2min\n",
      "[CV 1/5; 2/7] START optimizer=RMSprop...........................................\n",
      "[CV 1/5; 2/7] END .........................optimizer=RMSprop; total time= 1.3min\n",
      "[CV 2/5; 2/7] START optimizer=RMSprop...........................................\n",
      "[CV 2/5; 2/7] END .........................optimizer=RMSprop; total time= 1.4min\n",
      "[CV 3/5; 2/7] START optimizer=RMSprop...........................................\n",
      "[CV 3/5; 2/7] END .........................optimizer=RMSprop; total time= 1.3min\n",
      "[CV 4/5; 2/7] START optimizer=RMSprop...........................................\n",
      "[CV 4/5; 2/7] END .........................optimizer=RMSprop; total time= 1.3min\n",
      "[CV 5/5; 2/7] START optimizer=RMSprop...........................................\n",
      "[CV 5/5; 2/7] END .........................optimizer=RMSprop; total time= 1.8min\n",
      "[CV 1/5; 3/7] START optimizer=adagrad...........................................\n",
      "[CV 1/5; 3/7] END .........................optimizer=adagrad; total time= 2.1min\n",
      "[CV 2/5; 3/7] START optimizer=adagrad...........................................\n",
      "[CV 2/5; 3/7] END .........................optimizer=adagrad; total time= 2.0min\n",
      "[CV 3/5; 3/7] START optimizer=adagrad...........................................\n",
      "[CV 3/5; 3/7] END .........................optimizer=adagrad; total time= 2.0min\n",
      "[CV 4/5; 3/7] START optimizer=adagrad...........................................\n",
      "[CV 4/5; 3/7] END .........................optimizer=adagrad; total time= 1.4min\n",
      "[CV 5/5; 3/7] START optimizer=adagrad...........................................\n",
      "[CV 5/5; 3/7] END .........................optimizer=adagrad; total time= 1.1min\n",
      "[CV 1/5; 4/7] START optimizer=adadelta..........................................\n",
      "[CV 1/5; 4/7] END ........................optimizer=adadelta; total time= 1.3min\n",
      "[CV 2/5; 4/7] START optimizer=adadelta..........................................\n",
      "[CV 2/5; 4/7] END ........................optimizer=adadelta; total time= 1.3min\n",
      "[CV 3/5; 4/7] START optimizer=adadelta..........................................\n",
      "[CV 3/5; 4/7] END ........................optimizer=adadelta; total time= 1.3min\n",
      "[CV 4/5; 4/7] START optimizer=adadelta..........................................\n",
      "[CV 4/5; 4/7] END ........................optimizer=adadelta; total time= 1.3min\n",
      "[CV 5/5; 4/7] START optimizer=adadelta..........................................\n",
      "[CV 5/5; 4/7] END ........................optimizer=adadelta; total time= 1.2min\n",
      "[CV 1/5; 5/7] START optimizer=adam..............................................\n",
      "[CV 1/5; 5/7] END ............................optimizer=adam; total time= 1.3min\n",
      "[CV 2/5; 5/7] START optimizer=adam..............................................\n",
      "[CV 2/5; 5/7] END ............................optimizer=adam; total time= 1.3min\n",
      "[CV 3/5; 5/7] START optimizer=adam..............................................\n",
      "[CV 3/5; 5/7] END ............................optimizer=adam; total time= 1.2min\n",
      "[CV 4/5; 5/7] START optimizer=adam..............................................\n",
      "[CV 4/5; 5/7] END ............................optimizer=adam; total time= 1.3min\n",
      "[CV 5/5; 5/7] START optimizer=adam..............................................\n",
      "[CV 5/5; 5/7] END ............................optimizer=adam; total time= 1.2min\n",
      "[CV 1/5; 6/7] START optimizer=adamax............................................\n",
      "[CV 1/5; 6/7] END ..........................optimizer=adamax; total time= 1.5min\n",
      "[CV 2/5; 6/7] START optimizer=adamax............................................\n",
      "[CV 2/5; 6/7] END ..........................optimizer=adamax; total time= 2.4min\n",
      "[CV 3/5; 6/7] START optimizer=adamax............................................\n",
      "[CV 3/5; 6/7] END ..........................optimizer=adamax; total time= 2.3min\n",
      "[CV 4/5; 6/7] START optimizer=adamax............................................\n",
      "[CV 4/5; 6/7] END ..........................optimizer=adamax; total time= 2.3min\n",
      "[CV 5/5; 6/7] START optimizer=adamax............................................\n",
      "[CV 5/5; 6/7] END ..........................optimizer=adamax; total time= 2.3min\n",
      "[CV 1/5; 7/7] START optimizer=nadam.............................................\n",
      "[CV 1/5; 7/7] END ...........................optimizer=nadam; total time= 2.4min\n",
      "[CV 2/5; 7/7] START optimizer=nadam.............................................\n",
      "[CV 2/5; 7/7] END ...........................optimizer=nadam; total time= 2.0min\n",
      "[CV 3/5; 7/7] START optimizer=nadam.............................................\n",
      "[CV 3/5; 7/7] END ...........................optimizer=nadam; total time= 2.0min\n",
      "[CV 4/5; 7/7] START optimizer=nadam.............................................\n",
      "[CV 4/5; 7/7] END ...........................optimizer=nadam; total time= 1.7min\n",
      "[CV 5/5; 7/7] START optimizer=nadam.............................................\n",
      "[CV 5/5; 7/7] END ...........................optimizer=nadam; total time= 1.3min\n"
     ]
    }
   ],
   "source": [
    "optimizer = ['SGD', 'RMSprop', 'adagrad', 'adadelta', 'adam', 'adamax', 'nadam']\n",
    "param_grid = dict(optimizer=optimizer)\n",
    "grid = GridSearchCV(estimator = model,param_grid = param_grid,cv = KFold(),verbose = 10)\n",
    "grid_result = grid.fit(data,y)"
   ]
  },
  {
   "cell_type": "markdown",
   "id": "6b7c8619",
   "metadata": {},
   "source": [
    "###   Summarize results"
   ]
  },
  {
   "cell_type": "code",
   "execution_count": 69,
   "id": "311a4689",
   "metadata": {
    "ExecuteTime": {
     "end_time": "2021-04-29T09:23:20.712691Z",
     "start_time": "2021-04-29T09:23:20.547575Z"
    }
   },
   "outputs": [
    {
     "name": "stdout",
     "output_type": "stream",
     "text": [
      "Best : -133.18829040527345, using {'optimizer': 'RMSprop'}\n",
      "-133.18857116699218,3.1142811386524327 with: {'optimizer': 'SGD'}\n",
      "-133.18829040527345,3.1142666122698572 with: {'optimizer': 'RMSprop'}\n",
      "-133.1941162109375,3.1145321322757633 with: {'optimizer': 'adagrad'}\n",
      "-133.1913299560547,3.1139241054279627 with: {'optimizer': 'adadelta'}\n",
      "-133.18829040527345,3.1142666122698572 with: {'optimizer': 'adam'}\n",
      "-133.18829040527345,3.1142666122698572 with: {'optimizer': 'adamax'}\n",
      "-133.18829040527345,3.1142666122698572 with: {'optimizer': 'nadam'}\n"
     ]
    }
   ],
   "source": [
    "print('Best : {}, using {}'.format(grid_result.best_score_,grid_result.best_params_))\n",
    "means = grid_result.cv_results_['mean_test_score']\n",
    "stds = grid_result.cv_results_['std_test_score']\n",
    "params = grid_result.cv_results_['params']\n",
    "for mean, stdev, param in zip(means, stds, params):\n",
    "     print('{},{} with: {}'.format(mean, stdev, param)) "
   ]
  },
  {
   "cell_type": "markdown",
   "id": "d12ca23f",
   "metadata": {},
   "source": [
    "###    3) Learning rate and Momentum"
   ]
  },
  {
   "cell_type": "code",
   "execution_count": 70,
   "id": "9415a028",
   "metadata": {
    "ExecuteTime": {
     "end_time": "2021-04-29T09:23:41.823671Z",
     "start_time": "2021-04-29T09:23:41.631656Z"
    }
   },
   "outputs": [],
   "source": [
    "from keras.optimizers import SGD"
   ]
  },
  {
   "cell_type": "markdown",
   "id": "cae8dc83",
   "metadata": {},
   "source": [
    "###   Defining the model"
   ]
  },
  {
   "cell_type": "code",
   "execution_count": 71,
   "id": "708294b8",
   "metadata": {
    "ExecuteTime": {
     "end_time": "2021-04-29T09:24:04.229991Z",
     "start_time": "2021-04-29T09:24:04.125994Z"
    }
   },
   "outputs": [],
   "source": [
    "def create_model(learning_rate, momentum):\n",
    "    model = Sequential()\n",
    "    model.add(Dense(12, input_dim=10, kernel_initializer='uniform', activation='relu',input_shape=(10,)))\n",
    "    model.add(Dense(8, kernel_initializer='uniform', activation='relu'))\n",
    "    model.add(Dense(8, kernel_initializer='uniform', activation='relu'))\n",
    "    model.add(Dense(1, kernel_initializer='uniform', activation='sigmoid'))\n",
    "    optimizer = SGD(learning_rate=learning_rate, momentum=momentum)\n",
    "    model.compile(loss='mean_absolute_error', optimizer=optimizer, metrics=['mse','mape'])\n",
    "    return model"
   ]
  },
  {
   "cell_type": "code",
   "execution_count": 72,
   "id": "82b02ec2",
   "metadata": {
    "ExecuteTime": {
     "end_time": "2021-04-29T09:24:05.424229Z",
     "start_time": "2021-04-29T09:24:05.384224Z"
    }
   },
   "outputs": [],
   "source": [
    "model = KerasRegressor(build_fn = create_model, verbose = 0,batch_size =32 ,epochs = 150)"
   ]
  },
  {
   "cell_type": "markdown",
   "id": "ed9ccd6b",
   "metadata": {},
   "source": [
    "###  Define the grid search parameters"
   ]
  },
  {
   "cell_type": "code",
   "execution_count": 73,
   "id": "a12a6c78",
   "metadata": {
    "ExecuteTime": {
     "end_time": "2021-04-29T15:57:32.847266Z",
     "start_time": "2021-04-29T09:24:10.831725Z"
    }
   },
   "outputs": [
    {
     "name": "stdout",
     "output_type": "stream",
     "text": [
      "Fitting 5 folds for each of 30 candidates, totalling 150 fits\n",
      "[CV 1/5; 1/30] START learning_rate=0.001, momentum=0.0..........................\n",
      "[CV 1/5; 1/30] END ........learning_rate=0.001, momentum=0.0; total time= 2.2min\n",
      "[CV 2/5; 1/30] START learning_rate=0.001, momentum=0.0..........................\n",
      "[CV 2/5; 1/30] END ........learning_rate=0.001, momentum=0.0; total time= 2.1min\n",
      "[CV 3/5; 1/30] START learning_rate=0.001, momentum=0.0..........................\n",
      "[CV 3/5; 1/30] END ........learning_rate=0.001, momentum=0.0; total time= 2.0min\n",
      "[CV 4/5; 1/30] START learning_rate=0.001, momentum=0.0..........................\n",
      "[CV 4/5; 1/30] END ........learning_rate=0.001, momentum=0.0; total time= 2.1min\n",
      "[CV 5/5; 1/30] START learning_rate=0.001, momentum=0.0..........................\n",
      "[CV 5/5; 1/30] END ........learning_rate=0.001, momentum=0.0; total time= 2.0min\n",
      "[CV 1/5; 2/30] START learning_rate=0.001, momentum=0.2..........................\n",
      "[CV 1/5; 2/30] END ........learning_rate=0.001, momentum=0.2; total time= 2.1min\n",
      "[CV 2/5; 2/30] START learning_rate=0.001, momentum=0.2..........................\n",
      "[CV 2/5; 2/30] END ........learning_rate=0.001, momentum=0.2; total time= 2.1min\n",
      "[CV 3/5; 2/30] START learning_rate=0.001, momentum=0.2..........................\n",
      "[CV 3/5; 2/30] END ........learning_rate=0.001, momentum=0.2; total time= 2.2min\n",
      "[CV 4/5; 2/30] START learning_rate=0.001, momentum=0.2..........................\n",
      "[CV 4/5; 2/30] END ........learning_rate=0.001, momentum=0.2; total time= 2.1min\n",
      "[CV 5/5; 2/30] START learning_rate=0.001, momentum=0.2..........................\n",
      "[CV 5/5; 2/30] END ........learning_rate=0.001, momentum=0.2; total time= 2.1min\n",
      "[CV 1/5; 3/30] START learning_rate=0.001, momentum=0.4..........................\n",
      "[CV 1/5; 3/30] END ........learning_rate=0.001, momentum=0.4; total time= 2.1min\n",
      "[CV 2/5; 3/30] START learning_rate=0.001, momentum=0.4..........................\n",
      "[CV 2/5; 3/30] END ........learning_rate=0.001, momentum=0.4; total time= 2.1min\n",
      "[CV 3/5; 3/30] START learning_rate=0.001, momentum=0.4..........................\n",
      "[CV 3/5; 3/30] END ........learning_rate=0.001, momentum=0.4; total time= 2.1min\n",
      "[CV 4/5; 3/30] START learning_rate=0.001, momentum=0.4..........................\n",
      "[CV 4/5; 3/30] END ........learning_rate=0.001, momentum=0.4; total time= 2.2min\n",
      "[CV 5/5; 3/30] START learning_rate=0.001, momentum=0.4..........................\n",
      "[CV 5/5; 3/30] END ........learning_rate=0.001, momentum=0.4; total time= 2.0min\n",
      "[CV 1/5; 4/30] START learning_rate=0.001, momentum=0.6..........................\n",
      "[CV 1/5; 4/30] END ........learning_rate=0.001, momentum=0.6; total time= 2.1min\n",
      "[CV 2/5; 4/30] START learning_rate=0.001, momentum=0.6..........................\n",
      "[CV 2/5; 4/30] END ........learning_rate=0.001, momentum=0.6; total time= 2.1min\n",
      "[CV 3/5; 4/30] START learning_rate=0.001, momentum=0.6..........................\n",
      "[CV 3/5; 4/30] END ........learning_rate=0.001, momentum=0.6; total time= 2.2min\n",
      "[CV 4/5; 4/30] START learning_rate=0.001, momentum=0.6..........................\n",
      "[CV 4/5; 4/30] END ........learning_rate=0.001, momentum=0.6; total time= 2.2min\n",
      "[CV 5/5; 4/30] START learning_rate=0.001, momentum=0.6..........................\n",
      "[CV 5/5; 4/30] END ........learning_rate=0.001, momentum=0.6; total time= 2.0min\n",
      "[CV 1/5; 5/30] START learning_rate=0.001, momentum=0.8..........................\n",
      "[CV 1/5; 5/30] END ........learning_rate=0.001, momentum=0.8; total time= 2.1min\n",
      "[CV 2/5; 5/30] START learning_rate=0.001, momentum=0.8..........................\n",
      "[CV 2/5; 5/30] END ........learning_rate=0.001, momentum=0.8; total time= 2.1min\n",
      "[CV 3/5; 5/30] START learning_rate=0.001, momentum=0.8..........................\n",
      "[CV 3/5; 5/30] END ........learning_rate=0.001, momentum=0.8; total time= 2.1min\n",
      "[CV 4/5; 5/30] START learning_rate=0.001, momentum=0.8..........................\n",
      "[CV 4/5; 5/30] END ........learning_rate=0.001, momentum=0.8; total time=19.4min\n",
      "[CV 5/5; 5/30] START learning_rate=0.001, momentum=0.8..........................\n",
      "[CV 5/5; 5/30] END ........learning_rate=0.001, momentum=0.8; total time=  58.5s\n",
      "[CV 1/5; 6/30] START learning_rate=0.001, momentum=0.9..........................\n",
      "[CV 1/5; 6/30] END ........learning_rate=0.001, momentum=0.9; total time= 1.6min\n",
      "[CV 2/5; 6/30] START learning_rate=0.001, momentum=0.9..........................\n",
      "[CV 2/5; 6/30] END ........learning_rate=0.001, momentum=0.9; total time= 2.2min\n",
      "[CV 3/5; 6/30] START learning_rate=0.001, momentum=0.9..........................\n",
      "[CV 3/5; 6/30] END ........learning_rate=0.001, momentum=0.9; total time= 2.2min\n",
      "[CV 4/5; 6/30] START learning_rate=0.001, momentum=0.9..........................\n",
      "[CV 4/5; 6/30] END ........learning_rate=0.001, momentum=0.9; total time= 2.2min\n",
      "[CV 5/5; 6/30] START learning_rate=0.001, momentum=0.9..........................\n",
      "[CV 5/5; 6/30] END ........learning_rate=0.001, momentum=0.9; total time= 2.1min\n",
      "[CV 1/5; 7/30] START learning_rate=0.01, momentum=0.0...........................\n",
      "[CV 1/5; 7/30] END .........learning_rate=0.01, momentum=0.0; total time= 2.1min\n",
      "[CV 2/5; 7/30] START learning_rate=0.01, momentum=0.0...........................\n",
      "[CV 2/5; 7/30] END .........learning_rate=0.01, momentum=0.0; total time= 2.1min\n",
      "[CV 3/5; 7/30] START learning_rate=0.01, momentum=0.0...........................\n",
      "[CV 3/5; 7/30] END .........learning_rate=0.01, momentum=0.0; total time=54.8min\n",
      "[CV 4/5; 7/30] START learning_rate=0.01, momentum=0.0...........................\n",
      "[CV 4/5; 7/30] END .........learning_rate=0.01, momentum=0.0; total time= 1.0min\n",
      "[CV 5/5; 7/30] START learning_rate=0.01, momentum=0.0...........................\n",
      "[CV 5/5; 7/30] END .........learning_rate=0.01, momentum=0.0; total time= 1.9min\n",
      "[CV 1/5; 8/30] START learning_rate=0.01, momentum=0.2...........................\n",
      "[CV 1/5; 8/30] END .........learning_rate=0.01, momentum=0.2; total time= 1.6min\n",
      "[CV 2/5; 8/30] START learning_rate=0.01, momentum=0.2...........................\n",
      "[CV 2/5; 8/30] END .........learning_rate=0.01, momentum=0.2; total time= 1.9min\n",
      "[CV 3/5; 8/30] START learning_rate=0.01, momentum=0.2...........................\n",
      "[CV 3/5; 8/30] END .........learning_rate=0.01, momentum=0.2; total time= 1.7min\n",
      "[CV 4/5; 8/30] START learning_rate=0.01, momentum=0.2...........................\n",
      "[CV 4/5; 8/30] END .........learning_rate=0.01, momentum=0.2; total time= 1.6min\n",
      "[CV 5/5; 8/30] START learning_rate=0.01, momentum=0.2...........................\n",
      "[CV 5/5; 8/30] END .........learning_rate=0.01, momentum=0.2; total time= 2.2min\n",
      "[CV 1/5; 9/30] START learning_rate=0.01, momentum=0.4...........................\n",
      "[CV 1/5; 9/30] END .........learning_rate=0.01, momentum=0.4; total time= 2.2min\n",
      "[CV 2/5; 9/30] START learning_rate=0.01, momentum=0.4...........................\n",
      "[CV 2/5; 9/30] END .........learning_rate=0.01, momentum=0.4; total time= 2.2min\n",
      "[CV 3/5; 9/30] START learning_rate=0.01, momentum=0.4...........................\n",
      "[CV 3/5; 9/30] END .........learning_rate=0.01, momentum=0.4; total time= 2.2min\n",
      "[CV 4/5; 9/30] START learning_rate=0.01, momentum=0.4...........................\n",
      "[CV 4/5; 9/30] END .........learning_rate=0.01, momentum=0.4; total time= 2.2min\n",
      "[CV 5/5; 9/30] START learning_rate=0.01, momentum=0.4...........................\n",
      "[CV 5/5; 9/30] END .........learning_rate=0.01, momentum=0.4; total time= 2.1min\n",
      "[CV 1/5; 10/30] START learning_rate=0.01, momentum=0.6..........................\n",
      "[CV 1/5; 10/30] END ........learning_rate=0.01, momentum=0.6; total time= 2.2min\n",
      "[CV 2/5; 10/30] START learning_rate=0.01, momentum=0.6..........................\n",
      "[CV 2/5; 10/30] END ........learning_rate=0.01, momentum=0.6; total time= 2.2min\n",
      "[CV 3/5; 10/30] START learning_rate=0.01, momentum=0.6..........................\n",
      "[CV 3/5; 10/30] END ........learning_rate=0.01, momentum=0.6; total time= 2.2min\n",
      "[CV 4/5; 10/30] START learning_rate=0.01, momentum=0.6..........................\n",
      "[CV 4/5; 10/30] END ........learning_rate=0.01, momentum=0.6; total time= 2.2min\n",
      "[CV 5/5; 10/30] START learning_rate=0.01, momentum=0.6..........................\n",
      "[CV 5/5; 10/30] END ........learning_rate=0.01, momentum=0.6; total time= 2.1min\n",
      "[CV 1/5; 11/30] START learning_rate=0.01, momentum=0.8..........................\n"
     ]
    },
    {
     "name": "stdout",
     "output_type": "stream",
     "text": [
      "[CV 1/5; 11/30] END ........learning_rate=0.01, momentum=0.8; total time= 2.2min\n",
      "[CV 2/5; 11/30] START learning_rate=0.01, momentum=0.8..........................\n",
      "[CV 2/5; 11/30] END ........learning_rate=0.01, momentum=0.8; total time= 2.2min\n",
      "[CV 3/5; 11/30] START learning_rate=0.01, momentum=0.8..........................\n",
      "[CV 3/5; 11/30] END ........learning_rate=0.01, momentum=0.8; total time= 2.2min\n",
      "[CV 4/5; 11/30] START learning_rate=0.01, momentum=0.8..........................\n",
      "[CV 4/5; 11/30] END ........learning_rate=0.01, momentum=0.8; total time= 2.3min\n",
      "[CV 5/5; 11/30] START learning_rate=0.01, momentum=0.8..........................\n",
      "[CV 5/5; 11/30] END ........learning_rate=0.01, momentum=0.8; total time= 2.1min\n",
      "[CV 1/5; 12/30] START learning_rate=0.01, momentum=0.9..........................\n",
      "[CV 1/5; 12/30] END ........learning_rate=0.01, momentum=0.9; total time= 2.2min\n",
      "[CV 2/5; 12/30] START learning_rate=0.01, momentum=0.9..........................\n",
      "[CV 2/5; 12/30] END ........learning_rate=0.01, momentum=0.9; total time= 2.2min\n",
      "[CV 3/5; 12/30] START learning_rate=0.01, momentum=0.9..........................\n",
      "[CV 3/5; 12/30] END ........learning_rate=0.01, momentum=0.9; total time= 2.2min\n",
      "[CV 4/5; 12/30] START learning_rate=0.01, momentum=0.9..........................\n",
      "[CV 4/5; 12/30] END ........learning_rate=0.01, momentum=0.9; total time= 2.2min\n",
      "[CV 5/5; 12/30] START learning_rate=0.01, momentum=0.9..........................\n",
      "[CV 5/5; 12/30] END ........learning_rate=0.01, momentum=0.9; total time= 2.1min\n",
      "[CV 1/5; 13/30] START learning_rate=0.1, momentum=0.0...........................\n",
      "[CV 1/5; 13/30] END .........learning_rate=0.1, momentum=0.0; total time= 2.1min\n",
      "[CV 2/5; 13/30] START learning_rate=0.1, momentum=0.0...........................\n",
      "[CV 2/5; 13/30] END .........learning_rate=0.1, momentum=0.0; total time= 2.1min\n",
      "[CV 3/5; 13/30] START learning_rate=0.1, momentum=0.0...........................\n",
      "[CV 3/5; 13/30] END .........learning_rate=0.1, momentum=0.0; total time= 2.1min\n",
      "[CV 4/5; 13/30] START learning_rate=0.1, momentum=0.0...........................\n",
      "[CV 4/5; 13/30] END .........learning_rate=0.1, momentum=0.0; total time= 2.1min\n",
      "[CV 5/5; 13/30] START learning_rate=0.1, momentum=0.0...........................\n",
      "[CV 5/5; 13/30] END .........learning_rate=0.1, momentum=0.0; total time= 2.0min\n",
      "[CV 1/5; 14/30] START learning_rate=0.1, momentum=0.2...........................\n",
      "[CV 1/5; 14/30] END .........learning_rate=0.1, momentum=0.2; total time= 2.2min\n",
      "[CV 2/5; 14/30] START learning_rate=0.1, momentum=0.2...........................\n",
      "[CV 2/5; 14/30] END .........learning_rate=0.1, momentum=0.2; total time= 2.2min\n",
      "[CV 3/5; 14/30] START learning_rate=0.1, momentum=0.2...........................\n",
      "[CV 3/5; 14/30] END .........learning_rate=0.1, momentum=0.2; total time= 2.2min\n",
      "[CV 4/5; 14/30] START learning_rate=0.1, momentum=0.2...........................\n",
      "[CV 4/5; 14/30] END .........learning_rate=0.1, momentum=0.2; total time= 2.2min\n",
      "[CV 5/5; 14/30] START learning_rate=0.1, momentum=0.2...........................\n",
      "[CV 5/5; 14/30] END .........learning_rate=0.1, momentum=0.2; total time= 2.1min\n",
      "[CV 1/5; 15/30] START learning_rate=0.1, momentum=0.4...........................\n",
      "[CV 1/5; 15/30] END .........learning_rate=0.1, momentum=0.4; total time= 2.2min\n",
      "[CV 2/5; 15/30] START learning_rate=0.1, momentum=0.4...........................\n",
      "[CV 2/5; 15/30] END .........learning_rate=0.1, momentum=0.4; total time= 2.2min\n",
      "[CV 3/5; 15/30] START learning_rate=0.1, momentum=0.4...........................\n",
      "[CV 3/5; 15/30] END .........learning_rate=0.1, momentum=0.4; total time= 2.2min\n",
      "[CV 4/5; 15/30] START learning_rate=0.1, momentum=0.4...........................\n",
      "[CV 4/5; 15/30] END .........learning_rate=0.1, momentum=0.4; total time= 2.2min\n",
      "[CV 5/5; 15/30] START learning_rate=0.1, momentum=0.4...........................\n",
      "[CV 5/5; 15/30] END .........learning_rate=0.1, momentum=0.4; total time= 2.1min\n",
      "[CV 1/5; 16/30] START learning_rate=0.1, momentum=0.6...........................\n",
      "[CV 1/5; 16/30] END .........learning_rate=0.1, momentum=0.6; total time= 2.2min\n",
      "[CV 2/5; 16/30] START learning_rate=0.1, momentum=0.6...........................\n",
      "[CV 2/5; 16/30] END .........learning_rate=0.1, momentum=0.6; total time= 2.2min\n",
      "[CV 3/5; 16/30] START learning_rate=0.1, momentum=0.6...........................\n",
      "[CV 3/5; 16/30] END .........learning_rate=0.1, momentum=0.6; total time= 2.2min\n",
      "[CV 4/5; 16/30] START learning_rate=0.1, momentum=0.6...........................\n",
      "[CV 4/5; 16/30] END .........learning_rate=0.1, momentum=0.6; total time= 2.2min\n",
      "[CV 5/5; 16/30] START learning_rate=0.1, momentum=0.6...........................\n",
      "[CV 5/5; 16/30] END .........learning_rate=0.1, momentum=0.6; total time= 2.1min\n",
      "[CV 1/5; 17/30] START learning_rate=0.1, momentum=0.8...........................\n",
      "[CV 1/5; 17/30] END .........learning_rate=0.1, momentum=0.8; total time= 2.2min\n",
      "[CV 2/5; 17/30] START learning_rate=0.1, momentum=0.8...........................\n",
      "[CV 2/5; 17/30] END .........learning_rate=0.1, momentum=0.8; total time= 2.2min\n",
      "[CV 3/5; 17/30] START learning_rate=0.1, momentum=0.8...........................\n",
      "[CV 3/5; 17/30] END .........learning_rate=0.1, momentum=0.8; total time= 2.2min\n",
      "[CV 4/5; 17/30] START learning_rate=0.1, momentum=0.8...........................\n",
      "[CV 4/5; 17/30] END .........learning_rate=0.1, momentum=0.8; total time= 2.2min\n",
      "[CV 5/5; 17/30] START learning_rate=0.1, momentum=0.8...........................\n",
      "[CV 5/5; 17/30] END .........learning_rate=0.1, momentum=0.8; total time= 2.1min\n",
      "[CV 1/5; 18/30] START learning_rate=0.1, momentum=0.9...........................\n",
      "[CV 1/5; 18/30] END .........learning_rate=0.1, momentum=0.9; total time= 2.2min\n",
      "[CV 2/5; 18/30] START learning_rate=0.1, momentum=0.9...........................\n",
      "[CV 2/5; 18/30] END .........learning_rate=0.1, momentum=0.9; total time= 2.2min\n",
      "[CV 3/5; 18/30] START learning_rate=0.1, momentum=0.9...........................\n",
      "[CV 3/5; 18/30] END .........learning_rate=0.1, momentum=0.9; total time= 2.2min\n",
      "[CV 4/5; 18/30] START learning_rate=0.1, momentum=0.9...........................\n",
      "[CV 4/5; 18/30] END .........learning_rate=0.1, momentum=0.9; total time= 2.2min\n",
      "[CV 5/5; 18/30] START learning_rate=0.1, momentum=0.9...........................\n",
      "[CV 5/5; 18/30] END .........learning_rate=0.1, momentum=0.9; total time= 2.1min\n",
      "[CV 1/5; 19/30] START learning_rate=0.2, momentum=0.0...........................\n",
      "[CV 1/5; 19/30] END .........learning_rate=0.2, momentum=0.0; total time= 2.1min\n",
      "[CV 2/5; 19/30] START learning_rate=0.2, momentum=0.0...........................\n",
      "[CV 2/5; 19/30] END .........learning_rate=0.2, momentum=0.0; total time= 2.1min\n",
      "[CV 3/5; 19/30] START learning_rate=0.2, momentum=0.0...........................\n",
      "[CV 3/5; 19/30] END .........learning_rate=0.2, momentum=0.0; total time= 2.1min\n",
      "[CV 4/5; 19/30] START learning_rate=0.2, momentum=0.0...........................\n",
      "[CV 4/5; 19/30] END .........learning_rate=0.2, momentum=0.0; total time= 2.1min\n",
      "[CV 5/5; 19/30] START learning_rate=0.2, momentum=0.0...........................\n",
      "[CV 5/5; 19/30] END .........learning_rate=0.2, momentum=0.0; total time= 2.0min\n",
      "[CV 1/5; 20/30] START learning_rate=0.2, momentum=0.2...........................\n",
      "[CV 1/5; 20/30] END .........learning_rate=0.2, momentum=0.2; total time= 2.2min\n",
      "[CV 2/5; 20/30] START learning_rate=0.2, momentum=0.2...........................\n",
      "[CV 2/5; 20/30] END .........learning_rate=0.2, momentum=0.2; total time= 2.2min\n",
      "[CV 3/5; 20/30] START learning_rate=0.2, momentum=0.2...........................\n",
      "[CV 3/5; 20/30] END .........learning_rate=0.2, momentum=0.2; total time= 2.2min\n",
      "[CV 4/5; 20/30] START learning_rate=0.2, momentum=0.2...........................\n",
      "[CV 4/5; 20/30] END .........learning_rate=0.2, momentum=0.2; total time= 2.2min\n",
      "[CV 5/5; 20/30] START learning_rate=0.2, momentum=0.2...........................\n",
      "[CV 5/5; 20/30] END .........learning_rate=0.2, momentum=0.2; total time= 2.3min\n",
      "[CV 1/5; 21/30] START learning_rate=0.2, momentum=0.4...........................\n",
      "[CV 1/5; 21/30] END .........learning_rate=0.2, momentum=0.4; total time= 2.2min\n",
      "[CV 2/5; 21/30] START learning_rate=0.2, momentum=0.4...........................\n"
     ]
    },
    {
     "name": "stdout",
     "output_type": "stream",
     "text": [
      "[CV 2/5; 21/30] END .........learning_rate=0.2, momentum=0.4; total time= 2.1min\n",
      "[CV 3/5; 21/30] START learning_rate=0.2, momentum=0.4...........................\n",
      "[CV 3/5; 21/30] END .........learning_rate=0.2, momentum=0.4; total time= 2.2min\n",
      "[CV 4/5; 21/30] START learning_rate=0.2, momentum=0.4...........................\n",
      "[CV 4/5; 21/30] END .........learning_rate=0.2, momentum=0.4; total time= 2.2min\n",
      "[CV 5/5; 21/30] START learning_rate=0.2, momentum=0.4...........................\n",
      "[CV 5/5; 21/30] END .........learning_rate=0.2, momentum=0.4; total time= 2.1min\n",
      "[CV 1/5; 22/30] START learning_rate=0.2, momentum=0.6...........................\n",
      "[CV 1/5; 22/30] END .........learning_rate=0.2, momentum=0.6; total time= 2.2min\n",
      "[CV 2/5; 22/30] START learning_rate=0.2, momentum=0.6...........................\n",
      "[CV 2/5; 22/30] END .........learning_rate=0.2, momentum=0.6; total time= 2.3min\n",
      "[CV 3/5; 22/30] START learning_rate=0.2, momentum=0.6...........................\n",
      "[CV 3/5; 22/30] END .........learning_rate=0.2, momentum=0.6; total time= 2.2min\n",
      "[CV 4/5; 22/30] START learning_rate=0.2, momentum=0.6...........................\n",
      "[CV 4/5; 22/30] END .........learning_rate=0.2, momentum=0.6; total time= 2.1min\n",
      "[CV 5/5; 22/30] START learning_rate=0.2, momentum=0.6...........................\n",
      "[CV 5/5; 22/30] END .........learning_rate=0.2, momentum=0.6; total time= 2.2min\n",
      "[CV 1/5; 23/30] START learning_rate=0.2, momentum=0.8...........................\n",
      "[CV 1/5; 23/30] END .........learning_rate=0.2, momentum=0.8; total time= 1.4min\n",
      "[CV 2/5; 23/30] START learning_rate=0.2, momentum=0.8...........................\n",
      "[CV 2/5; 23/30] END .........learning_rate=0.2, momentum=0.8; total time= 2.1min\n",
      "[CV 3/5; 23/30] START learning_rate=0.2, momentum=0.8...........................\n",
      "[CV 3/5; 23/30] END .........learning_rate=0.2, momentum=0.8; total time= 2.2min\n",
      "[CV 4/5; 23/30] START learning_rate=0.2, momentum=0.8...........................\n",
      "[CV 4/5; 23/30] END .........learning_rate=0.2, momentum=0.8; total time= 2.0min\n",
      "[CV 5/5; 23/30] START learning_rate=0.2, momentum=0.8...........................\n",
      "[CV 5/5; 23/30] END .........learning_rate=0.2, momentum=0.8; total time= 2.0min\n",
      "[CV 1/5; 24/30] START learning_rate=0.2, momentum=0.9...........................\n",
      "[CV 1/5; 24/30] END .........learning_rate=0.2, momentum=0.9; total time= 2.3min\n",
      "[CV 2/5; 24/30] START learning_rate=0.2, momentum=0.9...........................\n",
      "[CV 2/5; 24/30] END .........learning_rate=0.2, momentum=0.9; total time= 2.2min\n",
      "[CV 3/5; 24/30] START learning_rate=0.2, momentum=0.9...........................\n",
      "[CV 3/5; 24/30] END .........learning_rate=0.2, momentum=0.9; total time= 2.2min\n",
      "[CV 4/5; 24/30] START learning_rate=0.2, momentum=0.9...........................\n",
      "[CV 4/5; 24/30] END .........learning_rate=0.2, momentum=0.9; total time= 2.3min\n",
      "[CV 5/5; 24/30] START learning_rate=0.2, momentum=0.9...........................\n",
      "[CV 5/5; 24/30] END .........learning_rate=0.2, momentum=0.9; total time= 2.2min\n",
      "[CV 1/5; 25/30] START learning_rate=0.4, momentum=0.0...........................\n",
      "[CV 1/5; 25/30] END .........learning_rate=0.4, momentum=0.0; total time= 2.0min\n",
      "[CV 2/5; 25/30] START learning_rate=0.4, momentum=0.0...........................\n",
      "[CV 2/5; 25/30] END .........learning_rate=0.4, momentum=0.0; total time= 2.0min\n",
      "[CV 3/5; 25/30] START learning_rate=0.4, momentum=0.0...........................\n",
      "[CV 3/5; 25/30] END .........learning_rate=0.4, momentum=0.0; total time= 2.2min\n",
      "[CV 4/5; 25/30] START learning_rate=0.4, momentum=0.0...........................\n",
      "[CV 4/5; 25/30] END .........learning_rate=0.4, momentum=0.0; total time= 2.2min\n",
      "[CV 5/5; 25/30] START learning_rate=0.4, momentum=0.0...........................\n",
      "[CV 5/5; 25/30] END .........learning_rate=0.4, momentum=0.0; total time= 2.1min\n",
      "[CV 1/5; 26/30] START learning_rate=0.4, momentum=0.2...........................\n",
      "[CV 1/5; 26/30] END .........learning_rate=0.4, momentum=0.2; total time= 2.3min\n",
      "[CV 2/5; 26/30] START learning_rate=0.4, momentum=0.2...........................\n",
      "[CV 2/5; 26/30] END .........learning_rate=0.4, momentum=0.2; total time= 2.3min\n",
      "[CV 3/5; 26/30] START learning_rate=0.4, momentum=0.2...........................\n",
      "[CV 3/5; 26/30] END .........learning_rate=0.4, momentum=0.2; total time= 2.3min\n",
      "[CV 4/5; 26/30] START learning_rate=0.4, momentum=0.2...........................\n",
      "[CV 4/5; 26/30] END .........learning_rate=0.4, momentum=0.2; total time= 2.3min\n",
      "[CV 5/5; 26/30] START learning_rate=0.4, momentum=0.2...........................\n",
      "[CV 5/5; 26/30] END .........learning_rate=0.4, momentum=0.2; total time= 2.2min\n",
      "[CV 1/5; 27/30] START learning_rate=0.4, momentum=0.4...........................\n",
      "[CV 1/5; 27/30] END .........learning_rate=0.4, momentum=0.4; total time= 2.3min\n",
      "[CV 2/5; 27/30] START learning_rate=0.4, momentum=0.4...........................\n",
      "[CV 2/5; 27/30] END .........learning_rate=0.4, momentum=0.4; total time= 2.4min\n",
      "[CV 3/5; 27/30] START learning_rate=0.4, momentum=0.4...........................\n",
      "[CV 3/5; 27/30] END .........learning_rate=0.4, momentum=0.4; total time= 2.3min\n",
      "[CV 4/5; 27/30] START learning_rate=0.4, momentum=0.4...........................\n",
      "[CV 4/5; 27/30] END .........learning_rate=0.4, momentum=0.4; total time= 2.3min\n",
      "[CV 5/5; 27/30] START learning_rate=0.4, momentum=0.4...........................\n",
      "[CV 5/5; 27/30] END .........learning_rate=0.4, momentum=0.4; total time= 2.4min\n",
      "[CV 1/5; 28/30] START learning_rate=0.4, momentum=0.6...........................\n",
      "[CV 1/5; 28/30] END .........learning_rate=0.4, momentum=0.6; total time= 2.4min\n",
      "[CV 2/5; 28/30] START learning_rate=0.4, momentum=0.6...........................\n",
      "[CV 2/5; 28/30] END .........learning_rate=0.4, momentum=0.6; total time= 2.5min\n",
      "[CV 3/5; 28/30] START learning_rate=0.4, momentum=0.6...........................\n",
      "[CV 3/5; 28/30] END .........learning_rate=0.4, momentum=0.6; total time= 2.4min\n",
      "[CV 4/5; 28/30] START learning_rate=0.4, momentum=0.6...........................\n",
      "[CV 4/5; 28/30] END .........learning_rate=0.4, momentum=0.6; total time= 2.2min\n",
      "[CV 5/5; 28/30] START learning_rate=0.4, momentum=0.6...........................\n",
      "[CV 5/5; 28/30] END .........learning_rate=0.4, momentum=0.6; total time= 2.2min\n",
      "[CV 1/5; 29/30] START learning_rate=0.4, momentum=0.8...........................\n",
      "[CV 1/5; 29/30] END .........learning_rate=0.4, momentum=0.8; total time= 2.2min\n",
      "[CV 2/5; 29/30] START learning_rate=0.4, momentum=0.8...........................\n",
      "[CV 2/5; 29/30] END .........learning_rate=0.4, momentum=0.8; total time= 2.3min\n",
      "[CV 3/5; 29/30] START learning_rate=0.4, momentum=0.8...........................\n",
      "[CV 3/5; 29/30] END .........learning_rate=0.4, momentum=0.8; total time= 2.3min\n",
      "[CV 4/5; 29/30] START learning_rate=0.4, momentum=0.8...........................\n",
      "[CV 4/5; 29/30] END .........learning_rate=0.4, momentum=0.8; total time= 2.3min\n",
      "[CV 5/5; 29/30] START learning_rate=0.4, momentum=0.8...........................\n",
      "[CV 5/5; 29/30] END .........learning_rate=0.4, momentum=0.8; total time= 2.2min\n",
      "[CV 1/5; 30/30] START learning_rate=0.4, momentum=0.9...........................\n",
      "[CV 1/5; 30/30] END .........learning_rate=0.4, momentum=0.9; total time= 2.2min\n",
      "[CV 2/5; 30/30] START learning_rate=0.4, momentum=0.9...........................\n",
      "[CV 2/5; 30/30] END .........learning_rate=0.4, momentum=0.9; total time= 2.3min\n",
      "[CV 3/5; 30/30] START learning_rate=0.4, momentum=0.9...........................\n",
      "[CV 3/5; 30/30] END .........learning_rate=0.4, momentum=0.9; total time= 2.3min\n",
      "[CV 4/5; 30/30] START learning_rate=0.4, momentum=0.9...........................\n",
      "[CV 4/5; 30/30] END .........learning_rate=0.4, momentum=0.9; total time= 2.3min\n",
      "[CV 5/5; 30/30] START learning_rate=0.4, momentum=0.9...........................\n",
      "[CV 5/5; 30/30] END .........learning_rate=0.4, momentum=0.9; total time= 2.2min\n"
     ]
    }
   ],
   "source": [
    "learning_rate = [0.001,0.01,0.1,0.2,0.4]\n",
    "momentum = [0.0, 0.2, 0.4, 0.6, 0.8, 0.9]\n",
    "param_grids = dict(learning_rate = learning_rate,momentum = momentum)\n",
    "grid = GridSearchCV(estimator = model,param_grid = param_grids,cv = KFold(),verbose = 10)\n",
    "grid_result = grid.fit(data,y)"
   ]
  },
  {
   "cell_type": "markdown",
   "id": "556b14ee",
   "metadata": {},
   "source": [
    "###  Summarize the results"
   ]
  },
  {
   "cell_type": "code",
   "execution_count": 74,
   "id": "ab4709f1",
   "metadata": {
    "ExecuteTime": {
     "end_time": "2021-04-29T15:58:08.957973Z",
     "start_time": "2021-04-29T15:58:08.837892Z"
    }
   },
   "outputs": [
    {
     "name": "stdout",
     "output_type": "stream",
     "text": [
      "Best : -133.18829040527345, using {'learning_rate': 0.1, 'momentum': 0.4}\n",
      "-133.19943542480468,3.1145394740723087 with: {'learning_rate': 0.001, 'momentum': 0.0}\n",
      "-133.1961669921875,3.1146454087677604 with: {'learning_rate': 0.001, 'momentum': 0.2}\n",
      "-133.19296569824218,3.1145328281783304 with: {'learning_rate': 0.001, 'momentum': 0.4}\n",
      "-133.19091796875,3.1141310684882595 with: {'learning_rate': 0.001, 'momentum': 0.6}\n",
      "-133.18896484375,3.114284784634438 with: {'learning_rate': 0.001, 'momentum': 0.8}\n",
      "-133.18854370117188,3.114241896753441 with: {'learning_rate': 0.001, 'momentum': 0.9}\n",
      "-133.18854370117188,3.114266048099326 with: {'learning_rate': 0.01, 'momentum': 0.0}\n",
      "-133.1884796142578,3.1142737292417992 with: {'learning_rate': 0.01, 'momentum': 0.2}\n",
      "-133.1884338378906,3.1142601132556336 with: {'learning_rate': 0.01, 'momentum': 0.4}\n",
      "-133.1883758544922,3.114248000174657 with: {'learning_rate': 0.01, 'momentum': 0.6}\n",
      "-133.1883117675781,3.114271818164207 with: {'learning_rate': 0.01, 'momentum': 0.8}\n",
      "-133.18829956054688,3.1142676131195044 with: {'learning_rate': 0.01, 'momentum': 0.9}\n",
      "-133.18829956054688,3.1142676131195044 with: {'learning_rate': 0.1, 'momentum': 0.0}\n",
      "-133.18829650878905,3.114275080078834 with: {'learning_rate': 0.1, 'momentum': 0.2}\n",
      "-133.18829040527345,3.1142666122698572 with: {'learning_rate': 0.1, 'momentum': 0.4}\n",
      "-133.18829040527345,3.1142666122698572 with: {'learning_rate': 0.1, 'momentum': 0.6}\n",
      "-133.18829040527345,3.1142666122698572 with: {'learning_rate': 0.1, 'momentum': 0.8}\n",
      "-133.18829040527345,3.1142666122698572 with: {'learning_rate': 0.1, 'momentum': 0.9}\n",
      "-133.18829040527345,3.1142666122698572 with: {'learning_rate': 0.2, 'momentum': 0.0}\n",
      "-133.18829040527345,3.1142666122698572 with: {'learning_rate': 0.2, 'momentum': 0.2}\n",
      "-133.18829040527345,3.1142666122698572 with: {'learning_rate': 0.2, 'momentum': 0.4}\n",
      "-133.18829040527345,3.1142666122698572 with: {'learning_rate': 0.2, 'momentum': 0.6}\n",
      "-133.18829040527345,3.1142666122698572 with: {'learning_rate': 0.2, 'momentum': 0.8}\n",
      "-133.18829040527345,3.1142666122698572 with: {'learning_rate': 0.2, 'momentum': 0.9}\n",
      "-133.18829040527345,3.1142666122698572 with: {'learning_rate': 0.4, 'momentum': 0.0}\n",
      "-133.18829040527345,3.1142666122698572 with: {'learning_rate': 0.4, 'momentum': 0.2}\n",
      "-133.18829040527345,3.1142666122698572 with: {'learning_rate': 0.4, 'momentum': 0.4}\n",
      "-133.18829040527345,3.1142666122698572 with: {'learning_rate': 0.4, 'momentum': 0.6}\n",
      "-133.18829040527345,3.1142666122698572 with: {'learning_rate': 0.4, 'momentum': 0.8}\n",
      "-133.18829040527345,3.1142666122698572 with: {'learning_rate': 0.4, 'momentum': 0.9}\n"
     ]
    }
   ],
   "source": [
    "print('Best : {}, using {}'.format(grid_result.best_score_,grid_result.best_params_))\n",
    "means = grid_result.cv_results_['mean_test_score']\n",
    "stds = grid_result.cv_results_['std_test_score']\n",
    "params = grid_result.cv_results_['params']\n",
    "for mean, stdev, param in zip(means, stds, params):\n",
    "     print('{},{} with: {}'.format(mean, stdev, param)) "
   ]
  },
  {
   "cell_type": "markdown",
   "id": "ce38664f",
   "metadata": {},
   "source": [
    "###   4)  Activation Function and Kernel Initializer"
   ]
  },
  {
   "cell_type": "markdown",
   "id": "c31c6b74",
   "metadata": {},
   "source": [
    "###  Defining the model"
   ]
  },
  {
   "cell_type": "code",
   "execution_count": 82,
   "id": "233d738b",
   "metadata": {
    "ExecuteTime": {
     "end_time": "2021-04-29T16:03:51.003187Z",
     "start_time": "2021-04-29T16:03:50.980179Z"
    }
   },
   "outputs": [],
   "source": [
    "def create_model(activation,kernal_initializer):\n",
    "    model = Sequential()\n",
    "    model.add(Dense(12, input_dim=10, kernel_initializer=kernal_initializer, activation= activation,input_shape=(10,)))\n",
    "    model.add(Dense(8, kernel_initializer=kernal_initializer, activation=activation))\n",
    "    model.add(Dense(8, kernel_initializer=kernal_initializer, activation=activation))\n",
    "    model.add(Dense(1, kernel_initializer=kernal_initializer, activation=activation))\n",
    "    model.compile(loss='mean_absolute_error', optimizer='adam', metrics=['mse','mape'])\n",
    "    return model"
   ]
  },
  {
   "cell_type": "code",
   "execution_count": 83,
   "id": "db2cbc23",
   "metadata": {
    "ExecuteTime": {
     "end_time": "2021-04-29T16:03:52.130942Z",
     "start_time": "2021-04-29T16:03:52.113929Z"
    }
   },
   "outputs": [],
   "source": [
    "model = KerasRegressor(build_fn = create_model, verbose = 0, batch_size =32, epochs = 150)"
   ]
  },
  {
   "cell_type": "markdown",
   "id": "3b7666cd",
   "metadata": {},
   "source": [
    "###  Define the grid search parameters"
   ]
  },
  {
   "cell_type": "code",
   "execution_count": 85,
   "id": "a95d2ec6",
   "metadata": {
    "ExecuteTime": {
     "end_time": "2021-04-30T03:40:18.293109Z",
     "start_time": "2021-04-29T19:27:53.098216Z"
    }
   },
   "outputs": [
    {
     "name": "stdout",
     "output_type": "stream",
     "text": [
      "Fitting 5 folds for each of 24 candidates, totalling 120 fits\n",
      "[CV 1/5; 1/24] START activation=softmax, kernal_initializer=uniform.............\n",
      "[CV 1/5; 1/24] END activation=softmax, kernal_initializer=uniform; total time= 1.8min\n",
      "[CV 2/5; 1/24] START activation=softmax, kernal_initializer=uniform.............\n",
      "[CV 2/5; 1/24] END activation=softmax, kernal_initializer=uniform; total time= 1.9min\n",
      "[CV 3/5; 1/24] START activation=softmax, kernal_initializer=uniform.............\n",
      "[CV 3/5; 1/24] END activation=softmax, kernal_initializer=uniform; total time= 2.2min\n",
      "[CV 4/5; 1/24] START activation=softmax, kernal_initializer=uniform.............\n",
      "[CV 4/5; 1/24] END activation=softmax, kernal_initializer=uniform; total time= 2.3min\n",
      "[CV 5/5; 1/24] START activation=softmax, kernal_initializer=uniform.............\n",
      "[CV 5/5; 1/24] END activation=softmax, kernal_initializer=uniform; total time= 2.3min\n",
      "[CV 1/5; 2/24] START activation=softmax, kernal_initializer=normal..............\n",
      "[CV 1/5; 2/24] END activation=softmax, kernal_initializer=normal; total time= 2.2min\n",
      "[CV 2/5; 2/24] START activation=softmax, kernal_initializer=normal..............\n",
      "[CV 2/5; 2/24] END activation=softmax, kernal_initializer=normal; total time= 1.9min\n",
      "[CV 3/5; 2/24] START activation=softmax, kernal_initializer=normal..............\n",
      "[CV 3/5; 2/24] END activation=softmax, kernal_initializer=normal; total time= 2.5min\n",
      "[CV 4/5; 2/24] START activation=softmax, kernal_initializer=normal..............\n",
      "[CV 4/5; 2/24] END activation=softmax, kernal_initializer=normal; total time= 2.5min\n",
      "[CV 5/5; 2/24] START activation=softmax, kernal_initializer=normal..............\n",
      "[CV 5/5; 2/24] END activation=softmax, kernal_initializer=normal; total time= 2.4min\n",
      "[CV 1/5; 3/24] START activation=softmax, kernal_initializer=zero................\n",
      "[CV 1/5; 3/24] END activation=softmax, kernal_initializer=zero; total time= 2.3min\n",
      "[CV 2/5; 3/24] START activation=softmax, kernal_initializer=zero................\n",
      "[CV 2/5; 3/24] END activation=softmax, kernal_initializer=zero; total time= 2.6min\n",
      "[CV 3/5; 3/24] START activation=softmax, kernal_initializer=zero................\n",
      "[CV 3/5; 3/24] END activation=softmax, kernal_initializer=zero; total time= 2.6min\n",
      "[CV 4/5; 3/24] START activation=softmax, kernal_initializer=zero................\n",
      "[CV 4/5; 3/24] END activation=softmax, kernal_initializer=zero; total time= 2.7min\n",
      "[CV 5/5; 3/24] START activation=softmax, kernal_initializer=zero................\n",
      "[CV 5/5; 3/24] END activation=softmax, kernal_initializer=zero; total time= 2.8min\n",
      "[CV 1/5; 4/24] START activation=softplus, kernal_initializer=uniform............\n",
      "[CV 1/5; 4/24] END activation=softplus, kernal_initializer=uniform; total time= 2.6min\n",
      "[CV 2/5; 4/24] START activation=softplus, kernal_initializer=uniform............\n",
      "[CV 2/5; 4/24] END activation=softplus, kernal_initializer=uniform; total time= 2.5min\n",
      "[CV 3/5; 4/24] START activation=softplus, kernal_initializer=uniform............\n",
      "[CV 3/5; 4/24] END activation=softplus, kernal_initializer=uniform; total time= 2.6min\n",
      "[CV 4/5; 4/24] START activation=softplus, kernal_initializer=uniform............\n",
      "[CV 4/5; 4/24] END activation=softplus, kernal_initializer=uniform; total time= 2.6min\n",
      "[CV 5/5; 4/24] START activation=softplus, kernal_initializer=uniform............\n",
      "[CV 5/5; 4/24] END activation=softplus, kernal_initializer=uniform; total time= 2.5min\n",
      "[CV 1/5; 5/24] START activation=softplus, kernal_initializer=normal.............\n",
      "[CV 1/5; 5/24] END activation=softplus, kernal_initializer=normal; total time= 1.8min\n",
      "[CV 2/5; 5/24] START activation=softplus, kernal_initializer=normal.............\n",
      "[CV 2/5; 5/24] END activation=softplus, kernal_initializer=normal; total time= 2.5min\n",
      "[CV 3/5; 5/24] START activation=softplus, kernal_initializer=normal.............\n",
      "[CV 3/5; 5/24] END activation=softplus, kernal_initializer=normal; total time= 2.1min\n",
      "[CV 4/5; 5/24] START activation=softplus, kernal_initializer=normal.............\n",
      "[CV 4/5; 5/24] END activation=softplus, kernal_initializer=normal; total time= 2.4min\n",
      "[CV 5/5; 5/24] START activation=softplus, kernal_initializer=normal.............\n",
      "[CV 5/5; 5/24] END activation=softplus, kernal_initializer=normal; total time= 2.2min\n",
      "[CV 1/5; 6/24] START activation=softplus, kernal_initializer=zero...............\n",
      "[CV 1/5; 6/24] END activation=softplus, kernal_initializer=zero; total time= 2.4min\n",
      "[CV 2/5; 6/24] START activation=softplus, kernal_initializer=zero...............\n",
      "[CV 2/5; 6/24] END activation=softplus, kernal_initializer=zero; total time= 2.2min\n",
      "[CV 3/5; 6/24] START activation=softplus, kernal_initializer=zero...............\n",
      "[CV 3/5; 6/24] END activation=softplus, kernal_initializer=zero; total time= 2.6min\n",
      "[CV 4/5; 6/24] START activation=softplus, kernal_initializer=zero...............\n",
      "[CV 4/5; 6/24] END activation=softplus, kernal_initializer=zero; total time= 2.5min\n",
      "[CV 5/5; 6/24] START activation=softplus, kernal_initializer=zero...............\n",
      "[CV 5/5; 6/24] END activation=softplus, kernal_initializer=zero; total time= 2.4min\n",
      "[CV 1/5; 7/24] START activation=softsign, kernal_initializer=uniform............\n",
      "[CV 1/5; 7/24] END activation=softsign, kernal_initializer=uniform; total time= 2.5min\n",
      "[CV 2/5; 7/24] START activation=softsign, kernal_initializer=uniform............\n",
      "[CV 2/5; 7/24] END activation=softsign, kernal_initializer=uniform; total time= 2.4min\n",
      "[CV 3/5; 7/24] START activation=softsign, kernal_initializer=uniform............\n",
      "[CV 3/5; 7/24] END activation=softsign, kernal_initializer=uniform; total time= 2.3min\n",
      "[CV 4/5; 7/24] START activation=softsign, kernal_initializer=uniform............\n",
      "[CV 4/5; 7/24] END activation=softsign, kernal_initializer=uniform; total time= 2.5min\n",
      "[CV 5/5; 7/24] START activation=softsign, kernal_initializer=uniform............\n",
      "[CV 5/5; 7/24] END activation=softsign, kernal_initializer=uniform; total time= 2.1min\n",
      "[CV 1/5; 8/24] START activation=softsign, kernal_initializer=normal.............\n",
      "[CV 1/5; 8/24] END activation=softsign, kernal_initializer=normal; total time= 2.3min\n",
      "[CV 2/5; 8/24] START activation=softsign, kernal_initializer=normal.............\n",
      "[CV 2/5; 8/24] END activation=softsign, kernal_initializer=normal; total time= 2.4min\n",
      "[CV 3/5; 8/24] START activation=softsign, kernal_initializer=normal.............\n",
      "[CV 3/5; 8/24] END activation=softsign, kernal_initializer=normal; total time= 2.4min\n",
      "[CV 4/5; 8/24] START activation=softsign, kernal_initializer=normal.............\n",
      "[CV 4/5; 8/24] END activation=softsign, kernal_initializer=normal; total time= 2.3min\n",
      "[CV 5/5; 8/24] START activation=softsign, kernal_initializer=normal.............\n",
      "[CV 5/5; 8/24] END activation=softsign, kernal_initializer=normal; total time= 2.2min\n",
      "[CV 1/5; 9/24] START activation=softsign, kernal_initializer=zero...............\n",
      "[CV 1/5; 9/24] END activation=softsign, kernal_initializer=zero; total time= 2.3min\n",
      "[CV 2/5; 9/24] START activation=softsign, kernal_initializer=zero...............\n",
      "[CV 2/5; 9/24] END activation=softsign, kernal_initializer=zero; total time= 2.3min\n",
      "[CV 3/5; 9/24] START activation=softsign, kernal_initializer=zero...............\n",
      "[CV 3/5; 9/24] END activation=softsign, kernal_initializer=zero; total time= 2.3min\n",
      "[CV 4/5; 9/24] START activation=softsign, kernal_initializer=zero...............\n",
      "[CV 4/5; 9/24] END activation=softsign, kernal_initializer=zero; total time= 2.3min\n",
      "[CV 5/5; 9/24] START activation=softsign, kernal_initializer=zero...............\n",
      "[CV 5/5; 9/24] END activation=softsign, kernal_initializer=zero; total time= 2.2min\n",
      "[CV 1/5; 10/24] START activation=relu, kernal_initializer=uniform...............\n",
      "[CV 1/5; 10/24] END activation=relu, kernal_initializer=uniform; total time= 2.3min\n",
      "[CV 2/5; 10/24] START activation=relu, kernal_initializer=uniform...............\n",
      "[CV 2/5; 10/24] END activation=relu, kernal_initializer=uniform; total time= 2.3min\n",
      "[CV 3/5; 10/24] START activation=relu, kernal_initializer=uniform...............\n",
      "[CV 3/5; 10/24] END activation=relu, kernal_initializer=uniform; total time= 2.3min\n",
      "[CV 4/5; 10/24] START activation=relu, kernal_initializer=uniform...............\n",
      "[CV 4/5; 10/24] END activation=relu, kernal_initializer=uniform; total time= 2.3min\n",
      "[CV 5/5; 10/24] START activation=relu, kernal_initializer=uniform...............\n"
     ]
    },
    {
     "name": "stdout",
     "output_type": "stream",
     "text": [
      "[CV 5/5; 10/24] END activation=relu, kernal_initializer=uniform; total time= 2.2min\n",
      "[CV 1/5; 11/24] START activation=relu, kernal_initializer=normal................\n",
      "[CV 1/5; 11/24] END activation=relu, kernal_initializer=normal; total time= 2.2min\n",
      "[CV 2/5; 11/24] START activation=relu, kernal_initializer=normal................\n",
      "[CV 2/5; 11/24] END activation=relu, kernal_initializer=normal; total time=36.6min\n",
      "[CV 3/5; 11/24] START activation=relu, kernal_initializer=normal................\n",
      "[CV 3/5; 11/24] END activation=relu, kernal_initializer=normal; total time= 1.5min\n",
      "[CV 4/5; 11/24] START activation=relu, kernal_initializer=normal................\n",
      "[CV 4/5; 11/24] END activation=relu, kernal_initializer=normal; total time= 2.4min\n",
      "[CV 5/5; 11/24] START activation=relu, kernal_initializer=normal................\n",
      "[CV 5/5; 11/24] END activation=relu, kernal_initializer=normal; total time= 2.2min\n",
      "[CV 1/5; 12/24] START activation=relu, kernal_initializer=zero..................\n",
      "[CV 1/5; 12/24] END activation=relu, kernal_initializer=zero; total time= 2.3min\n",
      "[CV 2/5; 12/24] START activation=relu, kernal_initializer=zero..................\n",
      "[CV 2/5; 12/24] END activation=relu, kernal_initializer=zero; total time= 2.3min\n",
      "[CV 3/5; 12/24] START activation=relu, kernal_initializer=zero..................\n",
      "[CV 3/5; 12/24] END activation=relu, kernal_initializer=zero; total time= 2.2min\n",
      "[CV 4/5; 12/24] START activation=relu, kernal_initializer=zero..................\n",
      "[CV 4/5; 12/24] END activation=relu, kernal_initializer=zero; total time= 1.5min\n",
      "[CV 5/5; 12/24] START activation=relu, kernal_initializer=zero..................\n",
      "[CV 5/5; 12/24] END activation=relu, kernal_initializer=zero; total time= 1.6min\n",
      "[CV 1/5; 13/24] START activation=tanh, kernal_initializer=uniform...............\n",
      "[CV 1/5; 13/24] END activation=tanh, kernal_initializer=uniform; total time= 1.6min\n",
      "[CV 2/5; 13/24] START activation=tanh, kernal_initializer=uniform...............\n",
      "[CV 2/5; 13/24] END activation=tanh, kernal_initializer=uniform; total time= 1.3min\n",
      "[CV 3/5; 13/24] START activation=tanh, kernal_initializer=uniform...............\n",
      "[CV 3/5; 13/24] END activation=tanh, kernal_initializer=uniform; total time= 1.4min\n",
      "[CV 4/5; 13/24] START activation=tanh, kernal_initializer=uniform...............\n",
      "[CV 4/5; 13/24] END activation=tanh, kernal_initializer=uniform; total time= 2.3min\n",
      "[CV 5/5; 13/24] START activation=tanh, kernal_initializer=uniform...............\n",
      "[CV 5/5; 13/24] END activation=tanh, kernal_initializer=uniform; total time= 2.2min\n",
      "[CV 1/5; 14/24] START activation=tanh, kernal_initializer=normal................\n",
      "[CV 1/5; 14/24] END activation=tanh, kernal_initializer=normal; total time= 2.2min\n",
      "[CV 2/5; 14/24] START activation=tanh, kernal_initializer=normal................\n",
      "[CV 2/5; 14/24] END activation=tanh, kernal_initializer=normal; total time= 2.4min\n",
      "[CV 3/5; 14/24] START activation=tanh, kernal_initializer=normal................\n",
      "[CV 3/5; 14/24] END activation=tanh, kernal_initializer=normal; total time= 2.4min\n",
      "[CV 4/5; 14/24] START activation=tanh, kernal_initializer=normal................\n",
      "[CV 4/5; 14/24] END activation=tanh, kernal_initializer=normal; total time= 2.4min\n",
      "[CV 5/5; 14/24] START activation=tanh, kernal_initializer=normal................\n",
      "[CV 5/5; 14/24] END activation=tanh, kernal_initializer=normal; total time= 2.3min\n",
      "[CV 1/5; 15/24] START activation=tanh, kernal_initializer=zero..................\n",
      "[CV 1/5; 15/24] END activation=tanh, kernal_initializer=zero; total time= 2.4min\n",
      "[CV 2/5; 15/24] START activation=tanh, kernal_initializer=zero..................\n",
      "[CV 2/5; 15/24] END activation=tanh, kernal_initializer=zero; total time= 2.4min\n",
      "[CV 3/5; 15/24] START activation=tanh, kernal_initializer=zero..................\n",
      "[CV 3/5; 15/24] END activation=tanh, kernal_initializer=zero; total time= 2.2min\n",
      "[CV 4/5; 15/24] START activation=tanh, kernal_initializer=zero..................\n",
      "[CV 4/5; 15/24] END activation=tanh, kernal_initializer=zero; total time= 2.0min\n",
      "[CV 5/5; 15/24] START activation=tanh, kernal_initializer=zero..................\n",
      "[CV 5/5; 15/24] END activation=tanh, kernal_initializer=zero; total time= 2.2min\n",
      "[CV 1/5; 16/24] START activation=sigmoid, kernal_initializer=uniform............\n",
      "[CV 1/5; 16/24] END activation=sigmoid, kernal_initializer=uniform; total time= 2.2min\n",
      "[CV 2/5; 16/24] START activation=sigmoid, kernal_initializer=uniform............\n",
      "[CV 2/5; 16/24] END activation=sigmoid, kernal_initializer=uniform; total time= 2.3min\n",
      "[CV 3/5; 16/24] START activation=sigmoid, kernal_initializer=uniform............\n",
      "[CV 3/5; 16/24] END activation=sigmoid, kernal_initializer=uniform; total time= 2.3min\n",
      "[CV 4/5; 16/24] START activation=sigmoid, kernal_initializer=uniform............\n",
      "[CV 4/5; 16/24] END activation=sigmoid, kernal_initializer=uniform; total time= 2.3min\n",
      "[CV 5/5; 16/24] START activation=sigmoid, kernal_initializer=uniform............\n",
      "[CV 5/5; 16/24] END activation=sigmoid, kernal_initializer=uniform; total time= 2.2min\n",
      "[CV 1/5; 17/24] START activation=sigmoid, kernal_initializer=normal.............\n",
      "[CV 1/5; 17/24] END activation=sigmoid, kernal_initializer=normal; total time= 2.3min\n",
      "[CV 2/5; 17/24] START activation=sigmoid, kernal_initializer=normal.............\n",
      "[CV 2/5; 17/24] END activation=sigmoid, kernal_initializer=normal; total time= 2.2min\n",
      "[CV 3/5; 17/24] START activation=sigmoid, kernal_initializer=normal.............\n",
      "[CV 3/5; 17/24] END activation=sigmoid, kernal_initializer=normal; total time= 2.3min\n",
      "[CV 4/5; 17/24] START activation=sigmoid, kernal_initializer=normal.............\n",
      "[CV 4/5; 17/24] END activation=sigmoid, kernal_initializer=normal; total time= 2.3min\n",
      "[CV 5/5; 17/24] START activation=sigmoid, kernal_initializer=normal.............\n",
      "[CV 5/5; 17/24] END activation=sigmoid, kernal_initializer=normal; total time= 2.1min\n",
      "[CV 1/5; 18/24] START activation=sigmoid, kernal_initializer=zero...............\n",
      "[CV 1/5; 18/24] END activation=sigmoid, kernal_initializer=zero; total time= 2.0min\n",
      "[CV 2/5; 18/24] START activation=sigmoid, kernal_initializer=zero...............\n",
      "[CV 2/5; 18/24] END activation=sigmoid, kernal_initializer=zero; total time=42.9min\n",
      "[CV 3/5; 18/24] START activation=sigmoid, kernal_initializer=zero...............\n",
      "[CV 3/5; 18/24] END activation=sigmoid, kernal_initializer=zero; total time= 1.7min\n",
      "[CV 4/5; 18/24] START activation=sigmoid, kernal_initializer=zero...............\n",
      "[CV 4/5; 18/24] END activation=sigmoid, kernal_initializer=zero; total time= 2.2min\n",
      "[CV 5/5; 18/24] START activation=sigmoid, kernal_initializer=zero...............\n",
      "[CV 5/5; 18/24] END activation=sigmoid, kernal_initializer=zero; total time= 2.2min\n",
      "[CV 1/5; 19/24] START activation=hard_sigmoid, kernal_initializer=uniform.......\n",
      "[CV 1/5; 19/24] END activation=hard_sigmoid, kernal_initializer=uniform; total time= 2.8min\n",
      "[CV 2/5; 19/24] START activation=hard_sigmoid, kernal_initializer=uniform.......\n",
      "[CV 2/5; 19/24] END activation=hard_sigmoid, kernal_initializer=uniform; total time=45.4min\n",
      "[CV 3/5; 19/24] START activation=hard_sigmoid, kernal_initializer=uniform.......\n",
      "[CV 3/5; 19/24] END activation=hard_sigmoid, kernal_initializer=uniform; total time= 1.6min\n",
      "[CV 4/5; 19/24] START activation=hard_sigmoid, kernal_initializer=uniform.......\n",
      "[CV 4/5; 19/24] END activation=hard_sigmoid, kernal_initializer=uniform; total time= 3.0min\n",
      "[CV 5/5; 19/24] START activation=hard_sigmoid, kernal_initializer=uniform.......\n",
      "[CV 5/5; 19/24] END activation=hard_sigmoid, kernal_initializer=uniform; total time= 2.7min\n",
      "[CV 1/5; 20/24] START activation=hard_sigmoid, kernal_initializer=normal........\n",
      "[CV 1/5; 20/24] END activation=hard_sigmoid, kernal_initializer=normal; total time= 2.9min\n",
      "[CV 2/5; 20/24] START activation=hard_sigmoid, kernal_initializer=normal........\n",
      "[CV 2/5; 20/24] END activation=hard_sigmoid, kernal_initializer=normal; total time= 2.9min\n",
      "[CV 3/5; 20/24] START activation=hard_sigmoid, kernal_initializer=normal........\n",
      "[CV 3/5; 20/24] END activation=hard_sigmoid, kernal_initializer=normal; total time=70.9min\n",
      "[CV 4/5; 20/24] START activation=hard_sigmoid, kernal_initializer=normal........\n",
      "[CV 4/5; 20/24] END activation=hard_sigmoid, kernal_initializer=normal; total time= 2.3min\n",
      "[CV 5/5; 20/24] START activation=hard_sigmoid, kernal_initializer=normal........\n"
     ]
    },
    {
     "name": "stdout",
     "output_type": "stream",
     "text": [
      "[CV 5/5; 20/24] END activation=hard_sigmoid, kernal_initializer=normal; total time= 2.6min\n",
      "[CV 1/5; 21/24] START activation=hard_sigmoid, kernal_initializer=zero..........\n",
      "[CV 1/5; 21/24] END activation=hard_sigmoid, kernal_initializer=zero; total time= 2.9min\n",
      "[CV 2/5; 21/24] START activation=hard_sigmoid, kernal_initializer=zero..........\n",
      "[CV 2/5; 21/24] END activation=hard_sigmoid, kernal_initializer=zero; total time=24.9min\n",
      "[CV 3/5; 21/24] START activation=hard_sigmoid, kernal_initializer=zero..........\n",
      "[CV 3/5; 21/24] END activation=hard_sigmoid, kernal_initializer=zero; total time= 1.5min\n",
      "[CV 4/5; 21/24] START activation=hard_sigmoid, kernal_initializer=zero..........\n",
      "[CV 4/5; 21/24] END activation=hard_sigmoid, kernal_initializer=zero; total time= 2.7min\n",
      "[CV 5/5; 21/24] START activation=hard_sigmoid, kernal_initializer=zero..........\n",
      "[CV 5/5; 21/24] END activation=hard_sigmoid, kernal_initializer=zero; total time= 2.4min\n",
      "[CV 1/5; 22/24] START activation=linear, kernal_initializer=uniform.............\n",
      "[CV 1/5; 22/24] END activation=linear, kernal_initializer=uniform; total time= 2.3min\n",
      "[CV 2/5; 22/24] START activation=linear, kernal_initializer=uniform.............\n",
      "[CV 2/5; 22/24] END activation=linear, kernal_initializer=uniform; total time= 2.2min\n",
      "[CV 3/5; 22/24] START activation=linear, kernal_initializer=uniform.............\n",
      "[CV 3/5; 22/24] END activation=linear, kernal_initializer=uniform; total time= 2.2min\n",
      "[CV 4/5; 22/24] START activation=linear, kernal_initializer=uniform.............\n",
      "[CV 4/5; 22/24] END activation=linear, kernal_initializer=uniform; total time= 2.2min\n",
      "[CV 5/5; 22/24] START activation=linear, kernal_initializer=uniform.............\n",
      "[CV 5/5; 22/24] END activation=linear, kernal_initializer=uniform; total time= 2.1min\n",
      "[CV 1/5; 23/24] START activation=linear, kernal_initializer=normal..............\n",
      "[CV 1/5; 23/24] END activation=linear, kernal_initializer=normal; total time= 2.2min\n",
      "[CV 2/5; 23/24] START activation=linear, kernal_initializer=normal..............\n",
      "[CV 2/5; 23/24] END activation=linear, kernal_initializer=normal; total time=10.9min\n",
      "[CV 3/5; 23/24] START activation=linear, kernal_initializer=normal..............\n",
      "[CV 3/5; 23/24] END activation=linear, kernal_initializer=normal; total time= 1.6min\n",
      "[CV 4/5; 23/24] START activation=linear, kernal_initializer=normal..............\n",
      "[CV 4/5; 23/24] END activation=linear, kernal_initializer=normal; total time= 2.2min\n",
      "[CV 5/5; 23/24] START activation=linear, kernal_initializer=normal..............\n",
      "[CV 5/5; 23/24] END activation=linear, kernal_initializer=normal; total time= 2.1min\n",
      "[CV 1/5; 24/24] START activation=linear, kernal_initializer=zero................\n",
      "[CV 1/5; 24/24] END activation=linear, kernal_initializer=zero; total time= 2.2min\n",
      "[CV 2/5; 24/24] START activation=linear, kernal_initializer=zero................\n",
      "[CV 2/5; 24/24] END activation=linear, kernal_initializer=zero; total time= 2.3min\n",
      "[CV 3/5; 24/24] START activation=linear, kernal_initializer=zero................\n",
      "[CV 3/5; 24/24] END activation=linear, kernal_initializer=zero; total time= 2.2min\n",
      "[CV 4/5; 24/24] START activation=linear, kernal_initializer=zero................\n",
      "[CV 4/5; 24/24] END activation=linear, kernal_initializer=zero; total time= 2.2min\n",
      "[CV 5/5; 24/24] START activation=linear, kernal_initializer=zero................\n",
      "[CV 5/5; 24/24] END activation=linear, kernal_initializer=zero; total time= 2.3min\n"
     ]
    }
   ],
   "source": [
    "activation = ['softmax', 'softplus', 'softsign', 'relu', 'tanh', 'sigmoid', 'hard_sigmoid', 'linear']\n",
    "kernal_initializer = ['uniform', 'normal', 'zero',]\n",
    "param_grids = dict(activation = activation, kernal_initializer = kernal_initializer)\n",
    "grid = GridSearchCV(estimator = model,param_grid = param_grids,cv = KFold(),verbose = 10)\n",
    "grid_result = grid.fit(data,y)"
   ]
  },
  {
   "cell_type": "markdown",
   "id": "09a1ec22",
   "metadata": {},
   "source": [
    "###  Summarize the results"
   ]
  },
  {
   "cell_type": "code",
   "execution_count": 86,
   "id": "5e9b91ce",
   "metadata": {
    "ExecuteTime": {
     "end_time": "2021-04-30T03:40:34.557815Z",
     "start_time": "2021-04-30T03:40:34.469819Z"
    }
   },
   "outputs": [
    {
     "name": "stdout",
     "output_type": "stream",
     "text": [
      "Best : -0.572439181804657, using {'activation': 'linear', 'kernal_initializer': 'uniform'}\n",
      "-133.18829040527345,3.1142666122698572 with: {'activation': 'softmax', 'kernal_initializer': 'uniform'}\n",
      "-133.18829040527345,3.1142666122698572 with: {'activation': 'softmax', 'kernal_initializer': 'normal'}\n",
      "-133.18829040527345,3.1142666122698572 with: {'activation': 'softmax', 'kernal_initializer': 'zero'}\n",
      "-0.7351341605186462,0.15338126766500826 with: {'activation': 'softplus', 'kernal_initializer': 'uniform'}\n",
      "-0.6805077433586121,0.13229655478475347 with: {'activation': 'softplus', 'kernal_initializer': 'normal'}\n",
      "-0.5940892815589904,0.03335711666003537 with: {'activation': 'softplus', 'kernal_initializer': 'zero'}\n",
      "-133.190771484375,3.1142847715002224 with: {'activation': 'softsign', 'kernal_initializer': 'uniform'}\n",
      "-133.19076232910157,3.1142915011306638 with: {'activation': 'softsign', 'kernal_initializer': 'normal'}\n",
      "-133.20858764648438,3.1142855579441746 with: {'activation': 'softsign', 'kernal_initializer': 'zero'}\n",
      "-0.5754293322563171,0.0851922684029732 with: {'activation': 'relu', 'kernal_initializer': 'uniform'}\n",
      "-0.6094386756420136,0.13310279024787083 with: {'activation': 'relu', 'kernal_initializer': 'normal'}\n",
      "-134.18828735351562,3.114269293542335 with: {'activation': 'relu', 'kernal_initializer': 'zero'}\n",
      "-133.18829040527345,3.1142666122698572 with: {'activation': 'tanh', 'kernal_initializer': 'uniform'}\n",
      "-133.18829040527345,3.1142666122698572 with: {'activation': 'tanh', 'kernal_initializer': 'normal'}\n",
      "-133.18829040527345,3.1142666122698572 with: {'activation': 'tanh', 'kernal_initializer': 'zero'}\n",
      "-133.18829040527345,3.1142666122698572 with: {'activation': 'sigmoid', 'kernal_initializer': 'uniform'}\n",
      "-133.18829040527345,3.1142666122698572 with: {'activation': 'sigmoid', 'kernal_initializer': 'normal'}\n",
      "-133.18829040527345,3.1142666122698572 with: {'activation': 'sigmoid', 'kernal_initializer': 'zero'}\n",
      "-133.18829040527345,3.1142666122698572 with: {'activation': 'hard_sigmoid', 'kernal_initializer': 'uniform'}\n",
      "-133.18829040527345,3.1142666122698572 with: {'activation': 'hard_sigmoid', 'kernal_initializer': 'normal'}\n",
      "-133.18829040527345,3.1142666122698572 with: {'activation': 'hard_sigmoid', 'kernal_initializer': 'zero'}\n",
      "-0.572439181804657,0.07493539675156903 with: {'activation': 'linear', 'kernal_initializer': 'uniform'}\n",
      "-0.6632058143615722,0.10248487113509087 with: {'activation': 'linear', 'kernal_initializer': 'normal'}\n",
      "-77.8076400756836,3.1142745488000596 with: {'activation': 'linear', 'kernal_initializer': 'zero'}\n"
     ]
    }
   ],
   "source": [
    "print('Best : {}, using {}'.format(grid_result.best_score_,grid_result.best_params_))\n",
    "means = grid_result.cv_results_['mean_test_score']\n",
    "stds = grid_result.cv_results_['std_test_score']\n",
    "params = grid_result.cv_results_['params']\n",
    "for mean, stdev, param in zip(means, stds, params):\n",
    "     print('{},{} with: {}'.format(mean, stdev, param)) "
   ]
  },
  {
   "cell_type": "markdown",
   "id": "6cae589d",
   "metadata": {},
   "source": [
    "###   5) Dropout Rate "
   ]
  },
  {
   "cell_type": "code",
   "execution_count": 87,
   "id": "37bde770",
   "metadata": {
    "ExecuteTime": {
     "end_time": "2021-04-30T03:41:04.647247Z",
     "start_time": "2021-04-30T03:41:04.607245Z"
    }
   },
   "outputs": [],
   "source": [
    "from keras.layers import Dropout"
   ]
  },
  {
   "cell_type": "markdown",
   "id": "60dd86d9",
   "metadata": {},
   "source": [
    "###    Defining the model"
   ]
  },
  {
   "cell_type": "code",
   "execution_count": 88,
   "id": "0bfa91f3",
   "metadata": {
    "ExecuteTime": {
     "end_time": "2021-04-30T03:41:08.342762Z",
     "start_time": "2021-04-30T03:41:08.206752Z"
    }
   },
   "outputs": [],
   "source": [
    "def create_model(dropout_rate):\n",
    "    model = Sequential()\n",
    "    model.add(Dense(12, input_dim=10, kernel_initializer='uniform', activation='relu',input_shape=(10,)))\n",
    "    model.add(Dropout(dropout_rate))\n",
    "    model.add(Dense(8, kernel_initializer='uniform', activation='relu'))\n",
    "    model.add(Dropout(dropout_rate))\n",
    "    model.add(Dense(8, kernel_initializer='uniform', activation='relu'))\n",
    "    model.add(Dropout(dropout_rate))\n",
    "    model.add(Dense(1, kernel_initializer='uniform', activation='sigmoid'))\n",
    "    model.compile(loss='mean_absolute_error', optimizer='adam', metrics=['mse','mape'])\n",
    "    return model"
   ]
  },
  {
   "cell_type": "code",
   "execution_count": 89,
   "id": "82aa9c72",
   "metadata": {
    "ExecuteTime": {
     "end_time": "2021-04-30T03:41:10.653495Z",
     "start_time": "2021-04-30T03:41:10.563977Z"
    }
   },
   "outputs": [],
   "source": [
    "model = KerasRegressor(build_fn = create_model, verbose = 0, batch_size =32, epochs = 150)"
   ]
  },
  {
   "cell_type": "markdown",
   "id": "8eaa72ec",
   "metadata": {},
   "source": [
    "###  Define the grid search parameters"
   ]
  },
  {
   "cell_type": "code",
   "execution_count": 90,
   "id": "8b4fb5a9",
   "metadata": {
    "ExecuteTime": {
     "end_time": "2021-04-30T06:15:47.533081Z",
     "start_time": "2021-04-30T03:41:14.941382Z"
    }
   },
   "outputs": [
    {
     "name": "stdout",
     "output_type": "stream",
     "text": [
      "Fitting 5 folds for each of 10 candidates, totalling 50 fits\n",
      "[CV 1/5; 1/10] START dropout_rate=0.0...........................................\n",
      "[CV 1/5; 1/10] END .........................dropout_rate=0.0; total time= 2.6min\n",
      "[CV 2/5; 1/10] START dropout_rate=0.0...........................................\n",
      "[CV 2/5; 1/10] END .........................dropout_rate=0.0; total time= 2.6min\n",
      "[CV 3/5; 1/10] START dropout_rate=0.0...........................................\n",
      "[CV 3/5; 1/10] END .........................dropout_rate=0.0; total time= 2.7min\n",
      "[CV 4/5; 1/10] START dropout_rate=0.0...........................................\n",
      "[CV 4/5; 1/10] END .........................dropout_rate=0.0; total time= 1.5min\n",
      "[CV 5/5; 1/10] START dropout_rate=0.0...........................................\n",
      "[CV 5/5; 1/10] END .........................dropout_rate=0.0; total time= 2.2min\n",
      "[CV 1/5; 2/10] START dropout_rate=0.1...........................................\n",
      "[CV 1/5; 2/10] END .........................dropout_rate=0.1; total time= 2.5min\n",
      "[CV 2/5; 2/10] START dropout_rate=0.1...........................................\n",
      "[CV 2/5; 2/10] END .........................dropout_rate=0.1; total time= 2.6min\n",
      "[CV 3/5; 2/10] START dropout_rate=0.1...........................................\n",
      "[CV 3/5; 2/10] END .........................dropout_rate=0.1; total time= 2.6min\n",
      "[CV 4/5; 2/10] START dropout_rate=0.1...........................................\n",
      "[CV 4/5; 2/10] END .........................dropout_rate=0.1; total time= 2.6min\n",
      "[CV 5/5; 2/10] START dropout_rate=0.1...........................................\n",
      "[CV 5/5; 2/10] END .........................dropout_rate=0.1; total time= 2.2min\n",
      "[CV 1/5; 3/10] START dropout_rate=0.2...........................................\n",
      "[CV 1/5; 3/10] END .........................dropout_rate=0.2; total time= 2.6min\n",
      "[CV 2/5; 3/10] START dropout_rate=0.2...........................................\n",
      "[CV 2/5; 3/10] END .........................dropout_rate=0.2; total time= 2.5min\n",
      "[CV 3/5; 3/10] START dropout_rate=0.2...........................................\n",
      "[CV 3/5; 3/10] END .........................dropout_rate=0.2; total time= 2.5min\n",
      "[CV 4/5; 3/10] START dropout_rate=0.2...........................................\n",
      "[CV 4/5; 3/10] END .........................dropout_rate=0.2; total time= 2.6min\n",
      "[CV 5/5; 3/10] START dropout_rate=0.2...........................................\n",
      "[CV 5/5; 3/10] END .........................dropout_rate=0.2; total time= 2.3min\n",
      "[CV 1/5; 4/10] START dropout_rate=0.3...........................................\n",
      "[CV 1/5; 4/10] END .........................dropout_rate=0.3; total time= 2.6min\n",
      "[CV 2/5; 4/10] START dropout_rate=0.3...........................................\n",
      "[CV 2/5; 4/10] END .........................dropout_rate=0.3; total time= 2.5min\n",
      "[CV 3/5; 4/10] START dropout_rate=0.3...........................................\n",
      "[CV 3/5; 4/10] END .........................dropout_rate=0.3; total time= 2.5min\n",
      "[CV 4/5; 4/10] START dropout_rate=0.3...........................................\n",
      "[CV 4/5; 4/10] END .........................dropout_rate=0.3; total time= 2.6min\n",
      "[CV 5/5; 4/10] START dropout_rate=0.3...........................................\n",
      "[CV 5/5; 4/10] END .........................dropout_rate=0.3; total time=31.3min\n",
      "[CV 1/5; 5/10] START dropout_rate=0.4...........................................\n",
      "[CV 1/5; 5/10] END .........................dropout_rate=0.4; total time= 1.2min\n",
      "[CV 2/5; 5/10] START dropout_rate=0.4...........................................\n",
      "[CV 2/5; 5/10] END .........................dropout_rate=0.4; total time= 2.5min\n",
      "[CV 3/5; 5/10] START dropout_rate=0.4...........................................\n",
      "[CV 3/5; 5/10] END .........................dropout_rate=0.4; total time= 2.5min\n",
      "[CV 4/5; 5/10] START dropout_rate=0.4...........................................\n",
      "[CV 4/5; 5/10] END .........................dropout_rate=0.4; total time= 2.5min\n",
      "[CV 5/5; 5/10] START dropout_rate=0.4...........................................\n",
      "[CV 5/5; 5/10] END .........................dropout_rate=0.4; total time= 2.3min\n",
      "[CV 1/5; 6/10] START dropout_rate=0.5...........................................\n",
      "[CV 1/5; 6/10] END .........................dropout_rate=0.5; total time= 2.5min\n",
      "[CV 2/5; 6/10] START dropout_rate=0.5...........................................\n",
      "[CV 2/5; 6/10] END .........................dropout_rate=0.5; total time= 2.5min\n",
      "[CV 3/5; 6/10] START dropout_rate=0.5...........................................\n",
      "[CV 3/5; 6/10] END .........................dropout_rate=0.5; total time= 4.6min\n",
      "[CV 4/5; 6/10] START dropout_rate=0.5...........................................\n",
      "[CV 4/5; 6/10] END .........................dropout_rate=0.5; total time= 1.5min\n",
      "[CV 5/5; 6/10] START dropout_rate=0.5...........................................\n",
      "[CV 5/5; 6/10] END .........................dropout_rate=0.5; total time= 2.3min\n",
      "[CV 1/5; 7/10] START dropout_rate=0.6...........................................\n",
      "[CV 1/5; 7/10] END .........................dropout_rate=0.6; total time= 2.5min\n",
      "[CV 2/5; 7/10] START dropout_rate=0.6...........................................\n",
      "[CV 2/5; 7/10] END .........................dropout_rate=0.6; total time= 2.5min\n",
      "[CV 3/5; 7/10] START dropout_rate=0.6...........................................\n",
      "[CV 3/5; 7/10] END .........................dropout_rate=0.6; total time= 2.5min\n",
      "[CV 4/5; 7/10] START dropout_rate=0.6...........................................\n",
      "[CV 4/5; 7/10] END .........................dropout_rate=0.6; total time= 2.5min\n",
      "[CV 5/5; 7/10] START dropout_rate=0.6...........................................\n",
      "[CV 5/5; 7/10] END .........................dropout_rate=0.6; total time= 2.3min\n",
      "[CV 1/5; 8/10] START dropout_rate=0.7...........................................\n",
      "[CV 1/5; 8/10] END .........................dropout_rate=0.7; total time= 2.5min\n",
      "[CV 2/5; 8/10] START dropout_rate=0.7...........................................\n",
      "[CV 2/5; 8/10] END .........................dropout_rate=0.7; total time= 2.5min\n",
      "[CV 3/5; 8/10] START dropout_rate=0.7...........................................\n",
      "[CV 3/5; 8/10] END .........................dropout_rate=0.7; total time= 2.5min\n",
      "[CV 4/5; 8/10] START dropout_rate=0.7...........................................\n",
      "[CV 4/5; 8/10] END .........................dropout_rate=0.7; total time= 2.5min\n",
      "[CV 5/5; 8/10] START dropout_rate=0.7...........................................\n",
      "[CV 5/5; 8/10] END .........................dropout_rate=0.7; total time= 2.3min\n",
      "[CV 1/5; 9/10] START dropout_rate=0.8...........................................\n",
      "[CV 1/5; 9/10] END .........................dropout_rate=0.8; total time= 2.6min\n",
      "[CV 2/5; 9/10] START dropout_rate=0.8...........................................\n",
      "[CV 2/5; 9/10] END .........................dropout_rate=0.8; total time= 2.6min\n",
      "[CV 3/5; 9/10] START dropout_rate=0.8...........................................\n",
      "[CV 3/5; 9/10] END .........................dropout_rate=0.8; total time= 2.6min\n",
      "[CV 4/5; 9/10] START dropout_rate=0.8...........................................\n",
      "[CV 4/5; 9/10] END .........................dropout_rate=0.8; total time= 1.9min\n",
      "[CV 5/5; 9/10] START dropout_rate=0.8...........................................\n",
      "[CV 5/5; 9/10] END .........................dropout_rate=0.8; total time= 2.1min\n",
      "[CV 1/5; 10/10] START dropout_rate=0.9..........................................\n",
      "[CV 1/5; 10/10] END ........................dropout_rate=0.9; total time= 2.0min\n",
      "[CV 2/5; 10/10] START dropout_rate=0.9..........................................\n",
      "[CV 2/5; 10/10] END ........................dropout_rate=0.9; total time= 2.5min\n",
      "[CV 3/5; 10/10] START dropout_rate=0.9..........................................\n",
      "[CV 3/5; 10/10] END ........................dropout_rate=0.9; total time= 2.8min\n",
      "[CV 4/5; 10/10] START dropout_rate=0.9..........................................\n",
      "[CV 4/5; 10/10] END ........................dropout_rate=0.9; total time= 2.6min\n",
      "[CV 5/5; 10/10] START dropout_rate=0.9..........................................\n",
      "[CV 5/5; 10/10] END ........................dropout_rate=0.9; total time= 2.4min\n"
     ]
    }
   ],
   "source": [
    "dropout_rate = [0.0,0.1,0.2,0.3,0.4,0.5,0.6,0.7,0.8,0.9]\n",
    "param_grid = dict(dropout_rate = dropout_rate)\n",
    "grid = GridSearchCV(estimator = model,param_grid = param_grid,cv = KFold(),verbose = 10)\n",
    "grid_result = grid.fit(data,y)"
   ]
  },
  {
   "cell_type": "markdown",
   "id": "96b9610f",
   "metadata": {},
   "source": [
    "###  Summarize the results"
   ]
  },
  {
   "cell_type": "code",
   "execution_count": 91,
   "id": "31f29d9c",
   "metadata": {
    "ExecuteTime": {
     "end_time": "2021-04-30T06:15:57.403595Z",
     "start_time": "2021-04-30T06:15:57.371593Z"
    }
   },
   "outputs": [
    {
     "name": "stdout",
     "output_type": "stream",
     "text": [
      "Best : -133.18829040527345, using {'dropout_rate': 0.0}\n",
      "-133.18829040527345,3.1142666122698572 with: {'dropout_rate': 0.0}\n",
      "-133.18829040527345,3.1142666122698572 with: {'dropout_rate': 0.1}\n",
      "-133.18829040527345,3.1142666122698572 with: {'dropout_rate': 0.2}\n",
      "-133.18829040527345,3.1142666122698572 with: {'dropout_rate': 0.3}\n",
      "-133.18829040527345,3.1142666122698572 with: {'dropout_rate': 0.4}\n",
      "-133.18829040527345,3.1142666122698572 with: {'dropout_rate': 0.5}\n",
      "-133.18829040527345,3.1142666122698572 with: {'dropout_rate': 0.6}\n",
      "-133.18829040527345,3.1142666122698572 with: {'dropout_rate': 0.7}\n",
      "-133.18829040527345,3.1142666122698572 with: {'dropout_rate': 0.8}\n",
      "-133.18829040527345,3.1142666122698572 with: {'dropout_rate': 0.9}\n"
     ]
    }
   ],
   "source": [
    "print('Best : {}, using {}'.format(grid_result.best_score_,grid_result.best_params_))\n",
    "means = grid_result.cv_results_['mean_test_score']\n",
    "stds = grid_result.cv_results_['std_test_score']\n",
    "params = grid_result.cv_results_['params']\n",
    "for mean, stdev, param in zip(means, stds, params):\n",
    "     print('{},{} with: {}'.format(mean, stdev, param)) "
   ]
  },
  {
   "cell_type": "markdown",
   "id": "2a046212",
   "metadata": {},
   "source": [
    "###    6) Number of Neurons in activation layer "
   ]
  },
  {
   "cell_type": "code",
   "execution_count": 96,
   "id": "48d0f7d8",
   "metadata": {
    "ExecuteTime": {
     "end_time": "2021-04-30T06:23:40.400717Z",
     "start_time": "2021-04-30T06:23:40.368715Z"
    }
   },
   "outputs": [],
   "source": [
    "def create_model(neuron1,neuron2,neuron3):\n",
    "    model = Sequential()\n",
    "    model.add(Dense(neuron1, input_dim=10, kernel_initializer='uniform', activation='relu',input_shape=(10,)))\n",
    "    model.add(Dropout(0.0))\n",
    "    model.add(Dense(neuron2, kernel_initializer='uniform', activation='relu'))\n",
    "    model.add(Dropout(0.0))\n",
    "    model.add(Dense(neuron3, kernel_initializer='uniform', activation='relu'))\n",
    "    model.add(Dropout(0.0))\n",
    "    model.add(Dense(1, kernel_initializer='uniform', activation='sigmoid'))\n",
    "    model.compile(loss='mean_absolute_error', optimizer='adam', metrics=['mse','mape'])\n",
    "    return model"
   ]
  },
  {
   "cell_type": "code",
   "execution_count": 97,
   "id": "85298f81",
   "metadata": {
    "ExecuteTime": {
     "end_time": "2021-04-30T06:23:42.784590Z",
     "start_time": "2021-04-30T06:23:42.764292Z"
    }
   },
   "outputs": [],
   "source": [
    "model = KerasRegressor(build_fn = create_model,verbose = 0,batch_size = 32,epochs = 150)"
   ]
  },
  {
   "cell_type": "markdown",
   "id": "a7299f1f",
   "metadata": {},
   "source": [
    "###  Define the grid search parameters"
   ]
  },
  {
   "cell_type": "code",
   "execution_count": 100,
   "id": "4a9c99b8",
   "metadata": {
    "ExecuteTime": {
     "end_time": "2021-04-30T18:59:16.789739Z",
     "start_time": "2021-04-30T12:35:35.125346Z"
    }
   },
   "outputs": [
    {
     "name": "stdout",
     "output_type": "stream",
     "text": [
      "Fitting 5 folds for each of 27 candidates, totalling 135 fits\n",
      "[CV 1/5; 1/27] START neuron1=8, neuron2=6, neuron3=4............................\n",
      "[CV 1/5; 1/27] END ..........neuron1=8, neuron2=6, neuron3=4; total time= 2.6min\n",
      "[CV 2/5; 1/27] START neuron1=8, neuron2=6, neuron3=4............................\n",
      "[CV 2/5; 1/27] END ..........neuron1=8, neuron2=6, neuron3=4; total time= 2.6min\n",
      "[CV 3/5; 1/27] START neuron1=8, neuron2=6, neuron3=4............................\n",
      "[CV 3/5; 1/27] END ..........neuron1=8, neuron2=6, neuron3=4; total time= 2.6min\n",
      "[CV 4/5; 1/27] START neuron1=8, neuron2=6, neuron3=4............................\n",
      "[CV 4/5; 1/27] END ..........neuron1=8, neuron2=6, neuron3=4; total time= 2.5min\n",
      "[CV 5/5; 1/27] START neuron1=8, neuron2=6, neuron3=4............................\n",
      "[CV 5/5; 1/27] END ..........neuron1=8, neuron2=6, neuron3=4; total time= 2.5min\n",
      "[CV 1/5; 2/27] START neuron1=8, neuron2=6, neuron3=6............................\n",
      "[CV 1/5; 2/27] END ..........neuron1=8, neuron2=6, neuron3=6; total time= 1.8min\n",
      "[CV 2/5; 2/27] START neuron1=8, neuron2=6, neuron3=6............................\n",
      "[CV 2/5; 2/27] END ..........neuron1=8, neuron2=6, neuron3=6; total time= 2.5min\n",
      "[CV 3/5; 2/27] START neuron1=8, neuron2=6, neuron3=6............................\n",
      "[CV 3/5; 2/27] END ..........neuron1=8, neuron2=6, neuron3=6; total time= 2.5min\n",
      "[CV 4/5; 2/27] START neuron1=8, neuron2=6, neuron3=6............................\n",
      "[CV 4/5; 2/27] END ..........neuron1=8, neuron2=6, neuron3=6; total time= 2.6min\n",
      "[CV 5/5; 2/27] START neuron1=8, neuron2=6, neuron3=6............................\n",
      "[CV 5/5; 2/27] END ..........neuron1=8, neuron2=6, neuron3=6; total time= 2.0min\n",
      "[CV 1/5; 3/27] START neuron1=8, neuron2=6, neuron3=8............................\n",
      "[CV 1/5; 3/27] END ..........neuron1=8, neuron2=6, neuron3=8; total time= 1.7min\n",
      "[CV 2/5; 3/27] START neuron1=8, neuron2=6, neuron3=8............................\n",
      "[CV 2/5; 3/27] END ..........neuron1=8, neuron2=6, neuron3=8; total time= 2.5min\n",
      "[CV 3/5; 3/27] START neuron1=8, neuron2=6, neuron3=8............................\n",
      "[CV 3/5; 3/27] END ..........neuron1=8, neuron2=6, neuron3=8; total time= 2.5min\n",
      "[CV 4/5; 3/27] START neuron1=8, neuron2=6, neuron3=8............................\n",
      "[CV 4/5; 3/27] END ..........neuron1=8, neuron2=6, neuron3=8; total time= 2.2min\n",
      "[CV 5/5; 3/27] START neuron1=8, neuron2=6, neuron3=8............................\n",
      "[CV 5/5; 3/27] END ..........neuron1=8, neuron2=6, neuron3=8; total time= 2.3min\n",
      "[CV 1/5; 4/27] START neuron1=8, neuron2=8, neuron3=4............................\n",
      "[CV 1/5; 4/27] END ..........neuron1=8, neuron2=8, neuron3=4; total time= 2.5min\n",
      "[CV 2/5; 4/27] START neuron1=8, neuron2=8, neuron3=4............................\n",
      "[CV 2/5; 4/27] END ..........neuron1=8, neuron2=8, neuron3=4; total time= 2.5min\n",
      "[CV 3/5; 4/27] START neuron1=8, neuron2=8, neuron3=4............................\n",
      "[CV 3/5; 4/27] END ..........neuron1=8, neuron2=8, neuron3=4; total time= 2.6min\n",
      "[CV 4/5; 4/27] START neuron1=8, neuron2=8, neuron3=4............................\n",
      "[CV 4/5; 4/27] END ..........neuron1=8, neuron2=8, neuron3=4; total time= 2.6min\n",
      "[CV 5/5; 4/27] START neuron1=8, neuron2=8, neuron3=4............................\n",
      "[CV 5/5; 4/27] END ..........neuron1=8, neuron2=8, neuron3=4; total time= 2.1min\n",
      "[CV 1/5; 5/27] START neuron1=8, neuron2=8, neuron3=6............................\n",
      "[CV 1/5; 5/27] END ..........neuron1=8, neuron2=8, neuron3=6; total time= 2.1min\n",
      "[CV 2/5; 5/27] START neuron1=8, neuron2=8, neuron3=6............................\n",
      "[CV 2/5; 5/27] END ..........neuron1=8, neuron2=8, neuron3=6; total time= 2.2min\n",
      "[CV 3/5; 5/27] START neuron1=8, neuron2=8, neuron3=6............................\n",
      "[CV 3/5; 5/27] END ..........neuron1=8, neuron2=8, neuron3=6; total time= 2.4min\n",
      "[CV 4/5; 5/27] START neuron1=8, neuron2=8, neuron3=6............................\n",
      "[CV 4/5; 5/27] END ..........neuron1=8, neuron2=8, neuron3=6; total time= 2.5min\n",
      "[CV 5/5; 5/27] START neuron1=8, neuron2=8, neuron3=6............................\n",
      "[CV 5/5; 5/27] END ..........neuron1=8, neuron2=8, neuron3=6; total time= 2.3min\n",
      "[CV 1/5; 6/27] START neuron1=8, neuron2=8, neuron3=8............................\n",
      "[CV 1/5; 6/27] END ..........neuron1=8, neuron2=8, neuron3=8; total time= 2.5min\n",
      "[CV 2/5; 6/27] START neuron1=8, neuron2=8, neuron3=8............................\n",
      "[CV 2/5; 6/27] END ..........neuron1=8, neuron2=8, neuron3=8; total time= 2.5min\n",
      "[CV 3/5; 6/27] START neuron1=8, neuron2=8, neuron3=8............................\n",
      "[CV 3/5; 6/27] END ..........neuron1=8, neuron2=8, neuron3=8; total time= 2.4min\n",
      "[CV 4/5; 6/27] START neuron1=8, neuron2=8, neuron3=8............................\n",
      "[CV 4/5; 6/27] END ..........neuron1=8, neuron2=8, neuron3=8; total time= 2.5min\n",
      "[CV 5/5; 6/27] START neuron1=8, neuron2=8, neuron3=8............................\n",
      "[CV 5/5; 6/27] END ..........neuron1=8, neuron2=8, neuron3=8; total time= 2.2min\n",
      "[CV 1/5; 7/27] START neuron1=8, neuron2=10, neuron3=4...........................\n",
      "[CV 1/5; 7/27] END .........neuron1=8, neuron2=10, neuron3=4; total time= 2.5min\n",
      "[CV 2/5; 7/27] START neuron1=8, neuron2=10, neuron3=4...........................\n",
      "[CV 2/5; 7/27] END .........neuron1=8, neuron2=10, neuron3=4; total time= 2.6min\n",
      "[CV 3/5; 7/27] START neuron1=8, neuron2=10, neuron3=4...........................\n",
      "[CV 3/5; 7/27] END .........neuron1=8, neuron2=10, neuron3=4; total time= 2.5min\n",
      "[CV 4/5; 7/27] START neuron1=8, neuron2=10, neuron3=4...........................\n",
      "[CV 4/5; 7/27] END .........neuron1=8, neuron2=10, neuron3=4; total time= 2.5min\n",
      "[CV 5/5; 7/27] START neuron1=8, neuron2=10, neuron3=4...........................\n",
      "[CV 5/5; 7/27] END .........neuron1=8, neuron2=10, neuron3=4; total time= 2.3min\n",
      "[CV 1/5; 8/27] START neuron1=8, neuron2=10, neuron3=6...........................\n",
      "[CV 1/5; 8/27] END .........neuron1=8, neuron2=10, neuron3=6; total time= 2.6min\n",
      "[CV 2/5; 8/27] START neuron1=8, neuron2=10, neuron3=6...........................\n",
      "[CV 2/5; 8/27] END .........neuron1=8, neuron2=10, neuron3=6; total time= 2.6min\n",
      "[CV 3/5; 8/27] START neuron1=8, neuron2=10, neuron3=6...........................\n",
      "[CV 3/5; 8/27] END .........neuron1=8, neuron2=10, neuron3=6; total time= 2.4min\n",
      "[CV 4/5; 8/27] START neuron1=8, neuron2=10, neuron3=6...........................\n",
      "[CV 4/5; 8/27] END .........neuron1=8, neuron2=10, neuron3=6; total time= 2.5min\n",
      "[CV 5/5; 8/27] START neuron1=8, neuron2=10, neuron3=6...........................\n",
      "[CV 5/5; 8/27] END .........neuron1=8, neuron2=10, neuron3=6; total time= 1.9min\n",
      "[CV 1/5; 9/27] START neuron1=8, neuron2=10, neuron3=8...........................\n",
      "[CV 1/5; 9/27] END .........neuron1=8, neuron2=10, neuron3=8; total time= 2.2min\n",
      "[CV 2/5; 9/27] START neuron1=8, neuron2=10, neuron3=8...........................\n",
      "[CV 2/5; 9/27] END .........neuron1=8, neuron2=10, neuron3=8; total time= 2.1min\n",
      "[CV 3/5; 9/27] START neuron1=8, neuron2=10, neuron3=8...........................\n",
      "[CV 3/5; 9/27] END .........neuron1=8, neuron2=10, neuron3=8; total time= 2.7min\n",
      "[CV 4/5; 9/27] START neuron1=8, neuron2=10, neuron3=8...........................\n",
      "[CV 4/5; 9/27] END .........neuron1=8, neuron2=10, neuron3=8; total time= 2.6min\n",
      "[CV 5/5; 9/27] START neuron1=8, neuron2=10, neuron3=8...........................\n",
      "[CV 5/5; 9/27] END .........neuron1=8, neuron2=10, neuron3=8; total time= 2.4min\n",
      "[CV 1/5; 10/27] START neuron1=10, neuron2=6, neuron3=4..........................\n",
      "[CV 1/5; 10/27] END ........neuron1=10, neuron2=6, neuron3=4; total time= 2.4min\n",
      "[CV 2/5; 10/27] START neuron1=10, neuron2=6, neuron3=4..........................\n",
      "[CV 2/5; 10/27] END ........neuron1=10, neuron2=6, neuron3=4; total time= 2.5min\n",
      "[CV 3/5; 10/27] START neuron1=10, neuron2=6, neuron3=4..........................\n",
      "[CV 3/5; 10/27] END ........neuron1=10, neuron2=6, neuron3=4; total time= 2.5min\n",
      "[CV 4/5; 10/27] START neuron1=10, neuron2=6, neuron3=4..........................\n",
      "[CV 4/5; 10/27] END ........neuron1=10, neuron2=6, neuron3=4; total time= 2.7min\n",
      "[CV 5/5; 10/27] START neuron1=10, neuron2=6, neuron3=4..........................\n",
      "[CV 5/5; 10/27] END ........neuron1=10, neuron2=6, neuron3=4; total time= 2.4min\n",
      "[CV 1/5; 11/27] START neuron1=10, neuron2=6, neuron3=6..........................\n"
     ]
    },
    {
     "name": "stdout",
     "output_type": "stream",
     "text": [
      "[CV 1/5; 11/27] END ........neuron1=10, neuron2=6, neuron3=6; total time= 2.6min\n",
      "[CV 2/5; 11/27] START neuron1=10, neuron2=6, neuron3=6..........................\n",
      "[CV 2/5; 11/27] END ........neuron1=10, neuron2=6, neuron3=6; total time= 2.6min\n",
      "[CV 3/5; 11/27] START neuron1=10, neuron2=6, neuron3=6..........................\n",
      "[CV 3/5; 11/27] END ........neuron1=10, neuron2=6, neuron3=6; total time= 2.7min\n",
      "[CV 4/5; 11/27] START neuron1=10, neuron2=6, neuron3=6..........................\n",
      "[CV 4/5; 11/27] END ........neuron1=10, neuron2=6, neuron3=6; total time= 2.6min\n",
      "[CV 5/5; 11/27] START neuron1=10, neuron2=6, neuron3=6..........................\n",
      "[CV 5/5; 11/27] END ........neuron1=10, neuron2=6, neuron3=6; total time= 2.4min\n",
      "[CV 1/5; 12/27] START neuron1=10, neuron2=6, neuron3=8..........................\n",
      "[CV 1/5; 12/27] END ........neuron1=10, neuron2=6, neuron3=8; total time= 2.7min\n",
      "[CV 2/5; 12/27] START neuron1=10, neuron2=6, neuron3=8..........................\n",
      "[CV 2/5; 12/27] END ........neuron1=10, neuron2=6, neuron3=8; total time= 2.7min\n",
      "[CV 3/5; 12/27] START neuron1=10, neuron2=6, neuron3=8..........................\n",
      "[CV 3/5; 12/27] END ........neuron1=10, neuron2=6, neuron3=8; total time= 2.6min\n",
      "[CV 4/5; 12/27] START neuron1=10, neuron2=6, neuron3=8..........................\n",
      "[CV 4/5; 12/27] END ........neuron1=10, neuron2=6, neuron3=8; total time= 2.7min\n",
      "[CV 5/5; 12/27] START neuron1=10, neuron2=6, neuron3=8..........................\n",
      "[CV 5/5; 12/27] END ........neuron1=10, neuron2=6, neuron3=8; total time= 2.4min\n",
      "[CV 1/5; 13/27] START neuron1=10, neuron2=8, neuron3=4..........................\n",
      "[CV 1/5; 13/27] END ........neuron1=10, neuron2=8, neuron3=4; total time= 2.7min\n",
      "[CV 2/5; 13/27] START neuron1=10, neuron2=8, neuron3=4..........................\n",
      "[CV 2/5; 13/27] END ........neuron1=10, neuron2=8, neuron3=4; total time= 2.6min\n",
      "[CV 3/5; 13/27] START neuron1=10, neuron2=8, neuron3=4..........................\n",
      "[CV 3/5; 13/27] END ........neuron1=10, neuron2=8, neuron3=4; total time= 2.6min\n",
      "[CV 4/5; 13/27] START neuron1=10, neuron2=8, neuron3=4..........................\n",
      "[CV 4/5; 13/27] END ........neuron1=10, neuron2=8, neuron3=4; total time= 2.6min\n",
      "[CV 5/5; 13/27] START neuron1=10, neuron2=8, neuron3=4..........................\n",
      "[CV 5/5; 13/27] END ........neuron1=10, neuron2=8, neuron3=4; total time= 2.4min\n",
      "[CV 1/5; 14/27] START neuron1=10, neuron2=8, neuron3=6..........................\n",
      "[CV 1/5; 14/27] END ........neuron1=10, neuron2=8, neuron3=6; total time= 2.6min\n",
      "[CV 2/5; 14/27] START neuron1=10, neuron2=8, neuron3=6..........................\n",
      "[CV 2/5; 14/27] END ........neuron1=10, neuron2=8, neuron3=6; total time= 2.7min\n",
      "[CV 3/5; 14/27] START neuron1=10, neuron2=8, neuron3=6..........................\n",
      "[CV 3/5; 14/27] END ........neuron1=10, neuron2=8, neuron3=6; total time= 2.3min\n",
      "[CV 4/5; 14/27] START neuron1=10, neuron2=8, neuron3=6..........................\n",
      "[CV 4/5; 14/27] END ........neuron1=10, neuron2=8, neuron3=6; total time= 2.4min\n",
      "[CV 5/5; 14/27] START neuron1=10, neuron2=8, neuron3=6..........................\n",
      "[CV 5/5; 14/27] END ........neuron1=10, neuron2=8, neuron3=6; total time= 2.3min\n",
      "[CV 1/5; 15/27] START neuron1=10, neuron2=8, neuron3=8..........................\n",
      "[CV 1/5; 15/27] END ........neuron1=10, neuron2=8, neuron3=8; total time= 2.6min\n",
      "[CV 2/5; 15/27] START neuron1=10, neuron2=8, neuron3=8..........................\n",
      "[CV 2/5; 15/27] END ........neuron1=10, neuron2=8, neuron3=8; total time= 2.5min\n",
      "[CV 3/5; 15/27] START neuron1=10, neuron2=8, neuron3=8..........................\n",
      "[CV 3/5; 15/27] END ........neuron1=10, neuron2=8, neuron3=8; total time= 2.2min\n",
      "[CV 4/5; 15/27] START neuron1=10, neuron2=8, neuron3=8..........................\n",
      "[CV 4/5; 15/27] END ........neuron1=10, neuron2=8, neuron3=8; total time= 2.5min\n",
      "[CV 5/5; 15/27] START neuron1=10, neuron2=8, neuron3=8..........................\n",
      "[CV 5/5; 15/27] END ........neuron1=10, neuron2=8, neuron3=8; total time= 2.4min\n",
      "[CV 1/5; 16/27] START neuron1=10, neuron2=10, neuron3=4.........................\n",
      "[CV 1/5; 16/27] END .......neuron1=10, neuron2=10, neuron3=4; total time= 2.0min\n",
      "[CV 2/5; 16/27] START neuron1=10, neuron2=10, neuron3=4.........................\n",
      "[CV 2/5; 16/27] END .......neuron1=10, neuron2=10, neuron3=4; total time= 2.2min\n",
      "[CV 3/5; 16/27] START neuron1=10, neuron2=10, neuron3=4.........................\n",
      "[CV 3/5; 16/27] END .......neuron1=10, neuron2=10, neuron3=4; total time= 2.0min\n",
      "[CV 4/5; 16/27] START neuron1=10, neuron2=10, neuron3=4.........................\n",
      "[CV 4/5; 16/27] END .......neuron1=10, neuron2=10, neuron3=4; total time= 2.1min\n",
      "[CV 5/5; 16/27] START neuron1=10, neuron2=10, neuron3=4.........................\n",
      "[CV 5/5; 16/27] END .......neuron1=10, neuron2=10, neuron3=4; total time= 2.4min\n",
      "[CV 1/5; 17/27] START neuron1=10, neuron2=10, neuron3=6.........................\n",
      "[CV 1/5; 17/27] END .......neuron1=10, neuron2=10, neuron3=6; total time= 2.2min\n",
      "[CV 2/5; 17/27] START neuron1=10, neuron2=10, neuron3=6.........................\n",
      "[CV 2/5; 17/27] END .......neuron1=10, neuron2=10, neuron3=6; total time= 2.1min\n",
      "[CV 3/5; 17/27] START neuron1=10, neuron2=10, neuron3=6.........................\n",
      "[CV 3/5; 17/27] END .......neuron1=10, neuron2=10, neuron3=6; total time= 2.1min\n",
      "[CV 4/5; 17/27] START neuron1=10, neuron2=10, neuron3=6.........................\n",
      "[CV 4/5; 17/27] END .......neuron1=10, neuron2=10, neuron3=6; total time= 2.8min\n",
      "[CV 5/5; 17/27] START neuron1=10, neuron2=10, neuron3=6.........................\n",
      "[CV 5/5; 17/27] END .......neuron1=10, neuron2=10, neuron3=6; total time= 2.5min\n",
      "[CV 1/5; 18/27] START neuron1=10, neuron2=10, neuron3=8.........................\n",
      "[CV 1/5; 18/27] END .......neuron1=10, neuron2=10, neuron3=8; total time= 2.7min\n",
      "[CV 2/5; 18/27] START neuron1=10, neuron2=10, neuron3=8.........................\n",
      "[CV 2/5; 18/27] END .......neuron1=10, neuron2=10, neuron3=8; total time= 2.1min\n",
      "[CV 3/5; 18/27] START neuron1=10, neuron2=10, neuron3=8.........................\n",
      "[CV 3/5; 18/27] END .......neuron1=10, neuron2=10, neuron3=8; total time= 2.7min\n",
      "[CV 4/5; 18/27] START neuron1=10, neuron2=10, neuron3=8.........................\n",
      "[CV 4/5; 18/27] END .......neuron1=10, neuron2=10, neuron3=8; total time= 2.8min\n",
      "[CV 5/5; 18/27] START neuron1=10, neuron2=10, neuron3=8.........................\n",
      "[CV 5/5; 18/27] END .......neuron1=10, neuron2=10, neuron3=8; total time= 9.0min\n",
      "[CV 1/5; 19/27] START neuron1=12, neuron2=6, neuron3=4..........................\n",
      "[CV 1/5; 19/27] END ........neuron1=12, neuron2=6, neuron3=4; total time= 1.2min\n",
      "[CV 2/5; 19/27] START neuron1=12, neuron2=6, neuron3=4..........................\n",
      "[CV 2/5; 19/27] END ........neuron1=12, neuron2=6, neuron3=4; total time= 2.5min\n",
      "[CV 3/5; 19/27] START neuron1=12, neuron2=6, neuron3=4..........................\n",
      "[CV 3/5; 19/27] END ........neuron1=12, neuron2=6, neuron3=4; total time= 2.6min\n",
      "[CV 4/5; 19/27] START neuron1=12, neuron2=6, neuron3=4..........................\n",
      "[CV 4/5; 19/27] END ........neuron1=12, neuron2=6, neuron3=4; total time= 2.6min\n",
      "[CV 5/5; 19/27] START neuron1=12, neuron2=6, neuron3=4..........................\n",
      "[CV 5/5; 19/27] END ........neuron1=12, neuron2=6, neuron3=4; total time= 2.4min\n",
      "[CV 1/5; 20/27] START neuron1=12, neuron2=6, neuron3=6..........................\n",
      "[CV 1/5; 20/27] END ........neuron1=12, neuron2=6, neuron3=6; total time= 2.4min\n",
      "[CV 2/5; 20/27] START neuron1=12, neuron2=6, neuron3=6..........................\n",
      "[CV 2/5; 20/27] END ........neuron1=12, neuron2=6, neuron3=6; total time= 1.9min\n",
      "[CV 3/5; 20/27] START neuron1=12, neuron2=6, neuron3=6..........................\n",
      "[CV 3/5; 20/27] END ........neuron1=12, neuron2=6, neuron3=6; total time= 4.3min\n",
      "[CV 4/5; 20/27] START neuron1=12, neuron2=6, neuron3=6..........................\n",
      "[CV 4/5; 20/27] END ........neuron1=12, neuron2=6, neuron3=6; total time= 1.4min\n",
      "[CV 5/5; 20/27] START neuron1=12, neuron2=6, neuron3=6..........................\n",
      "[CV 5/5; 20/27] END ........neuron1=12, neuron2=6, neuron3=6; total time= 1.7min\n",
      "[CV 1/5; 21/27] START neuron1=12, neuron2=6, neuron3=8..........................\n",
      "[CV 1/5; 21/27] END ........neuron1=12, neuron2=6, neuron3=8; total time= 2.0min\n",
      "[CV 2/5; 21/27] START neuron1=12, neuron2=6, neuron3=8..........................\n"
     ]
    },
    {
     "name": "stdout",
     "output_type": "stream",
     "text": [
      "[CV 2/5; 21/27] END ........neuron1=12, neuron2=6, neuron3=8; total time= 2.4min\n",
      "[CV 3/5; 21/27] START neuron1=12, neuron2=6, neuron3=8..........................\n",
      "[CV 3/5; 21/27] END ........neuron1=12, neuron2=6, neuron3=8; total time= 2.6min\n",
      "[CV 4/5; 21/27] START neuron1=12, neuron2=6, neuron3=8..........................\n",
      "[CV 4/5; 21/27] END ........neuron1=12, neuron2=6, neuron3=8; total time=51.0min\n",
      "[CV 5/5; 21/27] START neuron1=12, neuron2=6, neuron3=8..........................\n",
      "[CV 5/5; 21/27] END ........neuron1=12, neuron2=6, neuron3=8; total time= 1.6min\n",
      "[CV 1/5; 22/27] START neuron1=12, neuron2=8, neuron3=4..........................\n",
      "[CV 1/5; 22/27] END ........neuron1=12, neuron2=8, neuron3=4; total time= 2.5min\n",
      "[CV 2/5; 22/27] START neuron1=12, neuron2=8, neuron3=4..........................\n",
      "[CV 2/5; 22/27] END ........neuron1=12, neuron2=8, neuron3=4; total time= 2.6min\n",
      "[CV 3/5; 22/27] START neuron1=12, neuron2=8, neuron3=4..........................\n",
      "[CV 3/5; 22/27] END ........neuron1=12, neuron2=8, neuron3=4; total time= 2.6min\n",
      "[CV 4/5; 22/27] START neuron1=12, neuron2=8, neuron3=4..........................\n",
      "[CV 4/5; 22/27] END ........neuron1=12, neuron2=8, neuron3=4; total time= 1.8min\n",
      "[CV 5/5; 22/27] START neuron1=12, neuron2=8, neuron3=4..........................\n",
      "[CV 5/5; 22/27] END ........neuron1=12, neuron2=8, neuron3=4; total time= 1.7min\n",
      "[CV 1/5; 23/27] START neuron1=12, neuron2=8, neuron3=6..........................\n",
      "[CV 1/5; 23/27] END ........neuron1=12, neuron2=8, neuron3=6; total time= 1.6min\n",
      "[CV 2/5; 23/27] START neuron1=12, neuron2=8, neuron3=6..........................\n",
      "[CV 2/5; 23/27] END ........neuron1=12, neuron2=8, neuron3=6; total time= 1.7min\n",
      "[CV 3/5; 23/27] START neuron1=12, neuron2=8, neuron3=6..........................\n",
      "[CV 3/5; 23/27] END ........neuron1=12, neuron2=8, neuron3=6; total time= 1.8min\n",
      "[CV 4/5; 23/27] START neuron1=12, neuron2=8, neuron3=6..........................\n",
      "[CV 4/5; 23/27] END ........neuron1=12, neuron2=8, neuron3=6; total time= 2.4min\n",
      "[CV 5/5; 23/27] START neuron1=12, neuron2=8, neuron3=6..........................\n",
      "[CV 5/5; 23/27] END ........neuron1=12, neuron2=8, neuron3=6; total time= 2.2min\n",
      "[CV 1/5; 24/27] START neuron1=12, neuron2=8, neuron3=8..........................\n",
      "[CV 1/5; 24/27] END ........neuron1=12, neuron2=8, neuron3=8; total time= 2.3min\n",
      "[CV 2/5; 24/27] START neuron1=12, neuron2=8, neuron3=8..........................\n",
      "[CV 2/5; 24/27] END ........neuron1=12, neuron2=8, neuron3=8; total time= 2.4min\n",
      "[CV 3/5; 24/27] START neuron1=12, neuron2=8, neuron3=8..........................\n",
      "[CV 3/5; 24/27] END ........neuron1=12, neuron2=8, neuron3=8; total time= 2.6min\n",
      "[CV 4/5; 24/27] START neuron1=12, neuron2=8, neuron3=8..........................\n",
      "[CV 4/5; 24/27] END ........neuron1=12, neuron2=8, neuron3=8; total time= 4.1min\n",
      "[CV 5/5; 24/27] START neuron1=12, neuron2=8, neuron3=8..........................\n",
      "[CV 5/5; 24/27] END ........neuron1=12, neuron2=8, neuron3=8; total time= 2.3min\n",
      "[CV 1/5; 25/27] START neuron1=12, neuron2=10, neuron3=4.........................\n",
      "[CV 1/5; 25/27] END .......neuron1=12, neuron2=10, neuron3=4; total time= 2.6min\n",
      "[CV 2/5; 25/27] START neuron1=12, neuron2=10, neuron3=4.........................\n",
      "[CV 2/5; 25/27] END .......neuron1=12, neuron2=10, neuron3=4; total time= 2.4min\n",
      "[CV 3/5; 25/27] START neuron1=12, neuron2=10, neuron3=4.........................\n",
      "[CV 3/5; 25/27] END .......neuron1=12, neuron2=10, neuron3=4; total time= 2.2min\n",
      "[CV 4/5; 25/27] START neuron1=12, neuron2=10, neuron3=4.........................\n",
      "[CV 4/5; 25/27] END .......neuron1=12, neuron2=10, neuron3=4; total time= 2.5min\n",
      "[CV 5/5; 25/27] START neuron1=12, neuron2=10, neuron3=4.........................\n",
      "[CV 5/5; 25/27] END .......neuron1=12, neuron2=10, neuron3=4; total time= 2.5min\n",
      "[CV 1/5; 26/27] START neuron1=12, neuron2=10, neuron3=6.........................\n",
      "[CV 1/5; 26/27] END .......neuron1=12, neuron2=10, neuron3=6; total time= 2.7min\n",
      "[CV 2/5; 26/27] START neuron1=12, neuron2=10, neuron3=6.........................\n",
      "[CV 2/5; 26/27] END .......neuron1=12, neuron2=10, neuron3=6; total time= 2.7min\n",
      "[CV 3/5; 26/27] START neuron1=12, neuron2=10, neuron3=6.........................\n",
      "[CV 3/5; 26/27] END .......neuron1=12, neuron2=10, neuron3=6; total time= 2.3min\n",
      "[CV 4/5; 26/27] START neuron1=12, neuron2=10, neuron3=6.........................\n",
      "[CV 4/5; 26/27] END .......neuron1=12, neuron2=10, neuron3=6; total time= 2.7min\n",
      "[CV 5/5; 26/27] START neuron1=12, neuron2=10, neuron3=6.........................\n",
      "[CV 5/5; 26/27] END .......neuron1=12, neuron2=10, neuron3=6; total time= 2.4min\n",
      "[CV 1/5; 27/27] START neuron1=12, neuron2=10, neuron3=8.........................\n",
      "[CV 1/5; 27/27] END .......neuron1=12, neuron2=10, neuron3=8; total time= 2.6min\n",
      "[CV 2/5; 27/27] START neuron1=12, neuron2=10, neuron3=8.........................\n",
      "[CV 2/5; 27/27] END .......neuron1=12, neuron2=10, neuron3=8; total time= 2.6min\n",
      "[CV 3/5; 27/27] START neuron1=12, neuron2=10, neuron3=8.........................\n",
      "[CV 3/5; 27/27] END .......neuron1=12, neuron2=10, neuron3=8; total time= 2.6min\n",
      "[CV 4/5; 27/27] START neuron1=12, neuron2=10, neuron3=8.........................\n",
      "[CV 4/5; 27/27] END .......neuron1=12, neuron2=10, neuron3=8; total time= 2.8min\n",
      "[CV 5/5; 27/27] START neuron1=12, neuron2=10, neuron3=8.........................\n",
      "[CV 5/5; 27/27] END .......neuron1=12, neuron2=10, neuron3=8; total time= 3.1min\n"
     ]
    }
   ],
   "source": [
    "neuron1 = [8,10,12]\n",
    "neuron2 = [6,8,10]\n",
    "neuron3 = [4,6,8]\n",
    "param_grids = dict(neuron1 = neuron1, neuron2 = neuron2, neuron3 = neuron3)\n",
    "grid = GridSearchCV(estimator = model,param_grid = param_grids,cv = KFold(),verbose = 10)\n",
    "grid_result = grid.fit(data,y) "
   ]
  },
  {
   "cell_type": "markdown",
   "id": "a4993b48",
   "metadata": {},
   "source": [
    "###    Summarize the results"
   ]
  },
  {
   "cell_type": "code",
   "execution_count": 101,
   "id": "562088fd",
   "metadata": {
    "ExecuteTime": {
     "end_time": "2021-04-30T19:02:28.055707Z",
     "start_time": "2021-04-30T19:02:27.991709Z"
    }
   },
   "outputs": [
    {
     "name": "stdout",
     "output_type": "stream",
     "text": [
      "Best : -133.18829040527345, using {'neuron1': 8, 'neuron2': 6, 'neuron3': 4}\n",
      "-133.18829040527345,3.1142666122698572 with: {'neuron1': 8, 'neuron2': 6, 'neuron3': 4}\n",
      "-133.18829040527345,3.1142666122698572 with: {'neuron1': 8, 'neuron2': 6, 'neuron3': 6}\n",
      "-133.18829040527345,3.1142666122698572 with: {'neuron1': 8, 'neuron2': 6, 'neuron3': 8}\n",
      "-133.18829040527345,3.1142666122698572 with: {'neuron1': 8, 'neuron2': 8, 'neuron3': 4}\n",
      "-133.18829040527345,3.1142666122698572 with: {'neuron1': 8, 'neuron2': 8, 'neuron3': 6}\n",
      "-133.18829040527345,3.1142666122698572 with: {'neuron1': 8, 'neuron2': 8, 'neuron3': 8}\n",
      "-133.18829040527345,3.1142666122698572 with: {'neuron1': 8, 'neuron2': 10, 'neuron3': 4}\n",
      "-133.18829040527345,3.1142666122698572 with: {'neuron1': 8, 'neuron2': 10, 'neuron3': 6}\n",
      "-133.18829040527345,3.1142666122698572 with: {'neuron1': 8, 'neuron2': 10, 'neuron3': 8}\n",
      "-133.18829040527345,3.1142666122698572 with: {'neuron1': 10, 'neuron2': 6, 'neuron3': 4}\n",
      "-133.18829040527345,3.1142666122698572 with: {'neuron1': 10, 'neuron2': 6, 'neuron3': 6}\n",
      "-133.18829040527345,3.1142666122698572 with: {'neuron1': 10, 'neuron2': 6, 'neuron3': 8}\n",
      "-133.18829040527345,3.1142666122698572 with: {'neuron1': 10, 'neuron2': 8, 'neuron3': 4}\n",
      "-133.18829040527345,3.1142666122698572 with: {'neuron1': 10, 'neuron2': 8, 'neuron3': 6}\n",
      "-133.18829040527345,3.1142666122698572 with: {'neuron1': 10, 'neuron2': 8, 'neuron3': 8}\n",
      "-133.18829040527345,3.1142666122698572 with: {'neuron1': 10, 'neuron2': 10, 'neuron3': 4}\n",
      "-133.18829040527345,3.1142666122698572 with: {'neuron1': 10, 'neuron2': 10, 'neuron3': 6}\n",
      "-133.18829040527345,3.1142666122698572 with: {'neuron1': 10, 'neuron2': 10, 'neuron3': 8}\n",
      "-133.18829040527345,3.1142666122698572 with: {'neuron1': 12, 'neuron2': 6, 'neuron3': 4}\n",
      "-133.18829040527345,3.1142666122698572 with: {'neuron1': 12, 'neuron2': 6, 'neuron3': 6}\n",
      "-133.18829040527345,3.1142666122698572 with: {'neuron1': 12, 'neuron2': 6, 'neuron3': 8}\n",
      "-133.18829040527345,3.1142666122698572 with: {'neuron1': 12, 'neuron2': 8, 'neuron3': 4}\n",
      "-133.18829040527345,3.1142666122698572 with: {'neuron1': 12, 'neuron2': 8, 'neuron3': 6}\n",
      "-133.18829040527345,3.1142666122698572 with: {'neuron1': 12, 'neuron2': 8, 'neuron3': 8}\n",
      "-133.18829040527345,3.1142666122698572 with: {'neuron1': 12, 'neuron2': 10, 'neuron3': 4}\n",
      "-133.18829040527345,3.1142666122698572 with: {'neuron1': 12, 'neuron2': 10, 'neuron3': 6}\n",
      "-133.18829040527345,3.1142666122698572 with: {'neuron1': 12, 'neuron2': 10, 'neuron3': 8}\n"
     ]
    }
   ],
   "source": [
    "print('Best : {}, using {}'.format(grid_result.best_score_,grid_result.best_params_))\n",
    "means = grid_result.cv_results_['mean_test_score']\n",
    "stds = grid_result.cv_results_['std_test_score']\n",
    "params = grid_result.cv_results_['params']\n",
    "for mean, stdev, param in zip(means, stds, params):\n",
    "  print('{},{} with: {}'.format(mean, stdev, param)) "
   ]
  },
  {
   "cell_type": "markdown",
   "id": "1058e400",
   "metadata": {},
   "source": [
    "##  Training model with optimum values of Hyperparameters"
   ]
  },
  {
   "cell_type": "markdown",
   "id": "214cf36e",
   "metadata": {},
   "source": [
    "###   Defining the model"
   ]
  },
  {
   "cell_type": "code",
   "execution_count": 253,
   "id": "d3be7ab8",
   "metadata": {
    "ExecuteTime": {
     "end_time": "2021-04-30T21:47:07.744451Z",
     "start_time": "2021-04-30T21:47:07.712450Z"
    }
   },
   "outputs": [],
   "source": [
    "def create_model():\n",
    "    model = Sequential()\n",
    "    model.add(Dense(8, input_dim=10, kernel_initializer='uniform', activation='linear',input_shape=(10,)))\n",
    "    model.add(Dropout(0.0))\n",
    "    model.add(Dense(6, kernel_initializer = 'uniform',activation = 'linear'))\n",
    "    model.add(Dropout(0.0))\n",
    "    model.add(Dense(4, kernel_initializer='uniform', activation='linear'))\n",
    "    model.add(Dropout(0.0))\n",
    "    model.add(Dense(1,activation = 'linear'))\n",
    "    optimizer = tf.keras.optimizers.RMSprop(learning_rate =0.1 , momentum= 0.4, centered=False)\n",
    "    model.compile(loss='mean_absolute_error', optimizer= optimizer, metrics=['mse','mape'])\n",
    "    return model"
   ]
  },
  {
   "cell_type": "code",
   "execution_count": 254,
   "id": "22fe7d46",
   "metadata": {
    "ExecuteTime": {
     "end_time": "2021-04-30T21:47:11.447215Z",
     "start_time": "2021-04-30T21:47:11.423213Z"
    }
   },
   "outputs": [],
   "source": [
    "model = KerasRegressor(build_fn = create_model, verbose = 0, batch_size =128, epochs = 100)"
   ]
  },
  {
   "cell_type": "markdown",
   "id": "89d57523",
   "metadata": {},
   "source": [
    "###   Fitting the model"
   ]
  },
  {
   "cell_type": "code",
   "execution_count": 255,
   "id": "89d44146",
   "metadata": {
    "ExecuteTime": {
     "end_time": "2021-04-30T21:47:53.414124Z",
     "start_time": "2021-04-30T21:47:14.829439Z"
    }
   },
   "outputs": [
    {
     "data": {
      "text/plain": [
       "<tensorflow.python.keras.callbacks.History at 0xf2c5baddf0>"
      ]
     },
     "execution_count": 255,
     "metadata": {},
     "output_type": "execute_result"
    }
   ],
   "source": [
    "model.fit(data,y)"
   ]
  },
  {
   "cell_type": "markdown",
   "id": "2c23fc9b",
   "metadata": {},
   "source": [
    "###  Predicting using trained model"
   ]
  },
  {
   "cell_type": "code",
   "execution_count": 256,
   "id": "ff025c22",
   "metadata": {
    "ExecuteTime": {
     "end_time": "2021-04-30T21:47:57.882714Z",
     "start_time": "2021-04-30T21:47:57.106692Z"
    }
   },
   "outputs": [
    {
     "data": {
      "text/plain": [
       "array([119.89471 , 119.97731 , 120.10501 , ..., 114.056854, 115.28381 ,\n",
       "       116.726166], dtype=float32)"
      ]
     },
     "execution_count": 256,
     "metadata": {},
     "output_type": "execute_result"
    }
   ],
   "source": [
    "y_predict = model.predict(data)\n",
    "y_predict"
   ]
  },
  {
   "cell_type": "code",
   "execution_count": 257,
   "id": "99b61875",
   "metadata": {
    "ExecuteTime": {
     "end_time": "2021-04-30T21:48:01.365919Z",
     "start_time": "2021-04-30T21:48:01.317919Z"
    }
   },
   "outputs": [
    {
     "name": "stdout",
     "output_type": "stream",
     "text": [
      "7.333148098368393\n",
      "2.504233551055829\n",
      "0.01921264328969043\n"
     ]
    }
   ],
   "source": [
    "print(mean_squared_error(y,y_predict))\n",
    "print(mean_absolute_error(y,y_predict))\n",
    "print(mean_absolute_percentage_error(y,y_predict))"
   ]
  },
  {
   "cell_type": "markdown",
   "id": "8db0de9d",
   "metadata": {},
   "source": [
    "###  After tuning hyperparameter the mean squared error, mean absolute error and mean absolute percentage error are comparetively lower than the first model "
   ]
  },
  {
   "cell_type": "code",
   "execution_count": 258,
   "id": "69fc3085",
   "metadata": {
    "ExecuteTime": {
     "end_time": "2021-04-30T21:48:05.950681Z",
     "start_time": "2021-04-30T21:48:04.758505Z"
    }
   },
   "outputs": [
    {
     "name": "stderr",
     "output_type": "stream",
     "text": [
      "No handles with labels found to put in legend.\n"
     ]
    },
    {
     "data": {
      "image/png": "[encoded data removed]",
      "text/plain": [
       "<Figure size 432x288 with 1 Axes>"
      ]
     },
     "metadata": {
      "needs_background": "light"
     },
     "output_type": "display_data"
    }
   ],
   "source": [
    "plt.plot(y,color = 'red')\n",
    "plt.plot(y_predict, color = 'blue')\n",
    "plt.title('actual vs predict')\n",
    "plt.xlabel('actual')\n",
    "plt.ylabel('predict')\n",
    "plt.legend()\n",
    "plt.show()"
   ]
  },
  {
   "cell_type": "code",
   "execution_count": 259,
   "id": "7b4f43cc",
   "metadata": {
    "ExecuteTime": {
     "end_time": "2021-04-30T21:48:45.864910Z",
     "start_time": "2021-04-30T21:48:44.440872Z"
    }
   },
   "outputs": [
    {
     "name": "stderr",
     "output_type": "stream",
     "text": [
      "No handles with labels found to put in legend.\n"
     ]
    },
    {
     "data": {
      "image/png": "[encoded data removed]",
      "text/plain": [
       "<Figure size 432x288 with 1 Axes>"
      ]
     },
     "metadata": {
      "needs_background": "light"
     },
     "output_type": "display_data"
    }
   ],
   "source": [
    "plt.hist(y,color = 'red')\n",
    "plt.hist(y_predict, color = 'blue')\n",
    "plt.title('actual vs predict')\n",
    "plt.xlabel('actual')\n",
    "plt.ylabel('predict')\n",
    "plt.legend()\n",
    "plt.show()"
   ]
  },
  {
   "cell_type": "markdown",
   "id": "a6ab0ecc",
   "metadata": {},
   "source": [
    "###   There is no much difference between actual vs predicted as they are almost overlapping with each other."
   ]
  },
  {
   "cell_type": "code",
   "execution_count": null,
   "id": "56fa8b45",
   "metadata": {},
   "outputs": [],
   "source": []
  }
 ],
 "metadata": {
  "kernelspec": {
   "display_name": "Python 3",
   "language": "python",
   "name": "python3"
  },
  "language_info": {
   "codemirror_mode": {
    "name": "ipython",
    "version": 3
   },
   "file_extension": ".py",
   "mimetype": "text/x-python",
   "name": "python",
   "nbconvert_exporter": "python",
   "pygments_lexer": "ipython3",
   "version": "3.8.8"
  },
  "varInspector": {
   "cols": {
    "lenName": 16,
    "lenType": 16,
    "lenVar": 40
   },
   "kernels_config": {
    "python": {
     "delete_cmd_postfix": "",
     "delete_cmd_prefix": "del ",
     "library": "var_list.py",
     "varRefreshCmd": "print(var_dic_list())"
    },
    "r": {
     "delete_cmd_postfix": ") ",
     "delete_cmd_prefix": "rm(",
     "library": "var_list.r",
     "varRefreshCmd": "cat(var_dic_list()) "
    }
   },
   "types_to_exclude": [
    "module",
    "function",
    "builtin_function_or_method",
    "instance",
    "_Feature"
   ],
   "window_display": false
  }
 },
 "nbformat": 4,
 "nbformat_minor": 5
}
