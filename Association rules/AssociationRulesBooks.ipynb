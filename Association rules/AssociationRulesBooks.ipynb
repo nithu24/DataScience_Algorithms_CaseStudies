{
 "cells": [
  {
   "cell_type": "markdown",
   "metadata": {},
   "source": [
    "#  Question 1"
   ]
  },
  {
   "cell_type": "code",
   "execution_count": 2,
   "metadata": {
    "ExecuteTime": {
     "end_time": "2021-03-30T07:15:49.232590Z",
     "start_time": "2021-03-30T07:15:15.619599Z"
    }
   },
   "outputs": [],
   "source": [
    "import pandas as pd\n",
    "from mlxtend.frequent_patterns import apriori,association_rules\n",
    "import matplotlib.pyplot as plt\n",
    "import seaborn as sns"
   ]
  },
  {
   "cell_type": "code",
   "execution_count": 3,
   "metadata": {
    "ExecuteTime": {
     "end_time": "2021-03-30T07:15:49.526794Z",
     "start_time": "2021-03-30T07:15:49.286781Z"
    }
   },
   "outputs": [
    {
     "data": {
      "text/html": [
       "<div>\n",
       "<style scoped>\n",
       "    .dataframe tbody tr th:only-of-type {\n",
       "        vertical-align: middle;\n",
       "    }\n",
       "\n",
       "    .dataframe tbody tr th {\n",
       "        vertical-align: top;\n",
       "    }\n",
       "\n",
       "    .dataframe thead th {\n",
       "        text-align: right;\n",
       "    }\n",
       "</style>\n",
       "<table border=\"1\" class=\"dataframe\">\n",
       "  <thead>\n",
       "    <tr style=\"text-align: right;\">\n",
       "      <th></th>\n",
       "      <th>ChildBks</th>\n",
       "      <th>YouthBks</th>\n",
       "      <th>CookBks</th>\n",
       "      <th>DoItYBks</th>\n",
       "      <th>RefBks</th>\n",
       "      <th>ArtBks</th>\n",
       "      <th>GeogBks</th>\n",
       "      <th>ItalCook</th>\n",
       "      <th>ItalAtlas</th>\n",
       "      <th>ItalArt</th>\n",
       "      <th>Florence</th>\n",
       "    </tr>\n",
       "  </thead>\n",
       "  <tbody>\n",
       "    <tr>\n",
       "      <th>0</th>\n",
       "      <td>0</td>\n",
       "      <td>1</td>\n",
       "      <td>0</td>\n",
       "      <td>1</td>\n",
       "      <td>0</td>\n",
       "      <td>0</td>\n",
       "      <td>1</td>\n",
       "      <td>0</td>\n",
       "      <td>0</td>\n",
       "      <td>0</td>\n",
       "      <td>0</td>\n",
       "    </tr>\n",
       "    <tr>\n",
       "      <th>1</th>\n",
       "      <td>1</td>\n",
       "      <td>0</td>\n",
       "      <td>0</td>\n",
       "      <td>0</td>\n",
       "      <td>0</td>\n",
       "      <td>0</td>\n",
       "      <td>0</td>\n",
       "      <td>0</td>\n",
       "      <td>0</td>\n",
       "      <td>0</td>\n",
       "      <td>0</td>\n",
       "    </tr>\n",
       "    <tr>\n",
       "      <th>2</th>\n",
       "      <td>0</td>\n",
       "      <td>0</td>\n",
       "      <td>0</td>\n",
       "      <td>0</td>\n",
       "      <td>0</td>\n",
       "      <td>0</td>\n",
       "      <td>0</td>\n",
       "      <td>0</td>\n",
       "      <td>0</td>\n",
       "      <td>0</td>\n",
       "      <td>0</td>\n",
       "    </tr>\n",
       "    <tr>\n",
       "      <th>3</th>\n",
       "      <td>1</td>\n",
       "      <td>1</td>\n",
       "      <td>1</td>\n",
       "      <td>0</td>\n",
       "      <td>1</td>\n",
       "      <td>0</td>\n",
       "      <td>1</td>\n",
       "      <td>0</td>\n",
       "      <td>0</td>\n",
       "      <td>0</td>\n",
       "      <td>0</td>\n",
       "    </tr>\n",
       "    <tr>\n",
       "      <th>4</th>\n",
       "      <td>0</td>\n",
       "      <td>0</td>\n",
       "      <td>1</td>\n",
       "      <td>0</td>\n",
       "      <td>0</td>\n",
       "      <td>0</td>\n",
       "      <td>1</td>\n",
       "      <td>0</td>\n",
       "      <td>0</td>\n",
       "      <td>0</td>\n",
       "      <td>0</td>\n",
       "    </tr>\n",
       "    <tr>\n",
       "      <th>...</th>\n",
       "      <td>...</td>\n",
       "      <td>...</td>\n",
       "      <td>...</td>\n",
       "      <td>...</td>\n",
       "      <td>...</td>\n",
       "      <td>...</td>\n",
       "      <td>...</td>\n",
       "      <td>...</td>\n",
       "      <td>...</td>\n",
       "      <td>...</td>\n",
       "      <td>...</td>\n",
       "    </tr>\n",
       "    <tr>\n",
       "      <th>1995</th>\n",
       "      <td>0</td>\n",
       "      <td>0</td>\n",
       "      <td>1</td>\n",
       "      <td>0</td>\n",
       "      <td>0</td>\n",
       "      <td>1</td>\n",
       "      <td>1</td>\n",
       "      <td>1</td>\n",
       "      <td>0</td>\n",
       "      <td>1</td>\n",
       "      <td>1</td>\n",
       "    </tr>\n",
       "    <tr>\n",
       "      <th>1996</th>\n",
       "      <td>0</td>\n",
       "      <td>0</td>\n",
       "      <td>0</td>\n",
       "      <td>0</td>\n",
       "      <td>0</td>\n",
       "      <td>0</td>\n",
       "      <td>0</td>\n",
       "      <td>0</td>\n",
       "      <td>0</td>\n",
       "      <td>0</td>\n",
       "      <td>0</td>\n",
       "    </tr>\n",
       "    <tr>\n",
       "      <th>1997</th>\n",
       "      <td>0</td>\n",
       "      <td>0</td>\n",
       "      <td>0</td>\n",
       "      <td>0</td>\n",
       "      <td>0</td>\n",
       "      <td>0</td>\n",
       "      <td>0</td>\n",
       "      <td>0</td>\n",
       "      <td>0</td>\n",
       "      <td>0</td>\n",
       "      <td>0</td>\n",
       "    </tr>\n",
       "    <tr>\n",
       "      <th>1998</th>\n",
       "      <td>0</td>\n",
       "      <td>0</td>\n",
       "      <td>1</td>\n",
       "      <td>0</td>\n",
       "      <td>0</td>\n",
       "      <td>0</td>\n",
       "      <td>0</td>\n",
       "      <td>0</td>\n",
       "      <td>0</td>\n",
       "      <td>0</td>\n",
       "      <td>0</td>\n",
       "    </tr>\n",
       "    <tr>\n",
       "      <th>1999</th>\n",
       "      <td>0</td>\n",
       "      <td>0</td>\n",
       "      <td>0</td>\n",
       "      <td>0</td>\n",
       "      <td>0</td>\n",
       "      <td>0</td>\n",
       "      <td>0</td>\n",
       "      <td>0</td>\n",
       "      <td>0</td>\n",
       "      <td>0</td>\n",
       "      <td>0</td>\n",
       "    </tr>\n",
       "  </tbody>\n",
       "</table>\n",
       "<p>2000 rows × 11 columns</p>\n",
       "</div>"
      ],
      "text/plain": [
       "      ChildBks  YouthBks  CookBks  DoItYBks  RefBks  ArtBks  GeogBks  \\\n",
       "0            0         1        0         1       0       0        1   \n",
       "1            1         0        0         0       0       0        0   \n",
       "2            0         0        0         0       0       0        0   \n",
       "3            1         1        1         0       1       0        1   \n",
       "4            0         0        1         0       0       0        1   \n",
       "...        ...       ...      ...       ...     ...     ...      ...   \n",
       "1995         0         0        1         0       0       1        1   \n",
       "1996         0         0        0         0       0       0        0   \n",
       "1997         0         0        0         0       0       0        0   \n",
       "1998         0         0        1         0       0       0        0   \n",
       "1999         0         0        0         0       0       0        0   \n",
       "\n",
       "      ItalCook  ItalAtlas  ItalArt  Florence  \n",
       "0            0          0        0         0  \n",
       "1            0          0        0         0  \n",
       "2            0          0        0         0  \n",
       "3            0          0        0         0  \n",
       "4            0          0        0         0  \n",
       "...        ...        ...      ...       ...  \n",
       "1995         1          0        1         1  \n",
       "1996         0          0        0         0  \n",
       "1997         0          0        0         0  \n",
       "1998         0          0        0         0  \n",
       "1999         0          0        0         0  \n",
       "\n",
       "[2000 rows x 11 columns]"
      ]
     },
     "execution_count": 3,
     "metadata": {},
     "output_type": "execute_result"
    }
   ],
   "source": [
    "books = pd.read_csv(\"book.csv\")\n",
    "books"
   ]
  },
  {
   "cell_type": "code",
   "execution_count": 4,
   "metadata": {
    "ExecuteTime": {
     "end_time": "2021-03-30T07:15:49.814793Z",
     "start_time": "2021-03-30T07:15:49.590793Z"
    }
   },
   "outputs": [
    {
     "data": {
      "text/html": [
       "<div>\n",
       "<style scoped>\n",
       "    .dataframe tbody tr th:only-of-type {\n",
       "        vertical-align: middle;\n",
       "    }\n",
       "\n",
       "    .dataframe tbody tr th {\n",
       "        vertical-align: top;\n",
       "    }\n",
       "\n",
       "    .dataframe thead th {\n",
       "        text-align: right;\n",
       "    }\n",
       "</style>\n",
       "<table border=\"1\" class=\"dataframe\">\n",
       "  <thead>\n",
       "    <tr style=\"text-align: right;\">\n",
       "      <th></th>\n",
       "      <th>ChildBks</th>\n",
       "      <th>YouthBks</th>\n",
       "      <th>CookBks</th>\n",
       "      <th>DoItYBks</th>\n",
       "      <th>RefBks</th>\n",
       "      <th>ArtBks</th>\n",
       "      <th>GeogBks</th>\n",
       "      <th>ItalCook</th>\n",
       "      <th>ItalAtlas</th>\n",
       "      <th>ItalArt</th>\n",
       "      <th>Florence</th>\n",
       "    </tr>\n",
       "  </thead>\n",
       "  <tbody>\n",
       "    <tr>\n",
       "      <th>count</th>\n",
       "      <td>2000.000000</td>\n",
       "      <td>2000.000000</td>\n",
       "      <td>2000.00000</td>\n",
       "      <td>2000.000000</td>\n",
       "      <td>2000.000000</td>\n",
       "      <td>2000.000000</td>\n",
       "      <td>2000.000000</td>\n",
       "      <td>2000.000000</td>\n",
       "      <td>2000.000000</td>\n",
       "      <td>2000.000000</td>\n",
       "      <td>2000.000000</td>\n",
       "    </tr>\n",
       "    <tr>\n",
       "      <th>mean</th>\n",
       "      <td>0.423000</td>\n",
       "      <td>0.247500</td>\n",
       "      <td>0.43100</td>\n",
       "      <td>0.282000</td>\n",
       "      <td>0.214500</td>\n",
       "      <td>0.241000</td>\n",
       "      <td>0.276000</td>\n",
       "      <td>0.113500</td>\n",
       "      <td>0.037000</td>\n",
       "      <td>0.048500</td>\n",
       "      <td>0.108500</td>\n",
       "    </tr>\n",
       "    <tr>\n",
       "      <th>std</th>\n",
       "      <td>0.494159</td>\n",
       "      <td>0.431668</td>\n",
       "      <td>0.49534</td>\n",
       "      <td>0.450086</td>\n",
       "      <td>0.410578</td>\n",
       "      <td>0.427797</td>\n",
       "      <td>0.447129</td>\n",
       "      <td>0.317282</td>\n",
       "      <td>0.188809</td>\n",
       "      <td>0.214874</td>\n",
       "      <td>0.311089</td>\n",
       "    </tr>\n",
       "    <tr>\n",
       "      <th>min</th>\n",
       "      <td>0.000000</td>\n",
       "      <td>0.000000</td>\n",
       "      <td>0.00000</td>\n",
       "      <td>0.000000</td>\n",
       "      <td>0.000000</td>\n",
       "      <td>0.000000</td>\n",
       "      <td>0.000000</td>\n",
       "      <td>0.000000</td>\n",
       "      <td>0.000000</td>\n",
       "      <td>0.000000</td>\n",
       "      <td>0.000000</td>\n",
       "    </tr>\n",
       "    <tr>\n",
       "      <th>25%</th>\n",
       "      <td>0.000000</td>\n",
       "      <td>0.000000</td>\n",
       "      <td>0.00000</td>\n",
       "      <td>0.000000</td>\n",
       "      <td>0.000000</td>\n",
       "      <td>0.000000</td>\n",
       "      <td>0.000000</td>\n",
       "      <td>0.000000</td>\n",
       "      <td>0.000000</td>\n",
       "      <td>0.000000</td>\n",
       "      <td>0.000000</td>\n",
       "    </tr>\n",
       "    <tr>\n",
       "      <th>50%</th>\n",
       "      <td>0.000000</td>\n",
       "      <td>0.000000</td>\n",
       "      <td>0.00000</td>\n",
       "      <td>0.000000</td>\n",
       "      <td>0.000000</td>\n",
       "      <td>0.000000</td>\n",
       "      <td>0.000000</td>\n",
       "      <td>0.000000</td>\n",
       "      <td>0.000000</td>\n",
       "      <td>0.000000</td>\n",
       "      <td>0.000000</td>\n",
       "    </tr>\n",
       "    <tr>\n",
       "      <th>75%</th>\n",
       "      <td>1.000000</td>\n",
       "      <td>0.000000</td>\n",
       "      <td>1.00000</td>\n",
       "      <td>1.000000</td>\n",
       "      <td>0.000000</td>\n",
       "      <td>0.000000</td>\n",
       "      <td>1.000000</td>\n",
       "      <td>0.000000</td>\n",
       "      <td>0.000000</td>\n",
       "      <td>0.000000</td>\n",
       "      <td>0.000000</td>\n",
       "    </tr>\n",
       "    <tr>\n",
       "      <th>max</th>\n",
       "      <td>1.000000</td>\n",
       "      <td>1.000000</td>\n",
       "      <td>1.00000</td>\n",
       "      <td>1.000000</td>\n",
       "      <td>1.000000</td>\n",
       "      <td>1.000000</td>\n",
       "      <td>1.000000</td>\n",
       "      <td>1.000000</td>\n",
       "      <td>1.000000</td>\n",
       "      <td>1.000000</td>\n",
       "      <td>1.000000</td>\n",
       "    </tr>\n",
       "  </tbody>\n",
       "</table>\n",
       "</div>"
      ],
      "text/plain": [
       "          ChildBks     YouthBks     CookBks     DoItYBks       RefBks  \\\n",
       "count  2000.000000  2000.000000  2000.00000  2000.000000  2000.000000   \n",
       "mean      0.423000     0.247500     0.43100     0.282000     0.214500   \n",
       "std       0.494159     0.431668     0.49534     0.450086     0.410578   \n",
       "min       0.000000     0.000000     0.00000     0.000000     0.000000   \n",
       "25%       0.000000     0.000000     0.00000     0.000000     0.000000   \n",
       "50%       0.000000     0.000000     0.00000     0.000000     0.000000   \n",
       "75%       1.000000     0.000000     1.00000     1.000000     0.000000   \n",
       "max       1.000000     1.000000     1.00000     1.000000     1.000000   \n",
       "\n",
       "            ArtBks      GeogBks     ItalCook    ItalAtlas      ItalArt  \\\n",
       "count  2000.000000  2000.000000  2000.000000  2000.000000  2000.000000   \n",
       "mean      0.241000     0.276000     0.113500     0.037000     0.048500   \n",
       "std       0.427797     0.447129     0.317282     0.188809     0.214874   \n",
       "min       0.000000     0.000000     0.000000     0.000000     0.000000   \n",
       "25%       0.000000     0.000000     0.000000     0.000000     0.000000   \n",
       "50%       0.000000     0.000000     0.000000     0.000000     0.000000   \n",
       "75%       0.000000     1.000000     0.000000     0.000000     0.000000   \n",
       "max       1.000000     1.000000     1.000000     1.000000     1.000000   \n",
       "\n",
       "          Florence  \n",
       "count  2000.000000  \n",
       "mean      0.108500  \n",
       "std       0.311089  \n",
       "min       0.000000  \n",
       "25%       0.000000  \n",
       "50%       0.000000  \n",
       "75%       0.000000  \n",
       "max       1.000000  "
      ]
     },
     "execution_count": 4,
     "metadata": {},
     "output_type": "execute_result"
    }
   ],
   "source": [
    "books.describe()"
   ]
  },
  {
   "cell_type": "markdown",
   "metadata": {},
   "source": [
    "##  Visualization of input dataset "
   ]
  },
  {
   "cell_type": "code",
   "execution_count": 5,
   "metadata": {
    "ExecuteTime": {
     "end_time": "2021-03-30T07:15:54.398513Z",
     "start_time": "2021-03-30T07:15:49.870799Z"
    }
   },
   "outputs": [
    {
     "data": {
      "text/plain": [
       "<AxesSubplot:ylabel='Count'>"
      ]
     },
     "execution_count": 5,
     "metadata": {},
     "output_type": "execute_result"
    },
    {
     "data": {
      "image/png": "[encoded data removed]",
      "text/plain": [
       "<Figure size 432x288 with 1 Axes>"
      ]
     },
     "metadata": {
      "needs_background": "light"
     },
     "output_type": "display_data"
    }
   ],
   "source": [
    "sns.histplot(data=books)"
   ]
  },
  {
   "cell_type": "code",
   "execution_count": 6,
   "metadata": {
    "ExecuteTime": {
     "end_time": "2021-03-30T07:15:58.743727Z",
     "start_time": "2021-03-30T07:15:54.476139Z"
    }
   },
   "outputs": [
    {
     "data": {
      "text/plain": [
       "<AxesSubplot:>"
      ]
     },
     "execution_count": 6,
     "metadata": {},
     "output_type": "execute_result"
    },
    {
     "data": {
      "image/png": "[encoded data removed]",
      "text/plain": [
       "<Figure size 1080x360 with 1 Axes>"
      ]
     },
     "metadata": {
      "needs_background": "light"
     },
     "output_type": "display_data"
    }
   ],
   "source": [
    "plt.figure(figsize= (15,5))\n",
    "sns.barplot(data=books)"
   ]
  },
  {
   "cell_type": "markdown",
   "metadata": {},
   "source": [
    "##   Apriori Algorithm 1"
   ]
  },
  {
   "cell_type": "code",
   "execution_count": 7,
   "metadata": {
    "ExecuteTime": {
     "end_time": "2021-03-30T07:15:58.964832Z",
     "start_time": "2021-03-30T07:15:58.820838Z"
    }
   },
   "outputs": [
    {
     "data": {
      "text/html": [
       "<div>\n",
       "<style scoped>\n",
       "    .dataframe tbody tr th:only-of-type {\n",
       "        vertical-align: middle;\n",
       "    }\n",
       "\n",
       "    .dataframe tbody tr th {\n",
       "        vertical-align: top;\n",
       "    }\n",
       "\n",
       "    .dataframe thead th {\n",
       "        text-align: right;\n",
       "    }\n",
       "</style>\n",
       "<table border=\"1\" class=\"dataframe\">\n",
       "  <thead>\n",
       "    <tr style=\"text-align: right;\">\n",
       "      <th></th>\n",
       "      <th>support</th>\n",
       "      <th>itemsets</th>\n",
       "    </tr>\n",
       "  </thead>\n",
       "  <tbody>\n",
       "    <tr>\n",
       "      <th>0</th>\n",
       "      <td>0.4230</td>\n",
       "      <td>(ChildBks)</td>\n",
       "    </tr>\n",
       "    <tr>\n",
       "      <th>1</th>\n",
       "      <td>0.2475</td>\n",
       "      <td>(YouthBks)</td>\n",
       "    </tr>\n",
       "    <tr>\n",
       "      <th>2</th>\n",
       "      <td>0.4310</td>\n",
       "      <td>(CookBks)</td>\n",
       "    </tr>\n",
       "    <tr>\n",
       "      <th>3</th>\n",
       "      <td>0.2820</td>\n",
       "      <td>(DoItYBks)</td>\n",
       "    </tr>\n",
       "    <tr>\n",
       "      <th>4</th>\n",
       "      <td>0.2145</td>\n",
       "      <td>(RefBks)</td>\n",
       "    </tr>\n",
       "    <tr>\n",
       "      <th>5</th>\n",
       "      <td>0.2410</td>\n",
       "      <td>(ArtBks)</td>\n",
       "    </tr>\n",
       "    <tr>\n",
       "      <th>6</th>\n",
       "      <td>0.2760</td>\n",
       "      <td>(GeogBks)</td>\n",
       "    </tr>\n",
       "    <tr>\n",
       "      <th>7</th>\n",
       "      <td>0.1135</td>\n",
       "      <td>(ItalCook)</td>\n",
       "    </tr>\n",
       "    <tr>\n",
       "      <th>8</th>\n",
       "      <td>0.1085</td>\n",
       "      <td>(Florence)</td>\n",
       "    </tr>\n",
       "    <tr>\n",
       "      <th>9</th>\n",
       "      <td>0.1650</td>\n",
       "      <td>(YouthBks, ChildBks)</td>\n",
       "    </tr>\n",
       "    <tr>\n",
       "      <th>10</th>\n",
       "      <td>0.2560</td>\n",
       "      <td>(CookBks, ChildBks)</td>\n",
       "    </tr>\n",
       "    <tr>\n",
       "      <th>11</th>\n",
       "      <td>0.1840</td>\n",
       "      <td>(ChildBks, DoItYBks)</td>\n",
       "    </tr>\n",
       "    <tr>\n",
       "      <th>12</th>\n",
       "      <td>0.1515</td>\n",
       "      <td>(ChildBks, RefBks)</td>\n",
       "    </tr>\n",
       "    <tr>\n",
       "      <th>13</th>\n",
       "      <td>0.1625</td>\n",
       "      <td>(ChildBks, ArtBks)</td>\n",
       "    </tr>\n",
       "    <tr>\n",
       "      <th>14</th>\n",
       "      <td>0.1950</td>\n",
       "      <td>(ChildBks, GeogBks)</td>\n",
       "    </tr>\n",
       "    <tr>\n",
       "      <th>15</th>\n",
       "      <td>0.1620</td>\n",
       "      <td>(YouthBks, CookBks)</td>\n",
       "    </tr>\n",
       "    <tr>\n",
       "      <th>16</th>\n",
       "      <td>0.1155</td>\n",
       "      <td>(YouthBks, DoItYBks)</td>\n",
       "    </tr>\n",
       "    <tr>\n",
       "      <th>17</th>\n",
       "      <td>0.1010</td>\n",
       "      <td>(YouthBks, ArtBks)</td>\n",
       "    </tr>\n",
       "    <tr>\n",
       "      <th>18</th>\n",
       "      <td>0.1205</td>\n",
       "      <td>(YouthBks, GeogBks)</td>\n",
       "    </tr>\n",
       "    <tr>\n",
       "      <th>19</th>\n",
       "      <td>0.1875</td>\n",
       "      <td>(CookBks, DoItYBks)</td>\n",
       "    </tr>\n",
       "    <tr>\n",
       "      <th>20</th>\n",
       "      <td>0.1525</td>\n",
       "      <td>(CookBks, RefBks)</td>\n",
       "    </tr>\n",
       "    <tr>\n",
       "      <th>21</th>\n",
       "      <td>0.1670</td>\n",
       "      <td>(CookBks, ArtBks)</td>\n",
       "    </tr>\n",
       "    <tr>\n",
       "      <th>22</th>\n",
       "      <td>0.1925</td>\n",
       "      <td>(CookBks, GeogBks)</td>\n",
       "    </tr>\n",
       "    <tr>\n",
       "      <th>23</th>\n",
       "      <td>0.1135</td>\n",
       "      <td>(ItalCook, CookBks)</td>\n",
       "    </tr>\n",
       "    <tr>\n",
       "      <th>24</th>\n",
       "      <td>0.1055</td>\n",
       "      <td>(RefBks, DoItYBks)</td>\n",
       "    </tr>\n",
       "    <tr>\n",
       "      <th>25</th>\n",
       "      <td>0.1235</td>\n",
       "      <td>(DoItYBks, ArtBks)</td>\n",
       "    </tr>\n",
       "    <tr>\n",
       "      <th>26</th>\n",
       "      <td>0.1325</td>\n",
       "      <td>(GeogBks, DoItYBks)</td>\n",
       "    </tr>\n",
       "    <tr>\n",
       "      <th>27</th>\n",
       "      <td>0.1105</td>\n",
       "      <td>(RefBks, GeogBks)</td>\n",
       "    </tr>\n",
       "    <tr>\n",
       "      <th>28</th>\n",
       "      <td>0.1275</td>\n",
       "      <td>(GeogBks, ArtBks)</td>\n",
       "    </tr>\n",
       "  </tbody>\n",
       "</table>\n",
       "</div>"
      ],
      "text/plain": [
       "    support              itemsets\n",
       "0    0.4230            (ChildBks)\n",
       "1    0.2475            (YouthBks)\n",
       "2    0.4310             (CookBks)\n",
       "3    0.2820            (DoItYBks)\n",
       "4    0.2145              (RefBks)\n",
       "5    0.2410              (ArtBks)\n",
       "6    0.2760             (GeogBks)\n",
       "7    0.1135            (ItalCook)\n",
       "8    0.1085            (Florence)\n",
       "9    0.1650  (YouthBks, ChildBks)\n",
       "10   0.2560   (CookBks, ChildBks)\n",
       "11   0.1840  (ChildBks, DoItYBks)\n",
       "12   0.1515    (ChildBks, RefBks)\n",
       "13   0.1625    (ChildBks, ArtBks)\n",
       "14   0.1950   (ChildBks, GeogBks)\n",
       "15   0.1620   (YouthBks, CookBks)\n",
       "16   0.1155  (YouthBks, DoItYBks)\n",
       "17   0.1010    (YouthBks, ArtBks)\n",
       "18   0.1205   (YouthBks, GeogBks)\n",
       "19   0.1875   (CookBks, DoItYBks)\n",
       "20   0.1525     (CookBks, RefBks)\n",
       "21   0.1670     (CookBks, ArtBks)\n",
       "22   0.1925    (CookBks, GeogBks)\n",
       "23   0.1135   (ItalCook, CookBks)\n",
       "24   0.1055    (RefBks, DoItYBks)\n",
       "25   0.1235    (DoItYBks, ArtBks)\n",
       "26   0.1325   (GeogBks, DoItYBks)\n",
       "27   0.1105     (RefBks, GeogBks)\n",
       "28   0.1275     (GeogBks, ArtBks)"
      ]
     },
     "execution_count": 7,
     "metadata": {},
     "output_type": "execute_result"
    }
   ],
   "source": [
    "books_freq = apriori(books, min_support=0.1, use_colnames=True, max_len=2)\n",
    "books_freq"
   ]
  },
  {
   "cell_type": "markdown",
   "metadata": {},
   "source": [
    "##  Association rule"
   ]
  },
  {
   "cell_type": "code",
   "execution_count": 8,
   "metadata": {
    "ExecuteTime": {
     "end_time": "2021-03-30T07:15:59.276841Z",
     "start_time": "2021-03-30T07:15:59.060833Z"
    }
   },
   "outputs": [
    {
     "data": {
      "text/html": [
       "<div>\n",
       "<style scoped>\n",
       "    .dataframe tbody tr th:only-of-type {\n",
       "        vertical-align: middle;\n",
       "    }\n",
       "\n",
       "    .dataframe tbody tr th {\n",
       "        vertical-align: top;\n",
       "    }\n",
       "\n",
       "    .dataframe thead th {\n",
       "        text-align: right;\n",
       "    }\n",
       "</style>\n",
       "<table border=\"1\" class=\"dataframe\">\n",
       "  <thead>\n",
       "    <tr style=\"text-align: right;\">\n",
       "      <th></th>\n",
       "      <th>antecedents</th>\n",
       "      <th>consequents</th>\n",
       "      <th>antecedent support</th>\n",
       "      <th>consequent support</th>\n",
       "      <th>support</th>\n",
       "      <th>confidence</th>\n",
       "      <th>lift</th>\n",
       "      <th>leverage</th>\n",
       "      <th>conviction</th>\n",
       "    </tr>\n",
       "  </thead>\n",
       "  <tbody>\n",
       "    <tr>\n",
       "      <th>29</th>\n",
       "      <td>(CookBks)</td>\n",
       "      <td>(ItalCook)</td>\n",
       "      <td>0.4310</td>\n",
       "      <td>0.1135</td>\n",
       "      <td>0.1135</td>\n",
       "      <td>0.263341</td>\n",
       "      <td>2.320186</td>\n",
       "      <td>0.064582</td>\n",
       "      <td>1.203406</td>\n",
       "    </tr>\n",
       "    <tr>\n",
       "      <th>28</th>\n",
       "      <td>(ItalCook)</td>\n",
       "      <td>(CookBks)</td>\n",
       "      <td>0.1135</td>\n",
       "      <td>0.4310</td>\n",
       "      <td>0.1135</td>\n",
       "      <td>1.000000</td>\n",
       "      <td>2.320186</td>\n",
       "      <td>0.064582</td>\n",
       "      <td>inf</td>\n",
       "    </tr>\n",
       "    <tr>\n",
       "      <th>39</th>\n",
       "      <td>(ArtBks)</td>\n",
       "      <td>(GeogBks)</td>\n",
       "      <td>0.2410</td>\n",
       "      <td>0.2760</td>\n",
       "      <td>0.1275</td>\n",
       "      <td>0.529046</td>\n",
       "      <td>1.916832</td>\n",
       "      <td>0.060984</td>\n",
       "      <td>1.537304</td>\n",
       "    </tr>\n",
       "    <tr>\n",
       "      <th>38</th>\n",
       "      <td>(GeogBks)</td>\n",
       "      <td>(ArtBks)</td>\n",
       "      <td>0.2760</td>\n",
       "      <td>0.2410</td>\n",
       "      <td>0.1275</td>\n",
       "      <td>0.461957</td>\n",
       "      <td>1.916832</td>\n",
       "      <td>0.060984</td>\n",
       "      <td>1.410667</td>\n",
       "    </tr>\n",
       "    <tr>\n",
       "      <th>37</th>\n",
       "      <td>(GeogBks)</td>\n",
       "      <td>(RefBks)</td>\n",
       "      <td>0.2760</td>\n",
       "      <td>0.2145</td>\n",
       "      <td>0.1105</td>\n",
       "      <td>0.400362</td>\n",
       "      <td>1.866491</td>\n",
       "      <td>0.051298</td>\n",
       "      <td>1.309958</td>\n",
       "    </tr>\n",
       "    <tr>\n",
       "      <th>36</th>\n",
       "      <td>(RefBks)</td>\n",
       "      <td>(GeogBks)</td>\n",
       "      <td>0.2145</td>\n",
       "      <td>0.2760</td>\n",
       "      <td>0.1105</td>\n",
       "      <td>0.515152</td>\n",
       "      <td>1.866491</td>\n",
       "      <td>0.051298</td>\n",
       "      <td>1.493250</td>\n",
       "    </tr>\n",
       "    <tr>\n",
       "      <th>33</th>\n",
       "      <td>(ArtBks)</td>\n",
       "      <td>(DoItYBks)</td>\n",
       "      <td>0.2410</td>\n",
       "      <td>0.2820</td>\n",
       "      <td>0.1235</td>\n",
       "      <td>0.512448</td>\n",
       "      <td>1.817192</td>\n",
       "      <td>0.055538</td>\n",
       "      <td>1.472664</td>\n",
       "    </tr>\n",
       "    <tr>\n",
       "      <th>32</th>\n",
       "      <td>(DoItYBks)</td>\n",
       "      <td>(ArtBks)</td>\n",
       "      <td>0.2820</td>\n",
       "      <td>0.2410</td>\n",
       "      <td>0.1235</td>\n",
       "      <td>0.437943</td>\n",
       "      <td>1.817192</td>\n",
       "      <td>0.055538</td>\n",
       "      <td>1.350397</td>\n",
       "    </tr>\n",
       "    <tr>\n",
       "      <th>19</th>\n",
       "      <td>(GeogBks)</td>\n",
       "      <td>(YouthBks)</td>\n",
       "      <td>0.2760</td>\n",
       "      <td>0.2475</td>\n",
       "      <td>0.1205</td>\n",
       "      <td>0.436594</td>\n",
       "      <td>1.764017</td>\n",
       "      <td>0.052190</td>\n",
       "      <td>1.335627</td>\n",
       "    </tr>\n",
       "    <tr>\n",
       "      <th>18</th>\n",
       "      <td>(YouthBks)</td>\n",
       "      <td>(GeogBks)</td>\n",
       "      <td>0.2475</td>\n",
       "      <td>0.2760</td>\n",
       "      <td>0.1205</td>\n",
       "      <td>0.486869</td>\n",
       "      <td>1.764017</td>\n",
       "      <td>0.052190</td>\n",
       "      <td>1.410945</td>\n",
       "    </tr>\n",
       "  </tbody>\n",
       "</table>\n",
       "</div>"
      ],
      "text/plain": [
       "   antecedents consequents  antecedent support  consequent support  support  \\\n",
       "29   (CookBks)  (ItalCook)              0.4310              0.1135   0.1135   \n",
       "28  (ItalCook)   (CookBks)              0.1135              0.4310   0.1135   \n",
       "39    (ArtBks)   (GeogBks)              0.2410              0.2760   0.1275   \n",
       "38   (GeogBks)    (ArtBks)              0.2760              0.2410   0.1275   \n",
       "37   (GeogBks)    (RefBks)              0.2760              0.2145   0.1105   \n",
       "36    (RefBks)   (GeogBks)              0.2145              0.2760   0.1105   \n",
       "33    (ArtBks)  (DoItYBks)              0.2410              0.2820   0.1235   \n",
       "32  (DoItYBks)    (ArtBks)              0.2820              0.2410   0.1235   \n",
       "19   (GeogBks)  (YouthBks)              0.2760              0.2475   0.1205   \n",
       "18  (YouthBks)   (GeogBks)              0.2475              0.2760   0.1205   \n",
       "\n",
       "    confidence      lift  leverage  conviction  \n",
       "29    0.263341  2.320186  0.064582    1.203406  \n",
       "28    1.000000  2.320186  0.064582         inf  \n",
       "39    0.529046  1.916832  0.060984    1.537304  \n",
       "38    0.461957  1.916832  0.060984    1.410667  \n",
       "37    0.400362  1.866491  0.051298    1.309958  \n",
       "36    0.515152  1.866491  0.051298    1.493250  \n",
       "33    0.512448  1.817192  0.055538    1.472664  \n",
       "32    0.437943  1.817192  0.055538    1.350397  \n",
       "19    0.436594  1.764017  0.052190    1.335627  \n",
       "18    0.486869  1.764017  0.052190    1.410945  "
      ]
     },
     "execution_count": 8,
     "metadata": {},
     "output_type": "execute_result"
    }
   ],
   "source": [
    "books_rule = association_rules(books_freq, metric=\"lift\", min_threshold=0.5)\n",
    "books_rule\n",
    "books_rule.sort_values('lift',ascending = False).head(10)"
   ]
  },
  {
   "cell_type": "markdown",
   "metadata": {},
   "source": [
    "##  Inference "
   ]
  },
  {
   "cell_type": "markdown",
   "metadata": {},
   "source": [
    "###  The first rule states that CookBks and ItalCook are read frequently. The support for CookBks is 0.1135. The confidence for this rule is 0.2633 which means that out of all the books containing CookBks, 26.33% of the books are likely to contain ItalCook as well. Finally, lift of 2.32 shows that the ItalCook are 2.32 more likely to be read by the readers who has CookBks."
   ]
  },
  {
   "cell_type": "markdown",
   "metadata": {},
   "source": [
    "##  Visualization "
   ]
  },
  {
   "cell_type": "markdown",
   "metadata": {},
   "source": [
    "###  support vs confidence "
   ]
  },
  {
   "cell_type": "code",
   "execution_count": 9,
   "metadata": {
    "ExecuteTime": {
     "end_time": "2021-03-30T07:16:00.765787Z",
     "start_time": "2021-03-30T07:15:59.508856Z"
    }
   },
   "outputs": [
    {
     "data": {
      "text/plain": [
       "Text(0.5, 1.0, 'support vs confidence')"
      ]
     },
     "execution_count": 9,
     "metadata": {},
     "output_type": "execute_result"
    },
    {
     "data": {
      "image/png": "[encoded data removed]",
      "text/plain": [
       "<Figure size 432x288 with 1 Axes>"
      ]
     },
     "metadata": {
      "needs_background": "light"
     },
     "output_type": "display_data"
    }
   ],
   "source": [
    "plt.scatter(x= books_rule.support, y=books_rule.confidence,c=\"purple\" )\n",
    "plt.xlabel(\"support\")\n",
    "plt.ylabel(\"confidence\")\n",
    "plt.title(\"support vs confidence\")"
   ]
  },
  {
   "cell_type": "markdown",
   "metadata": {},
   "source": [
    "###  support vs lift"
   ]
  },
  {
   "cell_type": "code",
   "execution_count": 10,
   "metadata": {
    "ExecuteTime": {
     "end_time": "2021-03-30T07:16:01.902567Z",
     "start_time": "2021-03-30T07:16:00.973793Z"
    }
   },
   "outputs": [
    {
     "data": {
      "text/plain": [
       "Text(0.5, 1.0, 'support vs lift')"
      ]
     },
     "execution_count": 10,
     "metadata": {},
     "output_type": "execute_result"
    },
    {
     "data": {
      "image/png": "[encoded data removed]",
      "text/plain": [
       "<Figure size 432x288 with 1 Axes>"
      ]
     },
     "metadata": {
      "needs_background": "light"
     },
     "output_type": "display_data"
    }
   ],
   "source": [
    "plt.scatter(x= books_rule.support, y=books_rule.lift,c=\"red\" )\n",
    "plt.xlabel(\"support\")\n",
    "plt.ylabel(\"lift\")\n",
    "plt.title(\"support vs lift\")"
   ]
  },
  {
   "cell_type": "markdown",
   "metadata": {},
   "source": [
    "###  confidence vs lift "
   ]
  },
  {
   "cell_type": "code",
   "execution_count": 11,
   "metadata": {
    "ExecuteTime": {
     "end_time": "2021-03-30T07:16:02.860745Z",
     "start_time": "2021-03-30T07:16:02.094622Z"
    }
   },
   "outputs": [
    {
     "data": {
      "text/plain": [
       "Text(0.5, 1.0, 'confidence vs lift')"
      ]
     },
     "execution_count": 11,
     "metadata": {},
     "output_type": "execute_result"
    },
    {
     "data": {
      "image/png": "[encoded data removed]",
      "text/plain": [
       "<Figure size 432x288 with 1 Axes>"
      ]
     },
     "metadata": {
      "needs_background": "light"
     },
     "output_type": "display_data"
    }
   ],
   "source": [
    "plt.scatter(x= books_rule.confidence , y=books_rule.lift,c=\"green\" )\n",
    "plt.xlabel(\"confidence\")\n",
    "plt.ylabel(\"lift\")\n",
    "plt.title(\"confidence vs lift\")"
   ]
  },
  {
   "cell_type": "markdown",
   "metadata": {},
   "source": [
    "###  support vs confidence vs lift"
   ]
  },
  {
   "cell_type": "code",
   "execution_count": 12,
   "metadata": {
    "ExecuteTime": {
     "end_time": "2021-03-30T07:16:04.607541Z",
     "start_time": "2021-03-30T07:16:03.052919Z"
    }
   },
   "outputs": [
    {
     "data": {
      "text/plain": [
       "Text(0.5, 1.0, 'support vs confidence vs lift')"
      ]
     },
     "execution_count": 12,
     "metadata": {},
     "output_type": "execute_result"
    },
    {
     "data": {
      "image/png": "[encoded data removed]",
      "text/plain": [
       "<Figure size 432x288 with 2 Axes>"
      ]
     },
     "metadata": {
      "needs_background": "light"
     },
     "output_type": "display_data"
    }
   ],
   "source": [
    "books_rule.plot(x=\"support\",y =\"confidence\",c=\"lift\",kind=\"scatter\",s=70 ,cmap=\"rainbow\") \n",
    "plt.title('support vs confidence vs lift')"
   ]
  },
  {
   "cell_type": "code",
   "execution_count": 13,
   "metadata": {
    "ExecuteTime": {
     "end_time": "2021-03-30T07:16:09.505423Z",
     "start_time": "2021-03-30T07:16:04.823557Z"
    }
   },
   "outputs": [
    {
     "data": {
      "text/plain": [
       "<AxesSubplot:xlabel='support', ylabel='confidence'>"
      ]
     },
     "execution_count": 13,
     "metadata": {},
     "output_type": "execute_result"
    },
    {
     "data": {
      "image/png": "[encoded data removed]",
      "text/plain": [
       "<Figure size 1080x360 with 1 Axes>"
      ]
     },
     "metadata": {
      "needs_background": "light"
     },
     "output_type": "display_data"
    }
   ],
   "source": [
    "plt.figure(figsize= (15,5))\n",
    "sns.barplot(data=books_rule, x=\"support\", y=\"confidence\")"
   ]
  },
  {
   "cell_type": "markdown",
   "metadata": {},
   "source": [
    "##   Apriori Algorithm 2"
   ]
  },
  {
   "cell_type": "code",
   "execution_count": 14,
   "metadata": {
    "ExecuteTime": {
     "end_time": "2021-03-30T07:16:10.000637Z",
     "start_time": "2021-03-30T07:16:09.668084Z"
    }
   },
   "outputs": [
    {
     "data": {
      "text/html": [
       "<div>\n",
       "<style scoped>\n",
       "    .dataframe tbody tr th:only-of-type {\n",
       "        vertical-align: middle;\n",
       "    }\n",
       "\n",
       "    .dataframe tbody tr th {\n",
       "        vertical-align: top;\n",
       "    }\n",
       "\n",
       "    .dataframe thead th {\n",
       "        text-align: right;\n",
       "    }\n",
       "</style>\n",
       "<table border=\"1\" class=\"dataframe\">\n",
       "  <thead>\n",
       "    <tr style=\"text-align: right;\">\n",
       "      <th></th>\n",
       "      <th>support</th>\n",
       "      <th>itemsets</th>\n",
       "    </tr>\n",
       "  </thead>\n",
       "  <tbody>\n",
       "    <tr>\n",
       "      <th>0</th>\n",
       "      <td>0.4230</td>\n",
       "      <td>(ChildBks)</td>\n",
       "    </tr>\n",
       "    <tr>\n",
       "      <th>1</th>\n",
       "      <td>0.2475</td>\n",
       "      <td>(YouthBks)</td>\n",
       "    </tr>\n",
       "    <tr>\n",
       "      <th>2</th>\n",
       "      <td>0.4310</td>\n",
       "      <td>(CookBks)</td>\n",
       "    </tr>\n",
       "    <tr>\n",
       "      <th>3</th>\n",
       "      <td>0.2820</td>\n",
       "      <td>(DoItYBks)</td>\n",
       "    </tr>\n",
       "    <tr>\n",
       "      <th>4</th>\n",
       "      <td>0.2145</td>\n",
       "      <td>(RefBks)</td>\n",
       "    </tr>\n",
       "    <tr>\n",
       "      <th>...</th>\n",
       "      <td>...</td>\n",
       "      <td>...</td>\n",
       "    </tr>\n",
       "    <tr>\n",
       "      <th>542</th>\n",
       "      <td>0.0125</td>\n",
       "      <td>(ItalCook, CookBks, ItalArt, ArtBks, ItalAtlas)</td>\n",
       "    </tr>\n",
       "    <tr>\n",
       "      <th>543</th>\n",
       "      <td>0.0150</td>\n",
       "      <td>(ItalCook, DoItYBks, GeogBks, ItalArt, ArtBks)</td>\n",
       "    </tr>\n",
       "    <tr>\n",
       "      <th>544</th>\n",
       "      <td>0.0110</td>\n",
       "      <td>(ItalCook, GeogBks, RefBks, ItalArt, ArtBks)</td>\n",
       "    </tr>\n",
       "    <tr>\n",
       "      <th>545</th>\n",
       "      <td>0.0115</td>\n",
       "      <td>(GeogBks, RefBks, ItalArt, ArtBks, ItalAtlas)</td>\n",
       "    </tr>\n",
       "    <tr>\n",
       "      <th>546</th>\n",
       "      <td>0.0125</td>\n",
       "      <td>(ItalCook, RefBks, ItalArt, ArtBks, ItalAtlas)</td>\n",
       "    </tr>\n",
       "  </tbody>\n",
       "</table>\n",
       "<p>547 rows × 2 columns</p>\n",
       "</div>"
      ],
      "text/plain": [
       "     support                                         itemsets\n",
       "0     0.4230                                       (ChildBks)\n",
       "1     0.2475                                       (YouthBks)\n",
       "2     0.4310                                        (CookBks)\n",
       "3     0.2820                                       (DoItYBks)\n",
       "4     0.2145                                         (RefBks)\n",
       "..       ...                                              ...\n",
       "542   0.0125  (ItalCook, CookBks, ItalArt, ArtBks, ItalAtlas)\n",
       "543   0.0150   (ItalCook, DoItYBks, GeogBks, ItalArt, ArtBks)\n",
       "544   0.0110     (ItalCook, GeogBks, RefBks, ItalArt, ArtBks)\n",
       "545   0.0115    (GeogBks, RefBks, ItalArt, ArtBks, ItalAtlas)\n",
       "546   0.0125   (ItalCook, RefBks, ItalArt, ArtBks, ItalAtlas)\n",
       "\n",
       "[547 rows x 2 columns]"
      ]
     },
     "execution_count": 14,
     "metadata": {},
     "output_type": "execute_result"
    }
   ],
   "source": [
    "books_freq2 = apriori(books, min_support=0.01, use_colnames=True, max_len=5)\n",
    "books_freq2"
   ]
  },
  {
   "cell_type": "markdown",
   "metadata": {},
   "source": [
    "##  Association rule"
   ]
  },
  {
   "cell_type": "code",
   "execution_count": 15,
   "metadata": {
    "ExecuteTime": {
     "end_time": "2021-03-30T07:16:10.386939Z",
     "start_time": "2021-03-30T07:16:10.197243Z"
    }
   },
   "outputs": [
    {
     "data": {
      "text/html": [
       "<div>\n",
       "<style scoped>\n",
       "    .dataframe tbody tr th:only-of-type {\n",
       "        vertical-align: middle;\n",
       "    }\n",
       "\n",
       "    .dataframe tbody tr th {\n",
       "        vertical-align: top;\n",
       "    }\n",
       "\n",
       "    .dataframe thead th {\n",
       "        text-align: right;\n",
       "    }\n",
       "</style>\n",
       "<table border=\"1\" class=\"dataframe\">\n",
       "  <thead>\n",
       "    <tr style=\"text-align: right;\">\n",
       "      <th></th>\n",
       "      <th>antecedents</th>\n",
       "      <th>consequents</th>\n",
       "      <th>antecedent support</th>\n",
       "      <th>consequent support</th>\n",
       "      <th>support</th>\n",
       "      <th>confidence</th>\n",
       "      <th>lift</th>\n",
       "      <th>leverage</th>\n",
       "      <th>conviction</th>\n",
       "    </tr>\n",
       "  </thead>\n",
       "  <tbody>\n",
       "    <tr>\n",
       "      <th>1034</th>\n",
       "      <td>(GeogBks, ItalAtlas, ArtBks)</td>\n",
       "      <td>(RefBks, ItalArt)</td>\n",
       "      <td>0.0115</td>\n",
       "      <td>0.0200</td>\n",
       "      <td>0.0115</td>\n",
       "      <td>1.000000</td>\n",
       "      <td>50.000000</td>\n",
       "      <td>0.011270</td>\n",
       "      <td>inf</td>\n",
       "    </tr>\n",
       "    <tr>\n",
       "      <th>1042</th>\n",
       "      <td>(ItalCook, ItalAtlas, ArtBks)</td>\n",
       "      <td>(RefBks, ItalArt)</td>\n",
       "      <td>0.0130</td>\n",
       "      <td>0.0200</td>\n",
       "      <td>0.0125</td>\n",
       "      <td>0.961538</td>\n",
       "      <td>48.076923</td>\n",
       "      <td>0.012240</td>\n",
       "      <td>25.480000</td>\n",
       "    </tr>\n",
       "    <tr>\n",
       "      <th>1032</th>\n",
       "      <td>(RefBks, GeogBks, ItalArt)</td>\n",
       "      <td>(ItalAtlas, ArtBks)</td>\n",
       "      <td>0.0135</td>\n",
       "      <td>0.0180</td>\n",
       "      <td>0.0115</td>\n",
       "      <td>0.851852</td>\n",
       "      <td>47.325103</td>\n",
       "      <td>0.011257</td>\n",
       "      <td>6.628500</td>\n",
       "    </tr>\n",
       "    <tr>\n",
       "      <th>832</th>\n",
       "      <td>(ChildBks, ItalAtlas, ArtBks)</td>\n",
       "      <td>(RefBks, ItalArt)</td>\n",
       "      <td>0.0155</td>\n",
       "      <td>0.0200</td>\n",
       "      <td>0.0145</td>\n",
       "      <td>0.935484</td>\n",
       "      <td>46.774194</td>\n",
       "      <td>0.014190</td>\n",
       "      <td>15.190000</td>\n",
       "    </tr>\n",
       "    <tr>\n",
       "      <th>837</th>\n",
       "      <td>(RefBks, ItalArt)</td>\n",
       "      <td>(ChildBks, ItalAtlas, ArtBks)</td>\n",
       "      <td>0.0200</td>\n",
       "      <td>0.0155</td>\n",
       "      <td>0.0145</td>\n",
       "      <td>0.725000</td>\n",
       "      <td>46.774194</td>\n",
       "      <td>0.014190</td>\n",
       "      <td>3.580000</td>\n",
       "    </tr>\n",
       "    <tr>\n",
       "      <th>973</th>\n",
       "      <td>(CookBks, ItalAtlas, ArtBks)</td>\n",
       "      <td>(RefBks, ItalArt)</td>\n",
       "      <td>0.0140</td>\n",
       "      <td>0.0200</td>\n",
       "      <td>0.0130</td>\n",
       "      <td>0.928571</td>\n",
       "      <td>46.428571</td>\n",
       "      <td>0.012720</td>\n",
       "      <td>13.720000</td>\n",
       "    </tr>\n",
       "    <tr>\n",
       "      <th>494</th>\n",
       "      <td>(RefBks, ItalArt)</td>\n",
       "      <td>(ItalAtlas, ArtBks)</td>\n",
       "      <td>0.0200</td>\n",
       "      <td>0.0180</td>\n",
       "      <td>0.0165</td>\n",
       "      <td>0.825000</td>\n",
       "      <td>45.833333</td>\n",
       "      <td>0.016140</td>\n",
       "      <td>5.611429</td>\n",
       "    </tr>\n",
       "    <tr>\n",
       "      <th>496</th>\n",
       "      <td>(ItalAtlas, ArtBks)</td>\n",
       "      <td>(RefBks, ItalArt)</td>\n",
       "      <td>0.0180</td>\n",
       "      <td>0.0200</td>\n",
       "      <td>0.0165</td>\n",
       "      <td>0.916667</td>\n",
       "      <td>45.833333</td>\n",
       "      <td>0.016140</td>\n",
       "      <td>11.760000</td>\n",
       "    </tr>\n",
       "    <tr>\n",
       "      <th>830</th>\n",
       "      <td>(ChildBks, RefBks, ItalArt)</td>\n",
       "      <td>(ItalAtlas, ArtBks)</td>\n",
       "      <td>0.0180</td>\n",
       "      <td>0.0180</td>\n",
       "      <td>0.0145</td>\n",
       "      <td>0.805556</td>\n",
       "      <td>44.753086</td>\n",
       "      <td>0.014176</td>\n",
       "      <td>5.050286</td>\n",
       "    </tr>\n",
       "    <tr>\n",
       "      <th>839</th>\n",
       "      <td>(ItalAtlas, ArtBks)</td>\n",
       "      <td>(ChildBks, RefBks, ItalArt)</td>\n",
       "      <td>0.0180</td>\n",
       "      <td>0.0180</td>\n",
       "      <td>0.0145</td>\n",
       "      <td>0.805556</td>\n",
       "      <td>44.753086</td>\n",
       "      <td>0.014176</td>\n",
       "      <td>5.050286</td>\n",
       "    </tr>\n",
       "    <tr>\n",
       "      <th>971</th>\n",
       "      <td>(CookBks, RefBks, ItalArt)</td>\n",
       "      <td>(ItalAtlas, ArtBks)</td>\n",
       "      <td>0.0165</td>\n",
       "      <td>0.0180</td>\n",
       "      <td>0.0130</td>\n",
       "      <td>0.787879</td>\n",
       "      <td>43.771044</td>\n",
       "      <td>0.012703</td>\n",
       "      <td>4.629429</td>\n",
       "    </tr>\n",
       "    <tr>\n",
       "      <th>978</th>\n",
       "      <td>(ItalAtlas, ArtBks)</td>\n",
       "      <td>(CookBks, RefBks, ItalArt)</td>\n",
       "      <td>0.0180</td>\n",
       "      <td>0.0165</td>\n",
       "      <td>0.0130</td>\n",
       "      <td>0.722222</td>\n",
       "      <td>43.771044</td>\n",
       "      <td>0.012703</td>\n",
       "      <td>3.540600</td>\n",
       "    </tr>\n",
       "    <tr>\n",
       "      <th>1040</th>\n",
       "      <td>(ItalCook, RefBks, ItalArt)</td>\n",
       "      <td>(ItalAtlas, ArtBks)</td>\n",
       "      <td>0.0160</td>\n",
       "      <td>0.0180</td>\n",
       "      <td>0.0125</td>\n",
       "      <td>0.781250</td>\n",
       "      <td>43.402778</td>\n",
       "      <td>0.012212</td>\n",
       "      <td>4.489143</td>\n",
       "    </tr>\n",
       "    <tr>\n",
       "      <th>995</th>\n",
       "      <td>(CookBks, RefBks, ItalArt)</td>\n",
       "      <td>(ItalCook, ItalAtlas)</td>\n",
       "      <td>0.0165</td>\n",
       "      <td>0.0230</td>\n",
       "      <td>0.0125</td>\n",
       "      <td>0.757576</td>\n",
       "      <td>32.938076</td>\n",
       "      <td>0.012121</td>\n",
       "      <td>4.030125</td>\n",
       "    </tr>\n",
       "    <tr>\n",
       "      <th>1045</th>\n",
       "      <td>(ItalAtlas, ItalArt)</td>\n",
       "      <td>(ItalCook, RefBks, ArtBks)</td>\n",
       "      <td>0.0165</td>\n",
       "      <td>0.0235</td>\n",
       "      <td>0.0125</td>\n",
       "      <td>0.757576</td>\n",
       "      <td>32.237266</td>\n",
       "      <td>0.012112</td>\n",
       "      <td>4.028062</td>\n",
       "    </tr>\n",
       "  </tbody>\n",
       "</table>\n",
       "</div>"
      ],
      "text/plain": [
       "                        antecedents                    consequents  \\\n",
       "1034   (GeogBks, ItalAtlas, ArtBks)              (RefBks, ItalArt)   \n",
       "1042  (ItalCook, ItalAtlas, ArtBks)              (RefBks, ItalArt)   \n",
       "1032     (RefBks, GeogBks, ItalArt)            (ItalAtlas, ArtBks)   \n",
       "832   (ChildBks, ItalAtlas, ArtBks)              (RefBks, ItalArt)   \n",
       "837               (RefBks, ItalArt)  (ChildBks, ItalAtlas, ArtBks)   \n",
       "973    (CookBks, ItalAtlas, ArtBks)              (RefBks, ItalArt)   \n",
       "494               (RefBks, ItalArt)            (ItalAtlas, ArtBks)   \n",
       "496             (ItalAtlas, ArtBks)              (RefBks, ItalArt)   \n",
       "830     (ChildBks, RefBks, ItalArt)            (ItalAtlas, ArtBks)   \n",
       "839             (ItalAtlas, ArtBks)    (ChildBks, RefBks, ItalArt)   \n",
       "971      (CookBks, RefBks, ItalArt)            (ItalAtlas, ArtBks)   \n",
       "978             (ItalAtlas, ArtBks)     (CookBks, RefBks, ItalArt)   \n",
       "1040    (ItalCook, RefBks, ItalArt)            (ItalAtlas, ArtBks)   \n",
       "995      (CookBks, RefBks, ItalArt)          (ItalCook, ItalAtlas)   \n",
       "1045           (ItalAtlas, ItalArt)     (ItalCook, RefBks, ArtBks)   \n",
       "\n",
       "      antecedent support  consequent support  support  confidence       lift  \\\n",
       "1034              0.0115              0.0200   0.0115    1.000000  50.000000   \n",
       "1042              0.0130              0.0200   0.0125    0.961538  48.076923   \n",
       "1032              0.0135              0.0180   0.0115    0.851852  47.325103   \n",
       "832               0.0155              0.0200   0.0145    0.935484  46.774194   \n",
       "837               0.0200              0.0155   0.0145    0.725000  46.774194   \n",
       "973               0.0140              0.0200   0.0130    0.928571  46.428571   \n",
       "494               0.0200              0.0180   0.0165    0.825000  45.833333   \n",
       "496               0.0180              0.0200   0.0165    0.916667  45.833333   \n",
       "830               0.0180              0.0180   0.0145    0.805556  44.753086   \n",
       "839               0.0180              0.0180   0.0145    0.805556  44.753086   \n",
       "971               0.0165              0.0180   0.0130    0.787879  43.771044   \n",
       "978               0.0180              0.0165   0.0130    0.722222  43.771044   \n",
       "1040              0.0160              0.0180   0.0125    0.781250  43.402778   \n",
       "995               0.0165              0.0230   0.0125    0.757576  32.938076   \n",
       "1045              0.0165              0.0235   0.0125    0.757576  32.237266   \n",
       "\n",
       "      leverage  conviction  \n",
       "1034  0.011270         inf  \n",
       "1042  0.012240   25.480000  \n",
       "1032  0.011257    6.628500  \n",
       "832   0.014190   15.190000  \n",
       "837   0.014190    3.580000  \n",
       "973   0.012720   13.720000  \n",
       "494   0.016140    5.611429  \n",
       "496   0.016140   11.760000  \n",
       "830   0.014176    5.050286  \n",
       "839   0.014176    5.050286  \n",
       "971   0.012703    4.629429  \n",
       "978   0.012703    3.540600  \n",
       "1040  0.012212    4.489143  \n",
       "995   0.012121    4.030125  \n",
       "1045  0.012112    4.028062  "
      ]
     },
     "execution_count": 15,
     "metadata": {},
     "output_type": "execute_result"
    }
   ],
   "source": [
    "books_rule2 = association_rules(books_freq2, metric=\"confidence\",min_threshold=0.7 )\n",
    "books_rule2.sort_values(\"lift\", ascending= False).head(15)"
   ]
  },
  {
   "cell_type": "markdown",
   "metadata": {},
   "source": [
    "##  Inference "
   ]
  },
  {
   "cell_type": "markdown",
   "metadata": {},
   "source": [
    "###  The first rule states that (GeogBks, ItalAtlas, ArtBks) and (RefBks, ItalArt) are read frequently. The support for  (GeogBks, ItalAtlas, ArtBks)  is 0.115. The confidence for this rule is 1.0 which means that out of all the books containing  (GeogBks, ItalAtlas, ArtBks) , 26.33% of the books are likely to contain(RefBks, ItalArt) as well. Finally, lift of 2.32 shows that the (RefBks, ItalArt) are 2.32 more likely to be read by the readers who has  (GeogBks, ItalAtlas, ArtBks)"
   ]
  },
  {
   "cell_type": "markdown",
   "metadata": {},
   "source": [
    "##  Visualization "
   ]
  },
  {
   "cell_type": "markdown",
   "metadata": {},
   "source": [
    "###  support vs confidence "
   ]
  },
  {
   "cell_type": "code",
   "execution_count": 16,
   "metadata": {
    "ExecuteTime": {
     "end_time": "2021-03-30T07:16:11.648343Z",
     "start_time": "2021-03-30T07:16:10.621906Z"
    }
   },
   "outputs": [
    {
     "data": {
      "text/plain": [
       "Text(0.5, 1.0, 'confidence vs support')"
      ]
     },
     "execution_count": 16,
     "metadata": {},
     "output_type": "execute_result"
    },
    {
     "data": {
      "image/png": "[encoded data removed]",
      "text/plain": [
       "<Figure size 432x288 with 1 Axes>"
      ]
     },
     "metadata": {
      "needs_background": "light"
     },
     "output_type": "display_data"
    }
   ],
   "source": [
    "plt.scatter(y= books_rule.support, x=books_rule.confidence,c=\"purple\" )\n",
    "plt.ylabel(\"support\")\n",
    "plt.xlabel(\"confidence\")\n",
    "plt.title(\"confidence vs support\")"
   ]
  },
  {
   "cell_type": "markdown",
   "metadata": {},
   "source": [
    "###  confidence vs lift "
   ]
  },
  {
   "cell_type": "code",
   "execution_count": 17,
   "metadata": {
    "ExecuteTime": {
     "end_time": "2021-03-30T07:16:12.860189Z",
     "start_time": "2021-03-30T07:16:11.952077Z"
    }
   },
   "outputs": [
    {
     "data": {
      "text/plain": [
       "Text(0.5, 1.0, 'confidence vs lift')"
      ]
     },
     "execution_count": 17,
     "metadata": {},
     "output_type": "execute_result"
    },
    {
     "data": {
      "image/png": "[encoded data removed]",
      "text/plain": [
       "<Figure size 432x288 with 1 Axes>"
      ]
     },
     "metadata": {
      "needs_background": "light"
     },
     "output_type": "display_data"
    }
   ],
   "source": [
    "plt.scatter(x= books_rule.confidence , y=books_rule.lift,c=\"green\" )\n",
    "plt.xlabel(\"confidence\")\n",
    "plt.ylabel(\"lift\")\n",
    "plt.title(\"confidence vs lift\")"
   ]
  },
  {
   "cell_type": "markdown",
   "metadata": {},
   "source": [
    "###  support vs lift"
   ]
  },
  {
   "cell_type": "code",
   "execution_count": 18,
   "metadata": {
    "ExecuteTime": {
     "end_time": "2021-03-30T07:16:14.098176Z",
     "start_time": "2021-03-30T07:16:13.163192Z"
    }
   },
   "outputs": [
    {
     "data": {
      "text/plain": [
       "Text(0.5, 1.0, 'support vs lift')"
      ]
     },
     "execution_count": 18,
     "metadata": {},
     "output_type": "execute_result"
    },
    {
     "data": {
      "image/png": "[encoded data removed]",
      "text/plain": [
       "<Figure size 432x288 with 1 Axes>"
      ]
     },
     "metadata": {
      "needs_background": "light"
     },
     "output_type": "display_data"
    }
   ],
   "source": [
    "plt.scatter(x= books_rule.support, y=books_rule.lift,c=\"red\" )\n",
    "plt.xlabel(\"support\")\n",
    "plt.ylabel(\"lift\")\n",
    "plt.title(\"support vs lift\")"
   ]
  },
  {
   "cell_type": "markdown",
   "metadata": {},
   "source": [
    "###  support vs lift vs confidence "
   ]
  },
  {
   "cell_type": "code",
   "execution_count": 20,
   "metadata": {
    "ExecuteTime": {
     "end_time": "2021-03-30T07:16:18.515501Z",
     "start_time": "2021-03-30T07:16:16.194817Z"
    }
   },
   "outputs": [
    {
     "data": {
      "text/plain": [
       "Text(0.5, 1.0, 'support vs lift vs confidence')"
      ]
     },
     "execution_count": 20,
     "metadata": {},
     "output_type": "execute_result"
    },
    {
     "data": {
      "image/png": "[encoded data removed]",
      "text/plain": [
       "<Figure size 432x288 with 2 Axes>"
      ]
     },
     "metadata": {
      "needs_background": "light"
     },
     "output_type": "display_data"
    }
   ],
   "source": [
    "books_rule2.plot(x=\"support\",y =\"lift\",c=\"confidence\",kind=\"scatter\",s=70 ,cmap=\"rainbow\") \n",
    "plt.title('support vs lift vs confidence')"
   ]
  }
 ],
 "metadata": {
  "kernelspec": {
   "display_name": "Python 3",
   "language": "python",
   "name": "python3"
  },
  "language_info": {
   "codemirror_mode": {
    "name": "ipython",
    "version": 3
   },
   "file_extension": ".py",
   "mimetype": "text/x-python",
   "name": "python",
   "nbconvert_exporter": "python",
   "pygments_lexer": "ipython3",
   "version": "3.8.5"
  },
  "varInspector": {
   "cols": {
    "lenName": 16,
    "lenType": 16,
    "lenVar": 40
   },
   "kernels_config": {
    "python": {
     "delete_cmd_postfix": "",
     "delete_cmd_prefix": "del ",
     "library": "var_list.py",
     "varRefreshCmd": "print(var_dic_list())"
    },
    "r": {
     "delete_cmd_postfix": ") ",
     "delete_cmd_prefix": "rm(",
     "library": "var_list.r",
     "varRefreshCmd": "cat(var_dic_list()) "
    }
   },
   "types_to_exclude": [
    "module",
    "function",
    "builtin_function_or_method",
    "instance",
    "_Feature"
   ],
   "window_display": false
  }
 },
 "nbformat": 4,
 "nbformat_minor": 4
}
