{
 "cells": [
  {
   "cell_type": "markdown",
   "metadata": {},
   "source": [
    "# Question 1"
   ]
  },
  {
   "cell_type": "code",
   "execution_count": 1,
   "metadata": {
    "ExecuteTime": {
     "end_time": "2021-03-28T13:04:13.658486Z",
     "start_time": "2021-03-28T13:03:51.145228Z"
    }
   },
   "outputs": [],
   "source": [
    "import pandas as pd\n",
    "import numpy as np\n",
    "import seaborn as sns\n",
    "import matplotlib.pyplot as plt\n",
    "import statsmodels.formula.api as slg"
   ]
  },
  {
   "cell_type": "code",
   "execution_count": 2,
   "metadata": {
    "ExecuteTime": {
     "end_time": "2021-03-28T13:04:13.794478Z",
     "start_time": "2021-03-28T13:04:13.698471Z"
    }
   },
   "outputs": [
    {
     "data": {
      "text/html": [
       "<div>\n",
       "<style scoped>\n",
       "    .dataframe tbody tr th:only-of-type {\n",
       "        vertical-align: middle;\n",
       "    }\n",
       "\n",
       "    .dataframe tbody tr th {\n",
       "        vertical-align: top;\n",
       "    }\n",
       "\n",
       "    .dataframe thead th {\n",
       "        text-align: right;\n",
       "    }\n",
       "</style>\n",
       "<table border=\"1\" class=\"dataframe\">\n",
       "  <thead>\n",
       "    <tr style=\"text-align: right;\">\n",
       "      <th></th>\n",
       "      <th>Delivery Time</th>\n",
       "      <th>Sorting Time</th>\n",
       "    </tr>\n",
       "  </thead>\n",
       "  <tbody>\n",
       "    <tr>\n",
       "      <th>0</th>\n",
       "      <td>21.00</td>\n",
       "      <td>10</td>\n",
       "    </tr>\n",
       "    <tr>\n",
       "      <th>1</th>\n",
       "      <td>13.50</td>\n",
       "      <td>4</td>\n",
       "    </tr>\n",
       "    <tr>\n",
       "      <th>2</th>\n",
       "      <td>19.75</td>\n",
       "      <td>6</td>\n",
       "    </tr>\n",
       "    <tr>\n",
       "      <th>3</th>\n",
       "      <td>24.00</td>\n",
       "      <td>9</td>\n",
       "    </tr>\n",
       "    <tr>\n",
       "      <th>4</th>\n",
       "      <td>29.00</td>\n",
       "      <td>10</td>\n",
       "    </tr>\n",
       "    <tr>\n",
       "      <th>5</th>\n",
       "      <td>15.35</td>\n",
       "      <td>6</td>\n",
       "    </tr>\n",
       "    <tr>\n",
       "      <th>6</th>\n",
       "      <td>19.00</td>\n",
       "      <td>7</td>\n",
       "    </tr>\n",
       "    <tr>\n",
       "      <th>7</th>\n",
       "      <td>9.50</td>\n",
       "      <td>3</td>\n",
       "    </tr>\n",
       "    <tr>\n",
       "      <th>8</th>\n",
       "      <td>17.90</td>\n",
       "      <td>10</td>\n",
       "    </tr>\n",
       "    <tr>\n",
       "      <th>9</th>\n",
       "      <td>18.75</td>\n",
       "      <td>9</td>\n",
       "    </tr>\n",
       "    <tr>\n",
       "      <th>10</th>\n",
       "      <td>19.83</td>\n",
       "      <td>8</td>\n",
       "    </tr>\n",
       "    <tr>\n",
       "      <th>11</th>\n",
       "      <td>10.75</td>\n",
       "      <td>4</td>\n",
       "    </tr>\n",
       "    <tr>\n",
       "      <th>12</th>\n",
       "      <td>16.68</td>\n",
       "      <td>7</td>\n",
       "    </tr>\n",
       "    <tr>\n",
       "      <th>13</th>\n",
       "      <td>11.50</td>\n",
       "      <td>3</td>\n",
       "    </tr>\n",
       "    <tr>\n",
       "      <th>14</th>\n",
       "      <td>12.03</td>\n",
       "      <td>3</td>\n",
       "    </tr>\n",
       "    <tr>\n",
       "      <th>15</th>\n",
       "      <td>14.88</td>\n",
       "      <td>4</td>\n",
       "    </tr>\n",
       "    <tr>\n",
       "      <th>16</th>\n",
       "      <td>13.75</td>\n",
       "      <td>6</td>\n",
       "    </tr>\n",
       "    <tr>\n",
       "      <th>17</th>\n",
       "      <td>18.11</td>\n",
       "      <td>7</td>\n",
       "    </tr>\n",
       "    <tr>\n",
       "      <th>18</th>\n",
       "      <td>8.00</td>\n",
       "      <td>2</td>\n",
       "    </tr>\n",
       "    <tr>\n",
       "      <th>19</th>\n",
       "      <td>17.83</td>\n",
       "      <td>7</td>\n",
       "    </tr>\n",
       "    <tr>\n",
       "      <th>20</th>\n",
       "      <td>21.50</td>\n",
       "      <td>5</td>\n",
       "    </tr>\n",
       "  </tbody>\n",
       "</table>\n",
       "</div>"
      ],
      "text/plain": [
       "    Delivery Time  Sorting Time\n",
       "0           21.00            10\n",
       "1           13.50             4\n",
       "2           19.75             6\n",
       "3           24.00             9\n",
       "4           29.00            10\n",
       "5           15.35             6\n",
       "6           19.00             7\n",
       "7            9.50             3\n",
       "8           17.90            10\n",
       "9           18.75             9\n",
       "10          19.83             8\n",
       "11          10.75             4\n",
       "12          16.68             7\n",
       "13          11.50             3\n",
       "14          12.03             3\n",
       "15          14.88             4\n",
       "16          13.75             6\n",
       "17          18.11             7\n",
       "18           8.00             2\n",
       "19          17.83             7\n",
       "20          21.50             5"
      ]
     },
     "execution_count": 2,
     "metadata": {},
     "output_type": "execute_result"
    }
   ],
   "source": [
    "data_time = pd.read_csv(\"delivery_time.csv\")\n",
    "data_time"
   ]
  },
  {
   "cell_type": "code",
   "execution_count": 3,
   "metadata": {
    "ExecuteTime": {
     "end_time": "2021-03-28T13:04:13.962485Z",
     "start_time": "2021-03-28T13:04:13.850482Z"
    }
   },
   "outputs": [
    {
     "data": {
      "text/html": [
       "<div>\n",
       "<style scoped>\n",
       "    .dataframe tbody tr th:only-of-type {\n",
       "        vertical-align: middle;\n",
       "    }\n",
       "\n",
       "    .dataframe tbody tr th {\n",
       "        vertical-align: top;\n",
       "    }\n",
       "\n",
       "    .dataframe thead th {\n",
       "        text-align: right;\n",
       "    }\n",
       "</style>\n",
       "<table border=\"1\" class=\"dataframe\">\n",
       "  <thead>\n",
       "    <tr style=\"text-align: right;\">\n",
       "      <th></th>\n",
       "      <th>Delivery_Time</th>\n",
       "      <th>Sorting_Time</th>\n",
       "    </tr>\n",
       "  </thead>\n",
       "  <tbody>\n",
       "    <tr>\n",
       "      <th>0</th>\n",
       "      <td>21.00</td>\n",
       "      <td>10</td>\n",
       "    </tr>\n",
       "    <tr>\n",
       "      <th>1</th>\n",
       "      <td>13.50</td>\n",
       "      <td>4</td>\n",
       "    </tr>\n",
       "    <tr>\n",
       "      <th>2</th>\n",
       "      <td>19.75</td>\n",
       "      <td>6</td>\n",
       "    </tr>\n",
       "    <tr>\n",
       "      <th>3</th>\n",
       "      <td>24.00</td>\n",
       "      <td>9</td>\n",
       "    </tr>\n",
       "    <tr>\n",
       "      <th>4</th>\n",
       "      <td>29.00</td>\n",
       "      <td>10</td>\n",
       "    </tr>\n",
       "    <tr>\n",
       "      <th>5</th>\n",
       "      <td>15.35</td>\n",
       "      <td>6</td>\n",
       "    </tr>\n",
       "    <tr>\n",
       "      <th>6</th>\n",
       "      <td>19.00</td>\n",
       "      <td>7</td>\n",
       "    </tr>\n",
       "    <tr>\n",
       "      <th>7</th>\n",
       "      <td>9.50</td>\n",
       "      <td>3</td>\n",
       "    </tr>\n",
       "    <tr>\n",
       "      <th>8</th>\n",
       "      <td>17.90</td>\n",
       "      <td>10</td>\n",
       "    </tr>\n",
       "    <tr>\n",
       "      <th>9</th>\n",
       "      <td>18.75</td>\n",
       "      <td>9</td>\n",
       "    </tr>\n",
       "    <tr>\n",
       "      <th>10</th>\n",
       "      <td>19.83</td>\n",
       "      <td>8</td>\n",
       "    </tr>\n",
       "    <tr>\n",
       "      <th>11</th>\n",
       "      <td>10.75</td>\n",
       "      <td>4</td>\n",
       "    </tr>\n",
       "    <tr>\n",
       "      <th>12</th>\n",
       "      <td>16.68</td>\n",
       "      <td>7</td>\n",
       "    </tr>\n",
       "    <tr>\n",
       "      <th>13</th>\n",
       "      <td>11.50</td>\n",
       "      <td>3</td>\n",
       "    </tr>\n",
       "    <tr>\n",
       "      <th>14</th>\n",
       "      <td>12.03</td>\n",
       "      <td>3</td>\n",
       "    </tr>\n",
       "    <tr>\n",
       "      <th>15</th>\n",
       "      <td>14.88</td>\n",
       "      <td>4</td>\n",
       "    </tr>\n",
       "    <tr>\n",
       "      <th>16</th>\n",
       "      <td>13.75</td>\n",
       "      <td>6</td>\n",
       "    </tr>\n",
       "    <tr>\n",
       "      <th>17</th>\n",
       "      <td>18.11</td>\n",
       "      <td>7</td>\n",
       "    </tr>\n",
       "    <tr>\n",
       "      <th>18</th>\n",
       "      <td>8.00</td>\n",
       "      <td>2</td>\n",
       "    </tr>\n",
       "    <tr>\n",
       "      <th>19</th>\n",
       "      <td>17.83</td>\n",
       "      <td>7</td>\n",
       "    </tr>\n",
       "    <tr>\n",
       "      <th>20</th>\n",
       "      <td>21.50</td>\n",
       "      <td>5</td>\n",
       "    </tr>\n",
       "  </tbody>\n",
       "</table>\n",
       "</div>"
      ],
      "text/plain": [
       "    Delivery_Time  Sorting_Time\n",
       "0           21.00            10\n",
       "1           13.50             4\n",
       "2           19.75             6\n",
       "3           24.00             9\n",
       "4           29.00            10\n",
       "5           15.35             6\n",
       "6           19.00             7\n",
       "7            9.50             3\n",
       "8           17.90            10\n",
       "9           18.75             9\n",
       "10          19.83             8\n",
       "11          10.75             4\n",
       "12          16.68             7\n",
       "13          11.50             3\n",
       "14          12.03             3\n",
       "15          14.88             4\n",
       "16          13.75             6\n",
       "17          18.11             7\n",
       "18           8.00             2\n",
       "19          17.83             7\n",
       "20          21.50             5"
      ]
     },
     "execution_count": 3,
     "metadata": {},
     "output_type": "execute_result"
    }
   ],
   "source": [
    "data_time.columns = [\"Delivery_Time\",\"Sorting_Time\"]\n",
    "data_time"
   ]
  },
  {
   "cell_type": "code",
   "execution_count": 4,
   "metadata": {
    "ExecuteTime": {
     "end_time": "2021-03-28T13:04:14.194492Z",
     "start_time": "2021-03-28T13:04:14.018485Z"
    }
   },
   "outputs": [
    {
     "data": {
      "text/html": [
       "<div>\n",
       "<style scoped>\n",
       "    .dataframe tbody tr th:only-of-type {\n",
       "        vertical-align: middle;\n",
       "    }\n",
       "\n",
       "    .dataframe tbody tr th {\n",
       "        vertical-align: top;\n",
       "    }\n",
       "\n",
       "    .dataframe thead th {\n",
       "        text-align: right;\n",
       "    }\n",
       "</style>\n",
       "<table border=\"1\" class=\"dataframe\">\n",
       "  <thead>\n",
       "    <tr style=\"text-align: right;\">\n",
       "      <th></th>\n",
       "      <th>Delivery_Time</th>\n",
       "      <th>Sorting_Time</th>\n",
       "    </tr>\n",
       "  </thead>\n",
       "  <tbody>\n",
       "    <tr>\n",
       "      <th>count</th>\n",
       "      <td>21.000000</td>\n",
       "      <td>21.000000</td>\n",
       "    </tr>\n",
       "    <tr>\n",
       "      <th>mean</th>\n",
       "      <td>16.790952</td>\n",
       "      <td>6.190476</td>\n",
       "    </tr>\n",
       "    <tr>\n",
       "      <th>std</th>\n",
       "      <td>5.074901</td>\n",
       "      <td>2.542028</td>\n",
       "    </tr>\n",
       "    <tr>\n",
       "      <th>min</th>\n",
       "      <td>8.000000</td>\n",
       "      <td>2.000000</td>\n",
       "    </tr>\n",
       "    <tr>\n",
       "      <th>25%</th>\n",
       "      <td>13.500000</td>\n",
       "      <td>4.000000</td>\n",
       "    </tr>\n",
       "    <tr>\n",
       "      <th>50%</th>\n",
       "      <td>17.830000</td>\n",
       "      <td>6.000000</td>\n",
       "    </tr>\n",
       "    <tr>\n",
       "      <th>75%</th>\n",
       "      <td>19.750000</td>\n",
       "      <td>8.000000</td>\n",
       "    </tr>\n",
       "    <tr>\n",
       "      <th>max</th>\n",
       "      <td>29.000000</td>\n",
       "      <td>10.000000</td>\n",
       "    </tr>\n",
       "  </tbody>\n",
       "</table>\n",
       "</div>"
      ],
      "text/plain": [
       "       Delivery_Time  Sorting_Time\n",
       "count      21.000000     21.000000\n",
       "mean       16.790952      6.190476\n",
       "std         5.074901      2.542028\n",
       "min         8.000000      2.000000\n",
       "25%        13.500000      4.000000\n",
       "50%        17.830000      6.000000\n",
       "75%        19.750000      8.000000\n",
       "max        29.000000     10.000000"
      ]
     },
     "execution_count": 4,
     "metadata": {},
     "output_type": "execute_result"
    }
   ],
   "source": [
    "data_time.describe()"
   ]
  },
  {
   "cell_type": "code",
   "execution_count": 5,
   "metadata": {
    "ExecuteTime": {
     "end_time": "2021-03-28T13:04:14.290487Z",
     "start_time": "2021-03-28T13:04:14.242484Z"
    }
   },
   "outputs": [
    {
     "name": "stdout",
     "output_type": "stream",
     "text": [
      "<class 'pandas.core.frame.DataFrame'>\n",
      "RangeIndex: 21 entries, 0 to 20\n",
      "Data columns (total 2 columns):\n",
      " #   Column         Non-Null Count  Dtype  \n",
      "---  ------         --------------  -----  \n",
      " 0   Delivery_Time  21 non-null     float64\n",
      " 1   Sorting_Time   21 non-null     int64  \n",
      "dtypes: float64(1), int64(1)\n",
      "memory usage: 464.0 bytes\n"
     ]
    }
   ],
   "source": [
    "data_time.info()"
   ]
  },
  {
   "cell_type": "markdown",
   "metadata": {},
   "source": [
    "##   Different exploratory plots "
   ]
  },
  {
   "cell_type": "code",
   "execution_count": 6,
   "metadata": {
    "ExecuteTime": {
     "end_time": "2021-03-28T13:04:53.859214Z",
     "start_time": "2021-03-28T13:04:51.957773Z"
    }
   },
   "outputs": [
    {
     "name": "stderr",
     "output_type": "stream",
     "text": [
      "E:\\ProgramData\\anaconda3\\lib\\site-packages\\seaborn\\distributions.py:2551: FutureWarning: `distplot` is a deprecated function and will be removed in a future version. Please adapt your code to use either `displot` (a figure-level function with similar flexibility) or `histplot` (an axes-level function for histograms).\n",
      "  warnings.warn(msg, FutureWarning)\n"
     ]
    },
    {
     "data": {
      "text/plain": [
       "<AxesSubplot:xlabel='Delivery_Time', ylabel='Density'>"
      ]
     },
     "execution_count": 6,
     "metadata": {},
     "output_type": "execute_result"
    },
    {
     "data": {
      "image/png": "[encoded data removed]",
      "text/plain": [
       "<Figure size 432x288 with 1 Axes>"
      ]
     },
     "metadata": {
      "needs_background": "light"
     },
     "output_type": "display_data"
    }
   ],
   "source": [
    "sns.distplot(data_time[\"Delivery_Time\"], color=\"green\")"
   ]
  },
  {
   "cell_type": "code",
   "execution_count": 7,
   "metadata": {
    "ExecuteTime": {
     "end_time": "2021-03-28T13:04:59.309292Z",
     "start_time": "2021-03-28T13:04:58.306375Z"
    }
   },
   "outputs": [
    {
     "name": "stderr",
     "output_type": "stream",
     "text": [
      "E:\\ProgramData\\anaconda3\\lib\\site-packages\\seaborn\\distributions.py:2551: FutureWarning: `distplot` is a deprecated function and will be removed in a future version. Please adapt your code to use either `displot` (a figure-level function with similar flexibility) or `histplot` (an axes-level function for histograms).\n",
      "  warnings.warn(msg, FutureWarning)\n"
     ]
    },
    {
     "data": {
      "text/plain": [
       "<AxesSubplot:xlabel='Sorting_Time', ylabel='Density'>"
      ]
     },
     "execution_count": 7,
     "metadata": {},
     "output_type": "execute_result"
    },
    {
     "data": {
      "image/png": "[encoded data removed]",
      "text/plain": [
       "<Figure size 432x288 with 1 Axes>"
      ]
     },
     "metadata": {
      "needs_background": "light"
     },
     "output_type": "display_data"
    }
   ],
   "source": [
    "sns.distplot(data_time[\"Sorting_Time\"],color=\"blue\")"
   ]
  },
  {
   "cell_type": "code",
   "execution_count": 9,
   "metadata": {
    "ExecuteTime": {
     "end_time": "2021-03-28T13:05:38.045784Z",
     "start_time": "2021-03-28T13:05:37.415637Z"
    }
   },
   "outputs": [
    {
     "data": {
      "text/plain": [
       "{'whiskers': [<matplotlib.lines.Line2D at 0xa70eb19cd0>,\n",
       "  <matplotlib.lines.Line2D at 0xa70eb19910>,\n",
       "  <matplotlib.lines.Line2D at 0xa70eaf49a0>,\n",
       "  <matplotlib.lines.Line2D at 0xa70eaf4fd0>],\n",
       " 'caps': [<matplotlib.lines.Line2D at 0xa70eb19040>,\n",
       "  <matplotlib.lines.Line2D at 0xa70eb09040>,\n",
       "  <matplotlib.lines.Line2D at 0xa70eaf4250>,\n",
       "  <matplotlib.lines.Line2D at 0xa70eaf6ac0>],\n",
       " 'boxes': [<matplotlib.lines.Line2D at 0xa70eb19be0>,\n",
       "  <matplotlib.lines.Line2D at 0xa70eb090d0>],\n",
       " 'medians': [<matplotlib.lines.Line2D at 0xa70eb09e20>,\n",
       "  <matplotlib.lines.Line2D at 0xa70eead400>],\n",
       " 'fliers': [<matplotlib.lines.Line2D at 0xa70eb09a30>,\n",
       "  <matplotlib.lines.Line2D at 0xa70ee83430>],\n",
       " 'means': []}"
      ]
     },
     "execution_count": 9,
     "metadata": {},
     "output_type": "execute_result"
    },
    {
     "data": {
      "image/png": "[encoded data removed]",
      "text/plain": [
       "<Figure size 432x288 with 1 Axes>"
      ]
     },
     "metadata": {
      "needs_background": "light"
     },
     "output_type": "display_data"
    }
   ],
   "source": [
    "plt.boxplot(data_time)"
   ]
  },
  {
   "cell_type": "code",
   "execution_count": 10,
   "metadata": {
    "ExecuteTime": {
     "end_time": "2021-03-28T13:05:47.738228Z",
     "start_time": "2021-03-28T13:05:46.941512Z"
    }
   },
   "outputs": [
    {
     "data": {
      "text/plain": [
       "Text(0, 0.5, 'Delivery Time')"
      ]
     },
     "execution_count": 10,
     "metadata": {},
     "output_type": "execute_result"
    },
    {
     "data": {
      "image/png": "[encoded data removed]",
      "text/plain": [
       "<Figure size 432x288 with 1 Axes>"
      ]
     },
     "metadata": {
      "needs_background": "light"
     },
     "output_type": "display_data"
    }
   ],
   "source": [
    "plt.plot(data_time.Delivery_Time,data_time.Sorting_Time,\"bo\")\n",
    "plt.xlabel(\"Sorting Time\")\n",
    "plt.ylabel(\"Delivery Time\")"
   ]
  },
  {
   "cell_type": "code",
   "execution_count": 11,
   "metadata": {
    "ExecuteTime": {
     "end_time": "2021-03-28T13:06:08.721239Z",
     "start_time": "2021-03-28T13:06:04.636909Z"
    }
   },
   "outputs": [
    {
     "data": {
      "text/plain": [
       "<seaborn.axisgrid.PairGrid at 0xa70eb8b6a0>"
      ]
     },
     "execution_count": 11,
     "metadata": {},
     "output_type": "execute_result"
    },
    {
     "data": {
      "image/png": "[encoded data removed]",
      "text/plain": [
       "<Figure size 360x360 with 6 Axes>"
      ]
     },
     "metadata": {
      "needs_background": "light"
     },
     "output_type": "display_data"
    }
   ],
   "source": [
    "sns.pairplot(data_time)"
   ]
  },
  {
   "cell_type": "markdown",
   "metadata": {},
   "source": [
    "###   Correlation coefficient value for delivery time and sorting time "
   ]
  },
  {
   "cell_type": "code",
   "execution_count": 12,
   "metadata": {
    "ExecuteTime": {
     "end_time": "2021-03-28T13:06:17.069618Z",
     "start_time": "2021-03-28T13:06:17.029609Z"
    }
   },
   "outputs": [
    {
     "data": {
      "text/html": [
       "<div>\n",
       "<style scoped>\n",
       "    .dataframe tbody tr th:only-of-type {\n",
       "        vertical-align: middle;\n",
       "    }\n",
       "\n",
       "    .dataframe tbody tr th {\n",
       "        vertical-align: top;\n",
       "    }\n",
       "\n",
       "    .dataframe thead th {\n",
       "        text-align: right;\n",
       "    }\n",
       "</style>\n",
       "<table border=\"1\" class=\"dataframe\">\n",
       "  <thead>\n",
       "    <tr style=\"text-align: right;\">\n",
       "      <th></th>\n",
       "      <th>Delivery_Time</th>\n",
       "      <th>Sorting_Time</th>\n",
       "    </tr>\n",
       "  </thead>\n",
       "  <tbody>\n",
       "    <tr>\n",
       "      <th>Delivery_Time</th>\n",
       "      <td>1.000000</td>\n",
       "      <td>0.825997</td>\n",
       "    </tr>\n",
       "    <tr>\n",
       "      <th>Sorting_Time</th>\n",
       "      <td>0.825997</td>\n",
       "      <td>1.000000</td>\n",
       "    </tr>\n",
       "  </tbody>\n",
       "</table>\n",
       "</div>"
      ],
      "text/plain": [
       "               Delivery_Time  Sorting_Time\n",
       "Delivery_Time       1.000000      0.825997\n",
       "Sorting_Time        0.825997      1.000000"
      ]
     },
     "execution_count": 12,
     "metadata": {},
     "output_type": "execute_result"
    }
   ],
   "source": [
    "data_time.corr()"
   ]
  },
  {
   "cell_type": "markdown",
   "metadata": {},
   "source": [
    "## Simple linear regression model "
   ]
  },
  {
   "cell_type": "code",
   "execution_count": 13,
   "metadata": {
    "ExecuteTime": {
     "end_time": "2021-03-28T13:06:34.216281Z",
     "start_time": "2021-03-28T13:06:33.344030Z"
    }
   },
   "outputs": [],
   "source": [
    "model_1 = slg.ols(\"Delivery_Time~Sorting_Time\",data=data_time).fit()"
   ]
  },
  {
   "cell_type": "code",
   "execution_count": 14,
   "metadata": {
    "ExecuteTime": {
     "end_time": "2021-03-28T13:06:36.606543Z",
     "start_time": "2021-03-28T13:06:35.061843Z"
    }
   },
   "outputs": [
    {
     "data": {
      "text/plain": [
       "<AxesSubplot:xlabel='Sorting_Time', ylabel='Delivery_Time'>"
      ]
     },
     "execution_count": 14,
     "metadata": {},
     "output_type": "execute_result"
    },
    {
     "data": {
      "image/png": "[encoded data removed]",
      "text/plain": [
       "<Figure size 432x288 with 1 Axes>"
      ]
     },
     "metadata": {
      "needs_background": "light"
     },
     "output_type": "display_data"
    }
   ],
   "source": [
    "sns.regplot(x=\"Sorting_Time\", y=\"Delivery_Time\", data=data_time)"
   ]
  },
  {
   "cell_type": "code",
   "execution_count": 15,
   "metadata": {
    "ExecuteTime": {
     "end_time": "2021-03-28T13:06:43.405534Z",
     "start_time": "2021-03-28T13:06:42.947395Z"
    }
   },
   "outputs": [
    {
     "data": {
      "text/html": [
       "<table class=\"simpletable\">\n",
       "<caption>OLS Regression Results</caption>\n",
       "<tr>\n",
       "  <th>Dep. Variable:</th>      <td>Delivery_Time</td>  <th>  R-squared:         </th> <td>   0.682</td>\n",
       "</tr>\n",
       "<tr>\n",
       "  <th>Model:</th>                   <td>OLS</td>       <th>  Adj. R-squared:    </th> <td>   0.666</td>\n",
       "</tr>\n",
       "<tr>\n",
       "  <th>Method:</th>             <td>Least Squares</td>  <th>  F-statistic:       </th> <td>   40.80</td>\n",
       "</tr>\n",
       "<tr>\n",
       "  <th>Date:</th>             <td>Sun, 28 Mar 2021</td> <th>  Prob (F-statistic):</th> <td>3.98e-06</td>\n",
       "</tr>\n",
       "<tr>\n",
       "  <th>Time:</th>                 <td>18:36:43</td>     <th>  Log-Likelihood:    </th> <td> -51.357</td>\n",
       "</tr>\n",
       "<tr>\n",
       "  <th>No. Observations:</th>      <td>    21</td>      <th>  AIC:               </th> <td>   106.7</td>\n",
       "</tr>\n",
       "<tr>\n",
       "  <th>Df Residuals:</th>          <td>    19</td>      <th>  BIC:               </th> <td>   108.8</td>\n",
       "</tr>\n",
       "<tr>\n",
       "  <th>Df Model:</th>              <td>     1</td>      <th>                     </th>     <td> </td>   \n",
       "</tr>\n",
       "<tr>\n",
       "  <th>Covariance Type:</th>      <td>nonrobust</td>    <th>                     </th>     <td> </td>   \n",
       "</tr>\n",
       "</table>\n",
       "<table class=\"simpletable\">\n",
       "<tr>\n",
       "        <td></td>          <th>coef</th>     <th>std err</th>      <th>t</th>      <th>P>|t|</th>  <th>[0.025</th>    <th>0.975]</th>  \n",
       "</tr>\n",
       "<tr>\n",
       "  <th>Intercept</th>    <td>    6.5827</td> <td>    1.722</td> <td>    3.823</td> <td> 0.001</td> <td>    2.979</td> <td>   10.186</td>\n",
       "</tr>\n",
       "<tr>\n",
       "  <th>Sorting_Time</th> <td>    1.6490</td> <td>    0.258</td> <td>    6.387</td> <td> 0.000</td> <td>    1.109</td> <td>    2.189</td>\n",
       "</tr>\n",
       "</table>\n",
       "<table class=\"simpletable\">\n",
       "<tr>\n",
       "  <th>Omnibus:</th>       <td> 3.649</td> <th>  Durbin-Watson:     </th> <td>   1.248</td>\n",
       "</tr>\n",
       "<tr>\n",
       "  <th>Prob(Omnibus):</th> <td> 0.161</td> <th>  Jarque-Bera (JB):  </th> <td>   2.086</td>\n",
       "</tr>\n",
       "<tr>\n",
       "  <th>Skew:</th>          <td> 0.750</td> <th>  Prob(JB):          </th> <td>   0.352</td>\n",
       "</tr>\n",
       "<tr>\n",
       "  <th>Kurtosis:</th>      <td> 3.367</td> <th>  Cond. No.          </th> <td>    18.3</td>\n",
       "</tr>\n",
       "</table><br/><br/>Notes:<br/>[1] Standard Errors assume that the covariance matrix of the errors is correctly specified."
      ],
      "text/plain": [
       "<class 'statsmodels.iolib.summary.Summary'>\n",
       "\"\"\"\n",
       "                            OLS Regression Results                            \n",
       "==============================================================================\n",
       "Dep. Variable:          Delivery_Time   R-squared:                       0.682\n",
       "Model:                            OLS   Adj. R-squared:                  0.666\n",
       "Method:                 Least Squares   F-statistic:                     40.80\n",
       "Date:                Sun, 28 Mar 2021   Prob (F-statistic):           3.98e-06\n",
       "Time:                        18:36:43   Log-Likelihood:                -51.357\n",
       "No. Observations:                  21   AIC:                             106.7\n",
       "Df Residuals:                      19   BIC:                             108.8\n",
       "Df Model:                           1                                         \n",
       "Covariance Type:            nonrobust                                         \n",
       "================================================================================\n",
       "                   coef    std err          t      P>|t|      [0.025      0.975]\n",
       "--------------------------------------------------------------------------------\n",
       "Intercept        6.5827      1.722      3.823      0.001       2.979      10.186\n",
       "Sorting_Time     1.6490      0.258      6.387      0.000       1.109       2.189\n",
       "==============================================================================\n",
       "Omnibus:                        3.649   Durbin-Watson:                   1.248\n",
       "Prob(Omnibus):                  0.161   Jarque-Bera (JB):                2.086\n",
       "Skew:                           0.750   Prob(JB):                        0.352\n",
       "Kurtosis:                       3.367   Cond. No.                         18.3\n",
       "==============================================================================\n",
       "\n",
       "Notes:\n",
       "[1] Standard Errors assume that the covariance matrix of the errors is correctly specified.\n",
       "\"\"\""
      ]
     },
     "execution_count": 15,
     "metadata": {},
     "output_type": "execute_result"
    }
   ],
   "source": [
    "model_1.summary()"
   ]
  },
  {
   "cell_type": "markdown",
   "metadata": {},
   "source": [
    "###   Hence the P-value is less than 0.05. So X varibale is significant and also Multiple R-Square value is 0.682. That’s mean this model will predict the output 68.2% time correct"
   ]
  },
  {
   "cell_type": "code",
   "execution_count": 16,
   "metadata": {
    "ExecuteTime": {
     "end_time": "2021-03-28T13:07:02.436245Z",
     "start_time": "2021-03-28T13:07:02.396243Z"
    }
   },
   "outputs": [
    {
     "data": {
      "text/plain": [
       "0     23.072933\n",
       "1     13.178814\n",
       "2     16.476853\n",
       "3     21.423913\n",
       "4     23.072933\n",
       "5     16.476853\n",
       "6     18.125873\n",
       "7     11.529794\n",
       "8     23.072933\n",
       "9     21.423913\n",
       "10    19.774893\n",
       "11    13.178814\n",
       "12    18.125873\n",
       "13    11.529794\n",
       "14    11.529794\n",
       "15    13.178814\n",
       "16    16.476853\n",
       "17    18.125873\n",
       "18     9.880774\n",
       "19    18.125873\n",
       "20    14.827833\n",
       "dtype: float64"
      ]
     },
     "execution_count": 16,
     "metadata": {},
     "output_type": "execute_result"
    }
   ],
   "source": [
    "Predict_1 = model_1.predict(data_time.iloc[:,1])\n",
    "Predict_1"
   ]
  },
  {
   "cell_type": "code",
   "execution_count": 17,
   "metadata": {
    "ExecuteTime": {
     "end_time": "2021-03-28T13:07:06.452996Z",
     "start_time": "2021-03-28T13:07:06.428987Z"
    }
   },
   "outputs": [
    {
     "data": {
      "text/plain": [
       "2.7916503270617654"
      ]
     },
     "execution_count": 17,
     "metadata": {},
     "output_type": "execute_result"
    }
   ],
   "source": [
    "root_mean_square_error_1 =  np.sqrt(np.mean((np.array(data_time['Delivery_Time'])-np.array(Predict_1))**2))\n",
    "root_mean_square_error_1"
   ]
  },
  {
   "cell_type": "code",
   "execution_count": 18,
   "metadata": {
    "ExecuteTime": {
     "end_time": "2021-03-28T13:07:10.526612Z",
     "start_time": "2021-03-28T13:07:09.669576Z"
    }
   },
   "outputs": [
    {
     "data": {
      "text/plain": [
       "Text(0, 0.5, 'Delivery Time')"
      ]
     },
     "execution_count": 18,
     "metadata": {},
     "output_type": "execute_result"
    },
    {
     "data": {
      "image/png": "[encoded data removed]",
      "text/plain": [
       "<Figure size 432x288 with 1 Axes>"
      ]
     },
     "metadata": {
      "needs_background": "light"
     },
     "output_type": "display_data"
    }
   ],
   "source": [
    "plt.scatter(x=data_time['Sorting_Time'],y=data_time['Delivery_Time'],color='red')\n",
    "plt.plot(data_time['Sorting_Time'],Predict_1 ,color='green')\n",
    "plt.xlabel('Sorting Time')\n",
    "plt.ylabel('Delivery Time')"
   ]
  },
  {
   "cell_type": "markdown",
   "metadata": {},
   "source": [
    "##  Second linear regression model  using logarithmetic \n",
    "\n",
    "###  Taking log of predictor variable "
   ]
  },
  {
   "cell_type": "code",
   "execution_count": 19,
   "metadata": {
    "ExecuteTime": {
     "end_time": "2021-03-28T13:07:34.672257Z",
     "start_time": "2021-03-28T13:07:34.624249Z"
    }
   },
   "outputs": [],
   "source": [
    "model_2 = slg.ols('Delivery_Time~np.log(Sorting_Time)',data=data_time).fit()"
   ]
  },
  {
   "cell_type": "code",
   "execution_count": 20,
   "metadata": {
    "ExecuteTime": {
     "end_time": "2021-03-28T13:07:35.885102Z",
     "start_time": "2021-03-28T13:07:35.813098Z"
    }
   },
   "outputs": [
    {
     "data": {
      "text/html": [
       "<table class=\"simpletable\">\n",
       "<caption>OLS Regression Results</caption>\n",
       "<tr>\n",
       "  <th>Dep. Variable:</th>      <td>Delivery_Time</td>  <th>  R-squared:         </th> <td>   0.695</td>\n",
       "</tr>\n",
       "<tr>\n",
       "  <th>Model:</th>                   <td>OLS</td>       <th>  Adj. R-squared:    </th> <td>   0.679</td>\n",
       "</tr>\n",
       "<tr>\n",
       "  <th>Method:</th>             <td>Least Squares</td>  <th>  F-statistic:       </th> <td>   43.39</td>\n",
       "</tr>\n",
       "<tr>\n",
       "  <th>Date:</th>             <td>Sun, 28 Mar 2021</td> <th>  Prob (F-statistic):</th> <td>2.64e-06</td>\n",
       "</tr>\n",
       "<tr>\n",
       "  <th>Time:</th>                 <td>18:37:35</td>     <th>  Log-Likelihood:    </th> <td> -50.912</td>\n",
       "</tr>\n",
       "<tr>\n",
       "  <th>No. Observations:</th>      <td>    21</td>      <th>  AIC:               </th> <td>   105.8</td>\n",
       "</tr>\n",
       "<tr>\n",
       "  <th>Df Residuals:</th>          <td>    19</td>      <th>  BIC:               </th> <td>   107.9</td>\n",
       "</tr>\n",
       "<tr>\n",
       "  <th>Df Model:</th>              <td>     1</td>      <th>                     </th>     <td> </td>   \n",
       "</tr>\n",
       "<tr>\n",
       "  <th>Covariance Type:</th>      <td>nonrobust</td>    <th>                     </th>     <td> </td>   \n",
       "</tr>\n",
       "</table>\n",
       "<table class=\"simpletable\">\n",
       "<tr>\n",
       "            <td></td>              <th>coef</th>     <th>std err</th>      <th>t</th>      <th>P>|t|</th>  <th>[0.025</th>    <th>0.975]</th>  \n",
       "</tr>\n",
       "<tr>\n",
       "  <th>Intercept</th>            <td>    1.1597</td> <td>    2.455</td> <td>    0.472</td> <td> 0.642</td> <td>   -3.978</td> <td>    6.297</td>\n",
       "</tr>\n",
       "<tr>\n",
       "  <th>np.log(Sorting_Time)</th> <td>    9.0434</td> <td>    1.373</td> <td>    6.587</td> <td> 0.000</td> <td>    6.170</td> <td>   11.917</td>\n",
       "</tr>\n",
       "</table>\n",
       "<table class=\"simpletable\">\n",
       "<tr>\n",
       "  <th>Omnibus:</th>       <td> 5.552</td> <th>  Durbin-Watson:     </th> <td>   1.427</td>\n",
       "</tr>\n",
       "<tr>\n",
       "  <th>Prob(Omnibus):</th> <td> 0.062</td> <th>  Jarque-Bera (JB):  </th> <td>   3.481</td>\n",
       "</tr>\n",
       "<tr>\n",
       "  <th>Skew:</th>          <td> 0.946</td> <th>  Prob(JB):          </th> <td>   0.175</td>\n",
       "</tr>\n",
       "<tr>\n",
       "  <th>Kurtosis:</th>      <td> 3.628</td> <th>  Cond. No.          </th> <td>    9.08</td>\n",
       "</tr>\n",
       "</table><br/><br/>Notes:<br/>[1] Standard Errors assume that the covariance matrix of the errors is correctly specified."
      ],
      "text/plain": [
       "<class 'statsmodels.iolib.summary.Summary'>\n",
       "\"\"\"\n",
       "                            OLS Regression Results                            \n",
       "==============================================================================\n",
       "Dep. Variable:          Delivery_Time   R-squared:                       0.695\n",
       "Model:                            OLS   Adj. R-squared:                  0.679\n",
       "Method:                 Least Squares   F-statistic:                     43.39\n",
       "Date:                Sun, 28 Mar 2021   Prob (F-statistic):           2.64e-06\n",
       "Time:                        18:37:35   Log-Likelihood:                -50.912\n",
       "No. Observations:                  21   AIC:                             105.8\n",
       "Df Residuals:                      19   BIC:                             107.9\n",
       "Df Model:                           1                                         \n",
       "Covariance Type:            nonrobust                                         \n",
       "========================================================================================\n",
       "                           coef    std err          t      P>|t|      [0.025      0.975]\n",
       "----------------------------------------------------------------------------------------\n",
       "Intercept                1.1597      2.455      0.472      0.642      -3.978       6.297\n",
       "np.log(Sorting_Time)     9.0434      1.373      6.587      0.000       6.170      11.917\n",
       "==============================================================================\n",
       "Omnibus:                        5.552   Durbin-Watson:                   1.427\n",
       "Prob(Omnibus):                  0.062   Jarque-Bera (JB):                3.481\n",
       "Skew:                           0.946   Prob(JB):                        0.175\n",
       "Kurtosis:                       3.628   Cond. No.                         9.08\n",
       "==============================================================================\n",
       "\n",
       "Notes:\n",
       "[1] Standard Errors assume that the covariance matrix of the errors is correctly specified.\n",
       "\"\"\""
      ]
     },
     "execution_count": 20,
     "metadata": {},
     "output_type": "execute_result"
    }
   ],
   "source": [
    "model_2.summary()"
   ]
  },
  {
   "cell_type": "code",
   "execution_count": 21,
   "metadata": {
    "ExecuteTime": {
     "end_time": "2021-03-28T13:07:46.149300Z",
     "start_time": "2021-03-28T13:07:46.101293Z"
    }
   },
   "outputs": [
    {
     "data": {
      "text/plain": [
       "0     21.982913\n",
       "1     13.696517\n",
       "2     17.363305\n",
       "3     21.030094\n",
       "4     21.982913\n",
       "5     17.363305\n",
       "6     18.757354\n",
       "7     11.094889\n",
       "8     21.982913\n",
       "9     21.030094\n",
       "10    19.964933\n",
       "11    13.696517\n",
       "12    18.757354\n",
       "13    11.094889\n",
       "14    11.094889\n",
       "15    13.696517\n",
       "16    17.363305\n",
       "17    18.757354\n",
       "18     7.428100\n",
       "19    18.757354\n",
       "20    15.714496\n",
       "dtype: float64"
      ]
     },
     "execution_count": 21,
     "metadata": {},
     "output_type": "execute_result"
    }
   ],
   "source": [
    "Predict_2 = model_2.predict(pd.DataFrame(data_time['Sorting_Time'])) \n",
    "Predict_2"
   ]
  },
  {
   "cell_type": "code",
   "execution_count": 22,
   "metadata": {
    "ExecuteTime": {
     "end_time": "2021-03-28T13:07:49.565314Z",
     "start_time": "2021-03-28T13:07:49.541309Z"
    }
   },
   "outputs": [
    {
     "data": {
      "text/plain": [
       "2.733171476682066"
      ]
     },
     "execution_count": 22,
     "metadata": {},
     "output_type": "execute_result"
    }
   ],
   "source": [
    "root_mean_square_error_2 = np.sqrt(np.mean((np.array(data_time['Delivery_Time'])-np.array(Predict_2))**2))\n",
    "root_mean_square_error_2"
   ]
  },
  {
   "cell_type": "code",
   "execution_count": 23,
   "metadata": {
    "ExecuteTime": {
     "end_time": "2021-03-28T13:07:51.564127Z",
     "start_time": "2021-03-28T13:07:51.540127Z"
    }
   },
   "outputs": [
    {
     "data": {
      "text/plain": [
       "0.8339325279256244"
      ]
     },
     "execution_count": 23,
     "metadata": {},
     "output_type": "execute_result"
    }
   ],
   "source": [
    "Predict_2.corr(data_time.Delivery_Time)"
   ]
  },
  {
   "cell_type": "code",
   "execution_count": 24,
   "metadata": {
    "ExecuteTime": {
     "end_time": "2021-03-28T13:07:54.134752Z",
     "start_time": "2021-03-28T13:07:53.335780Z"
    }
   },
   "outputs": [
    {
     "data": {
      "text/plain": [
       "Text(0, 0.5, 'Delivery Time')"
      ]
     },
     "execution_count": 24,
     "metadata": {},
     "output_type": "execute_result"
    },
    {
     "data": {
      "image/png": "[encoded data removed]",
      "text/plain": [
       "<Figure size 432x288 with 1 Axes>"
      ]
     },
     "metadata": {
      "needs_background": "light"
     },
     "output_type": "display_data"
    }
   ],
   "source": [
    "plt.scatter(x=data_time['Sorting_Time'],y=data_time['Delivery_Time'],color='green')\n",
    "plt.plot(data_time['Sorting_Time'], Predict_2, color='blue')\n",
    "plt.xlabel('Sorting Time')\n",
    "plt.ylabel('Delivery Time')"
   ]
  },
  {
   "cell_type": "markdown",
   "metadata": {},
   "source": [
    "##   Third linear regression model \n",
    "\n",
    "###  Taking log of the response variable "
   ]
  },
  {
   "cell_type": "code",
   "execution_count": 25,
   "metadata": {
    "ExecuteTime": {
     "end_time": "2021-03-28T13:08:14.741303Z",
     "start_time": "2021-03-28T13:08:14.693292Z"
    }
   },
   "outputs": [],
   "source": [
    "model_3 = slg.ols('np.log(Delivery_Time)~Sorting_Time',data=data_time).fit()"
   ]
  },
  {
   "cell_type": "code",
   "execution_count": 26,
   "metadata": {
    "ExecuteTime": {
     "end_time": "2021-03-28T13:08:15.693656Z",
     "start_time": "2021-03-28T13:08:15.613647Z"
    }
   },
   "outputs": [
    {
     "data": {
      "text/html": [
       "<table class=\"simpletable\">\n",
       "<caption>OLS Regression Results</caption>\n",
       "<tr>\n",
       "  <th>Dep. Variable:</th>    <td>np.log(Delivery_Time)</td> <th>  R-squared:         </th> <td>   0.711</td>\n",
       "</tr>\n",
       "<tr>\n",
       "  <th>Model:</th>                     <td>OLS</td>          <th>  Adj. R-squared:    </th> <td>   0.696</td>\n",
       "</tr>\n",
       "<tr>\n",
       "  <th>Method:</th>               <td>Least Squares</td>     <th>  F-statistic:       </th> <td>   46.73</td>\n",
       "</tr>\n",
       "<tr>\n",
       "  <th>Date:</th>               <td>Sun, 28 Mar 2021</td>    <th>  Prob (F-statistic):</th> <td>1.59e-06</td>\n",
       "</tr>\n",
       "<tr>\n",
       "  <th>Time:</th>                   <td>18:38:15</td>        <th>  Log-Likelihood:    </th> <td>  7.7920</td>\n",
       "</tr>\n",
       "<tr>\n",
       "  <th>No. Observations:</th>        <td>    21</td>         <th>  AIC:               </th> <td>  -11.58</td>\n",
       "</tr>\n",
       "<tr>\n",
       "  <th>Df Residuals:</th>            <td>    19</td>         <th>  BIC:               </th> <td>  -9.495</td>\n",
       "</tr>\n",
       "<tr>\n",
       "  <th>Df Model:</th>                <td>     1</td>         <th>                     </th>     <td> </td>   \n",
       "</tr>\n",
       "<tr>\n",
       "  <th>Covariance Type:</th>        <td>nonrobust</td>       <th>                     </th>     <td> </td>   \n",
       "</tr>\n",
       "</table>\n",
       "<table class=\"simpletable\">\n",
       "<tr>\n",
       "        <td></td>          <th>coef</th>     <th>std err</th>      <th>t</th>      <th>P>|t|</th>  <th>[0.025</th>    <th>0.975]</th>  \n",
       "</tr>\n",
       "<tr>\n",
       "  <th>Intercept</th>    <td>    2.1214</td> <td>    0.103</td> <td>   20.601</td> <td> 0.000</td> <td>    1.906</td> <td>    2.337</td>\n",
       "</tr>\n",
       "<tr>\n",
       "  <th>Sorting_Time</th> <td>    0.1056</td> <td>    0.015</td> <td>    6.836</td> <td> 0.000</td> <td>    0.073</td> <td>    0.138</td>\n",
       "</tr>\n",
       "</table>\n",
       "<table class=\"simpletable\">\n",
       "<tr>\n",
       "  <th>Omnibus:</th>       <td> 1.238</td> <th>  Durbin-Watson:     </th> <td>   1.325</td>\n",
       "</tr>\n",
       "<tr>\n",
       "  <th>Prob(Omnibus):</th> <td> 0.538</td> <th>  Jarque-Bera (JB):  </th> <td>   0.544</td>\n",
       "</tr>\n",
       "<tr>\n",
       "  <th>Skew:</th>          <td> 0.393</td> <th>  Prob(JB):          </th> <td>   0.762</td>\n",
       "</tr>\n",
       "<tr>\n",
       "  <th>Kurtosis:</th>      <td> 3.067</td> <th>  Cond. No.          </th> <td>    18.3</td>\n",
       "</tr>\n",
       "</table><br/><br/>Notes:<br/>[1] Standard Errors assume that the covariance matrix of the errors is correctly specified."
      ],
      "text/plain": [
       "<class 'statsmodels.iolib.summary.Summary'>\n",
       "\"\"\"\n",
       "                              OLS Regression Results                             \n",
       "=================================================================================\n",
       "Dep. Variable:     np.log(Delivery_Time)   R-squared:                       0.711\n",
       "Model:                               OLS   Adj. R-squared:                  0.696\n",
       "Method:                    Least Squares   F-statistic:                     46.73\n",
       "Date:                   Sun, 28 Mar 2021   Prob (F-statistic):           1.59e-06\n",
       "Time:                           18:38:15   Log-Likelihood:                 7.7920\n",
       "No. Observations:                     21   AIC:                            -11.58\n",
       "Df Residuals:                         19   BIC:                            -9.495\n",
       "Df Model:                              1                                         \n",
       "Covariance Type:               nonrobust                                         \n",
       "================================================================================\n",
       "                   coef    std err          t      P>|t|      [0.025      0.975]\n",
       "--------------------------------------------------------------------------------\n",
       "Intercept        2.1214      0.103     20.601      0.000       1.906       2.337\n",
       "Sorting_Time     0.1056      0.015      6.836      0.000       0.073       0.138\n",
       "==============================================================================\n",
       "Omnibus:                        1.238   Durbin-Watson:                   1.325\n",
       "Prob(Omnibus):                  0.538   Jarque-Bera (JB):                0.544\n",
       "Skew:                           0.393   Prob(JB):                        0.762\n",
       "Kurtosis:                       3.067   Cond. No.                         18.3\n",
       "==============================================================================\n",
       "\n",
       "Notes:\n",
       "[1] Standard Errors assume that the covariance matrix of the errors is correctly specified.\n",
       "\"\"\""
      ]
     },
     "execution_count": 26,
     "metadata": {},
     "output_type": "execute_result"
    }
   ],
   "source": [
    "model_3.summary()"
   ]
  },
  {
   "cell_type": "code",
   "execution_count": 27,
   "metadata": {
    "ExecuteTime": {
     "end_time": "2021-03-28T13:08:25.420023Z",
     "start_time": "2021-03-28T13:08:25.380020Z"
    }
   },
   "outputs": [
    {
     "data": {
      "text/plain": [
       "0     3.176888\n",
       "1     2.543578\n",
       "2     2.754681\n",
       "3     3.071336\n",
       "4     3.176888\n",
       "5     2.754681\n",
       "6     2.860233\n",
       "7     2.438027\n",
       "8     3.176888\n",
       "9     3.071336\n",
       "10    2.965785\n",
       "11    2.543578\n",
       "12    2.860233\n",
       "13    2.438027\n",
       "14    2.438027\n",
       "15    2.543578\n",
       "16    2.754681\n",
       "17    2.860233\n",
       "18    2.332475\n",
       "19    2.860233\n",
       "20    2.649130\n",
       "dtype: float64"
      ]
     },
     "execution_count": 27,
     "metadata": {},
     "output_type": "execute_result"
    }
   ],
   "source": [
    "Predict_3_log =  model_3.predict(pd.DataFrame(data_time['Sorting_Time'])) \n",
    "Predict_3_log"
   ]
  },
  {
   "cell_type": "code",
   "execution_count": 28,
   "metadata": {
    "ExecuteTime": {
     "end_time": "2021-03-28T13:08:28.899878Z",
     "start_time": "2021-03-28T13:08:28.875883Z"
    }
   },
   "outputs": [
    {
     "data": {
      "text/plain": [
       "0     23.972032\n",
       "1     12.725123\n",
       "2     15.716034\n",
       "3     21.570707\n",
       "4     23.972032\n",
       "5     15.716034\n",
       "6     17.465597\n",
       "7     11.450423\n",
       "8     23.972032\n",
       "9     21.570707\n",
       "10    19.409927\n",
       "11    12.725123\n",
       "12    17.465597\n",
       "13    11.450423\n",
       "14    11.450423\n",
       "15    12.725123\n",
       "16    15.716034\n",
       "17    17.465597\n",
       "18    10.303411\n",
       "19    17.465597\n",
       "20    14.141728\n",
       "dtype: float64"
      ]
     },
     "execution_count": 28,
     "metadata": {},
     "output_type": "execute_result"
    }
   ],
   "source": [
    "Predict_3=np.exp(Predict_3_log)\n",
    "Predict_3"
   ]
  },
  {
   "cell_type": "code",
   "execution_count": 29,
   "metadata": {
    "ExecuteTime": {
     "end_time": "2021-03-28T13:08:31.891821Z",
     "start_time": "2021-03-28T13:08:31.867812Z"
    }
   },
   "outputs": [
    {
     "data": {
      "text/plain": [
       "2.940250323056201"
      ]
     },
     "execution_count": 29,
     "metadata": {},
     "output_type": "execute_result"
    }
   ],
   "source": [
    "root_mean_square_error_3 = np.sqrt(np.mean((np.array(data_time['Delivery_Time'])-np.array(Predict_3))**2))\n",
    "root_mean_square_error_3"
   ]
  },
  {
   "cell_type": "code",
   "execution_count": 30,
   "metadata": {
    "ExecuteTime": {
     "end_time": "2021-03-28T13:08:34.653043Z",
     "start_time": "2021-03-28T13:08:34.621042Z"
    }
   },
   "outputs": [
    {
     "data": {
      "text/plain": [
       "0.8085780108289262"
      ]
     },
     "execution_count": 30,
     "metadata": {},
     "output_type": "execute_result"
    }
   ],
   "source": [
    "Predict_3.corr(data_time.Delivery_Time)"
   ]
  },
  {
   "cell_type": "code",
   "execution_count": 31,
   "metadata": {
    "ExecuteTime": {
     "end_time": "2021-03-28T13:08:37.733797Z",
     "start_time": "2021-03-28T13:08:36.795690Z"
    }
   },
   "outputs": [
    {
     "data": {
      "text/plain": [
       "Text(0, 0.5, 'Delivery Time')"
      ]
     },
     "execution_count": 31,
     "metadata": {},
     "output_type": "execute_result"
    },
    {
     "data": {
      "image/png": "[encoded data removed]",
      "text/plain": [
       "<Figure size 432x288 with 1 Axes>"
      ]
     },
     "metadata": {
      "needs_background": "light"
     },
     "output_type": "display_data"
    }
   ],
   "source": [
    "plt.scatter(x=data_time['Sorting_Time'],y=data_time['Delivery_Time'],color='green')\n",
    "plt.plot(data_time['Sorting_Time'], Predict_3, color='blue')\n",
    "plt.xlabel('Sorting Time')\n",
    "plt.ylabel('Delivery Time')"
   ]
  },
  {
   "cell_type": "markdown",
   "metadata": {},
   "source": [
    "##  Fourth linear regression model \n",
    "\n",
    "###   Taking log of both response and predictor variable "
   ]
  },
  {
   "cell_type": "code",
   "execution_count": 32,
   "metadata": {
    "ExecuteTime": {
     "end_time": "2021-03-28T13:09:15.478097Z",
     "start_time": "2021-03-28T13:09:15.430100Z"
    }
   },
   "outputs": [],
   "source": [
    "model_4 = slg.ols(\"np.log(Delivery_Time)~np.log(Sorting_Time)\",data=data_time).fit()"
   ]
  },
  {
   "cell_type": "code",
   "execution_count": 33,
   "metadata": {
    "ExecuteTime": {
     "end_time": "2021-03-28T13:09:16.492190Z",
     "start_time": "2021-03-28T13:09:16.404182Z"
    }
   },
   "outputs": [
    {
     "data": {
      "text/html": [
       "<table class=\"simpletable\">\n",
       "<caption>OLS Regression Results</caption>\n",
       "<tr>\n",
       "  <th>Dep. Variable:</th>    <td>np.log(Delivery_Time)</td> <th>  R-squared:         </th> <td>   0.772</td>\n",
       "</tr>\n",
       "<tr>\n",
       "  <th>Model:</th>                     <td>OLS</td>          <th>  Adj. R-squared:    </th> <td>   0.760</td>\n",
       "</tr>\n",
       "<tr>\n",
       "  <th>Method:</th>               <td>Least Squares</td>     <th>  F-statistic:       </th> <td>   64.39</td>\n",
       "</tr>\n",
       "<tr>\n",
       "  <th>Date:</th>               <td>Sun, 28 Mar 2021</td>    <th>  Prob (F-statistic):</th> <td>1.60e-07</td>\n",
       "</tr>\n",
       "<tr>\n",
       "  <th>Time:</th>                   <td>18:39:16</td>        <th>  Log-Likelihood:    </th> <td>  10.291</td>\n",
       "</tr>\n",
       "<tr>\n",
       "  <th>No. Observations:</th>        <td>    21</td>         <th>  AIC:               </th> <td>  -16.58</td>\n",
       "</tr>\n",
       "<tr>\n",
       "  <th>Df Residuals:</th>            <td>    19</td>         <th>  BIC:               </th> <td>  -14.49</td>\n",
       "</tr>\n",
       "<tr>\n",
       "  <th>Df Model:</th>                <td>     1</td>         <th>                     </th>     <td> </td>   \n",
       "</tr>\n",
       "<tr>\n",
       "  <th>Covariance Type:</th>        <td>nonrobust</td>       <th>                     </th>     <td> </td>   \n",
       "</tr>\n",
       "</table>\n",
       "<table class=\"simpletable\">\n",
       "<tr>\n",
       "            <td></td>              <th>coef</th>     <th>std err</th>      <th>t</th>      <th>P>|t|</th>  <th>[0.025</th>    <th>0.975]</th>  \n",
       "</tr>\n",
       "<tr>\n",
       "  <th>Intercept</th>            <td>    1.7420</td> <td>    0.133</td> <td>   13.086</td> <td> 0.000</td> <td>    1.463</td> <td>    2.021</td>\n",
       "</tr>\n",
       "<tr>\n",
       "  <th>np.log(Sorting_Time)</th> <td>    0.5975</td> <td>    0.074</td> <td>    8.024</td> <td> 0.000</td> <td>    0.442</td> <td>    0.753</td>\n",
       "</tr>\n",
       "</table>\n",
       "<table class=\"simpletable\">\n",
       "<tr>\n",
       "  <th>Omnibus:</th>       <td> 1.871</td> <th>  Durbin-Watson:     </th> <td>   1.322</td>\n",
       "</tr>\n",
       "<tr>\n",
       "  <th>Prob(Omnibus):</th> <td> 0.392</td> <th>  Jarque-Bera (JB):  </th> <td>   1.170</td>\n",
       "</tr>\n",
       "<tr>\n",
       "  <th>Skew:</th>          <td> 0.577</td> <th>  Prob(JB):          </th> <td>   0.557</td>\n",
       "</tr>\n",
       "<tr>\n",
       "  <th>Kurtosis:</th>      <td> 2.916</td> <th>  Cond. No.          </th> <td>    9.08</td>\n",
       "</tr>\n",
       "</table><br/><br/>Notes:<br/>[1] Standard Errors assume that the covariance matrix of the errors is correctly specified."
      ],
      "text/plain": [
       "<class 'statsmodels.iolib.summary.Summary'>\n",
       "\"\"\"\n",
       "                              OLS Regression Results                             \n",
       "=================================================================================\n",
       "Dep. Variable:     np.log(Delivery_Time)   R-squared:                       0.772\n",
       "Model:                               OLS   Adj. R-squared:                  0.760\n",
       "Method:                    Least Squares   F-statistic:                     64.39\n",
       "Date:                   Sun, 28 Mar 2021   Prob (F-statistic):           1.60e-07\n",
       "Time:                           18:39:16   Log-Likelihood:                 10.291\n",
       "No. Observations:                     21   AIC:                            -16.58\n",
       "Df Residuals:                         19   BIC:                            -14.49\n",
       "Df Model:                              1                                         \n",
       "Covariance Type:               nonrobust                                         \n",
       "========================================================================================\n",
       "                           coef    std err          t      P>|t|      [0.025      0.975]\n",
       "----------------------------------------------------------------------------------------\n",
       "Intercept                1.7420      0.133     13.086      0.000       1.463       2.021\n",
       "np.log(Sorting_Time)     0.5975      0.074      8.024      0.000       0.442       0.753\n",
       "==============================================================================\n",
       "Omnibus:                        1.871   Durbin-Watson:                   1.322\n",
       "Prob(Omnibus):                  0.392   Jarque-Bera (JB):                1.170\n",
       "Skew:                           0.577   Prob(JB):                        0.557\n",
       "Kurtosis:                       2.916   Cond. No.                         9.08\n",
       "==============================================================================\n",
       "\n",
       "Notes:\n",
       "[1] Standard Errors assume that the covariance matrix of the errors is correctly specified.\n",
       "\"\"\""
      ]
     },
     "execution_count": 33,
     "metadata": {},
     "output_type": "execute_result"
    }
   ],
   "source": [
    "model_4.summary()"
   ]
  },
  {
   "cell_type": "code",
   "execution_count": 34,
   "metadata": {
    "ExecuteTime": {
     "end_time": "2021-03-28T13:09:21.715903Z",
     "start_time": "2021-03-28T13:09:21.667902Z"
    }
   },
   "outputs": [
    {
     "data": {
      "text/plain": [
       "0     3.117833\n",
       "1     2.570329\n",
       "2     2.812603\n",
       "3     3.054878\n",
       "4     3.117833\n",
       "5     2.812603\n",
       "6     2.904712\n",
       "7     2.398432\n",
       "8     3.117833\n",
       "9     3.054878\n",
       "10    2.984500\n",
       "11    2.570329\n",
       "12    2.904712\n",
       "13    2.398432\n",
       "14    2.398432\n",
       "15    2.570329\n",
       "16    2.812603\n",
       "17    2.904712\n",
       "18    2.156158\n",
       "19    2.904712\n",
       "20    2.703662\n",
       "dtype: float64"
      ]
     },
     "execution_count": 34,
     "metadata": {},
     "output_type": "execute_result"
    }
   ],
   "source": [
    "Predict_4_log = model_4.predict(pd.DataFrame(data_time[\"Sorting_Time\"]))\n",
    "Predict_4_log"
   ]
  },
  {
   "cell_type": "code",
   "execution_count": 35,
   "metadata": {
    "ExecuteTime": {
     "end_time": "2021-03-28T13:09:23.651394Z",
     "start_time": "2021-03-28T13:09:23.619395Z"
    }
   },
   "outputs": [
    {
     "data": {
      "text/plain": [
       "0     22.597360\n",
       "1     13.070123\n",
       "2     16.653216\n",
       "3     21.218593\n",
       "4     22.597360\n",
       "5     16.653216\n",
       "6     18.259981\n",
       "7     11.005911\n",
       "8     22.597360\n",
       "9     21.218593\n",
       "10    19.776608\n",
       "11    13.070123\n",
       "12    18.259981\n",
       "13    11.005911\n",
       "14    11.005911\n",
       "15    13.070123\n",
       "16    16.653216\n",
       "17    18.259981\n",
       "18     8.637887\n",
       "19    18.259981\n",
       "20    14.934324\n",
       "dtype: float64"
      ]
     },
     "execution_count": 35,
     "metadata": {},
     "output_type": "execute_result"
    }
   ],
   "source": [
    "Predict_4 = np.exp(Predict_4_log)\n",
    "Predict_4"
   ]
  },
  {
   "cell_type": "code",
   "execution_count": 36,
   "metadata": {
    "ExecuteTime": {
     "end_time": "2021-03-28T13:09:27.123435Z",
     "start_time": "2021-03-28T13:09:27.099435Z"
    }
   },
   "outputs": [
    {
     "data": {
      "text/plain": [
       "2.7458288976145497"
      ]
     },
     "execution_count": 36,
     "metadata": {},
     "output_type": "execute_result"
    }
   ],
   "source": [
    "root_mean_square_error_4 = np.sqrt(np.mean((np.array(data_time['Delivery_Time'])-np.array(Predict_4))**2))\n",
    "root_mean_square_error_4"
   ]
  },
  {
   "cell_type": "code",
   "execution_count": 37,
   "metadata": {
    "ExecuteTime": {
     "end_time": "2021-03-28T13:09:27.987280Z",
     "start_time": "2021-03-28T13:09:27.963280Z"
    }
   },
   "outputs": [
    {
     "data": {
      "text/plain": [
       "0.8331464716437293"
      ]
     },
     "execution_count": 37,
     "metadata": {},
     "output_type": "execute_result"
    }
   ],
   "source": [
    "Predict_4.corr(data_time.Delivery_Time)"
   ]
  },
  {
   "cell_type": "code",
   "execution_count": 38,
   "metadata": {
    "ExecuteTime": {
     "end_time": "2021-03-28T13:09:29.755620Z",
     "start_time": "2021-03-28T13:09:28.963517Z"
    }
   },
   "outputs": [
    {
     "data": {
      "text/plain": [
       "Text(0, 0.5, 'Delivery Time')"
      ]
     },
     "execution_count": 38,
     "metadata": {},
     "output_type": "execute_result"
    },
    {
     "data": {
      "image/png": "[encoded data removed]",
      "text/plain": [
       "<Figure size 432x288 with 1 Axes>"
      ]
     },
     "metadata": {
      "needs_background": "light"
     },
     "output_type": "display_data"
    }
   ],
   "source": [
    "plt.scatter(x=data_time['Sorting_Time'],y=data_time['Delivery_Time'],color='green')\n",
    "plt.plot(data_time['Sorting_Time'], Predict_4, color='blue')\n",
    "plt.xlabel('Sorting Time')\n",
    "plt.ylabel('Delivery Time')"
   ]
  },
  {
   "cell_type": "markdown",
   "metadata": {},
   "source": [
    "###   Hence the P-value is less than 0.05. So X varibale is significant and also Multiple R-Square value is 0.772. That’s mean this model will predict the output 77.2% time correct. so this model is better than the above considered models "
   ]
  },
  {
   "cell_type": "code",
   "execution_count": 39,
   "metadata": {
    "ExecuteTime": {
     "end_time": "2021-03-28T13:09:45.541415Z",
     "start_time": "2021-03-28T13:09:45.485398Z"
    }
   },
   "outputs": [
    {
     "data": {
      "text/html": [
       "<div>\n",
       "<style scoped>\n",
       "    .dataframe tbody tr th:only-of-type {\n",
       "        vertical-align: middle;\n",
       "    }\n",
       "\n",
       "    .dataframe tbody tr th {\n",
       "        vertical-align: top;\n",
       "    }\n",
       "\n",
       "    .dataframe thead th {\n",
       "        text-align: right;\n",
       "    }\n",
       "</style>\n",
       "<table border=\"1\" class=\"dataframe\">\n",
       "  <thead>\n",
       "    <tr style=\"text-align: right;\">\n",
       "      <th></th>\n",
       "      <th>MODEL</th>\n",
       "      <th>RMSE_Values</th>\n",
       "      <th>Rsquare</th>\n",
       "    </tr>\n",
       "  </thead>\n",
       "  <tbody>\n",
       "    <tr>\n",
       "      <th>0</th>\n",
       "      <td>root_mean_square_error_1</td>\n",
       "      <td>2.791650</td>\n",
       "      <td>0.682271</td>\n",
       "    </tr>\n",
       "    <tr>\n",
       "      <th>1</th>\n",
       "      <td>root_mean_square_error_2</td>\n",
       "      <td>2.733171</td>\n",
       "      <td>0.695443</td>\n",
       "    </tr>\n",
       "    <tr>\n",
       "      <th>2</th>\n",
       "      <td>root_mean_square_error_3</td>\n",
       "      <td>2.940250</td>\n",
       "      <td>0.710948</td>\n",
       "    </tr>\n",
       "    <tr>\n",
       "      <th>3</th>\n",
       "      <td>root_mean_square_error_4</td>\n",
       "      <td>2.745829</td>\n",
       "      <td>0.772161</td>\n",
       "    </tr>\n",
       "  </tbody>\n",
       "</table>\n",
       "</div>"
      ],
      "text/plain": [
       "                      MODEL  RMSE_Values   Rsquare\n",
       "0  root_mean_square_error_1     2.791650  0.682271\n",
       "1  root_mean_square_error_2     2.733171  0.695443\n",
       "2  root_mean_square_error_3     2.940250  0.710948\n",
       "3  root_mean_square_error_4     2.745829  0.772161"
      ]
     },
     "execution_count": 39,
     "metadata": {},
     "output_type": "execute_result"
    }
   ],
   "source": [
    "data = {\"MODEL\":pd.Series([\"root_mean_square_error_1\",\"root_mean_square_error_2\",\"root_mean_square_error_3\",\"root_mean_square_error_4\"]),\n",
    "        \"RMSE_Values\":pd.Series([root_mean_square_error_1,root_mean_square_error_2,root_mean_square_error_3,root_mean_square_error_4]),\n",
    "        \"Rsquare\":pd.Series([model_1.rsquared,model_2.rsquared,model_3.rsquared,model_4.rsquared])}\n",
    "table=pd.DataFrame(data)\n",
    "table "
   ]
  }
 ],
 "metadata": {
  "kernelspec": {
   "display_name": "Python 3",
   "language": "python",
   "name": "python3"
  },
  "language_info": {
   "codemirror_mode": {
    "name": "ipython",
    "version": 3
   },
   "file_extension": ".py",
   "mimetype": "text/x-python",
   "name": "python",
   "nbconvert_exporter": "python",
   "pygments_lexer": "ipython3",
   "version": "3.8.5"
  },
  "varInspector": {
   "cols": {
    "lenName": 16,
    "lenType": 16,
    "lenVar": 40
   },
   "kernels_config": {
    "python": {
     "delete_cmd_postfix": "",
     "delete_cmd_prefix": "del ",
     "library": "var_list.py",
     "varRefreshCmd": "print(var_dic_list())"
    },
    "r": {
     "delete_cmd_postfix": ") ",
     "delete_cmd_prefix": "rm(",
     "library": "var_list.r",
     "varRefreshCmd": "cat(var_dic_list()) "
    }
   },
   "types_to_exclude": [
    "module",
    "function",
    "builtin_function_or_method",
    "instance",
    "_Feature"
   ],
   "window_display": false
  }
 },
 "nbformat": 4,
 "nbformat_minor": 4
}
